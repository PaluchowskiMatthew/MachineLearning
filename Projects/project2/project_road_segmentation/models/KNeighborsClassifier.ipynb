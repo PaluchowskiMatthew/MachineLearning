{
 "cells": [
  {
   "cell_type": "code",
   "execution_count": 1,
   "metadata": {
    "collapsed": false
   },
   "outputs": [],
   "source": [
    "%matplotlib inline\n",
    "%load_ext autoreload\n",
    "%autoreload 2\n",
    "\n",
    "from sklearn.preprocessing import PolynomialFeatures, normalize\n",
    "from sklearn.neighbors import KNeighborsClassifier\n",
    "from sklearn.model_selection import cross_val_score\n",
    "from sklearn.metrics import f1_score, confusion_matrix, accuracy_score\n",
    "\n",
    "from helpers.feature_extractors import extract_features, extract_features_2d, extract_features_edge, extract_features_cogrey\n",
    "from helpers.metric_helpers import compute_true_positive_rate\n",
    "from helpers.visualization_helpers import pretty_confusion, label_to_img\n",
    "from helpers.dataset_preprocessing import build_model_data, load_image, create_dataset, extract_patches, compute_input_features, compute_output_features\n",
    "from helpers.temp_helpers import *\n",
    "import matplotlib.pyplot as plt\n",
    "\n",
    "from PIL import Image\n"
   ]
  },
  {
   "cell_type": "markdown",
   "metadata": {},
   "source": [
    "# K Nearest Neighbors Classifier\n",
    "This notebook shows a comparison of different parameters and features used to train a K Nearest Neighbor Classifier."
   ]
  },
  {
   "cell_type": "code",
   "execution_count": 2,
   "metadata": {
    "collapsed": false
   },
   "outputs": [],
   "source": [
    "ROOT_DIR = \"training/\"\n",
    "TRAIN_FRACTION = 0.8\n",
    "FOREGROUND_THRESHOLD = 0.25\n",
    "patch_size = 16\n",
    "width = 400\n",
    "height = 400\n",
    "n_img = 10\n",
    "root_dir = \"training/\""
   ]
  },
  {
   "cell_type": "markdown",
   "metadata": {},
   "source": [
    "# Extract 2d features"
   ]
  },
  {
   "cell_type": "code",
   "execution_count": 3,
   "metadata": {
    "collapsed": false
   },
   "outputs": [
    {
     "name": "stdout",
     "output_type": "stream",
     "text": [
      "Original loaded dataset size: 10\n",
      "X [(6250, 2)] and Y [(6250,)]\n"
     ]
    },
    {
     "data": {
      "text/plain": [
       "KNeighborsClassifier(algorithm='auto', leaf_size=30, metric='minkowski',\n",
       "           metric_params=None, n_jobs=1, n_neighbors=5, p=2,\n",
       "           weights='uniform')"
      ]
     },
     "execution_count": 3,
     "metadata": {},
     "output_type": "execute_result"
    }
   ],
   "source": [
    "X1, Y1 = build_model_data(root_dir, extract_features_2d, patch_size=patch_size, n_img=n_img)\n",
    "X1 = normalize(X1)\n",
    "neigh1 = KNeighborsClassifier(n_neighbors=5)\n",
    "neigh1.fit(X1, Y1)"
   ]
  },
  {
   "cell_type": "markdown",
   "metadata": {},
   "source": [
    "# Extract 6d features"
   ]
  },
  {
   "cell_type": "code",
   "execution_count": 4,
   "metadata": {
    "collapsed": false
   },
   "outputs": [
    {
     "name": "stdout",
     "output_type": "stream",
     "text": [
      "Original loaded dataset size: 10\n",
      "X [(6250, 6)] and Y [(6250,)]\n"
     ]
    },
    {
     "data": {
      "text/plain": [
       "KNeighborsClassifier(algorithm='auto', leaf_size=30, metric='minkowski',\n",
       "           metric_params=None, n_jobs=1, n_neighbors=5, p=2,\n",
       "           weights='uniform')"
      ]
     },
     "execution_count": 4,
     "metadata": {},
     "output_type": "execute_result"
    }
   ],
   "source": [
    "X2, Y2 = build_model_data(root_dir, extract_features, patch_size=patch_size, n_img=n_img)\n",
    "X2 = normalize(X2)\n",
    "neigh2 = KNeighborsClassifier(n_neighbors=5)\n",
    "neigh2.fit(X2, Y2)"
   ]
  },
  {
   "cell_type": "markdown",
   "metadata": {},
   "source": [
    "# Add canny edge detector"
   ]
  },
  {
   "cell_type": "code",
   "execution_count": 5,
   "metadata": {
    "collapsed": false
   },
   "outputs": [
    {
     "name": "stdout",
     "output_type": "stream",
     "text": [
      "Original loaded dataset size: 10\n",
      "X [(6250, 7)] and Y [(6250,)]\n"
     ]
    },
    {
     "data": {
      "text/plain": [
       "KNeighborsClassifier(algorithm='auto', leaf_size=30, metric='minkowski',\n",
       "           metric_params=None, n_jobs=1, n_neighbors=5, p=2,\n",
       "           weights='uniform')"
      ]
     },
     "execution_count": 5,
     "metadata": {},
     "output_type": "execute_result"
    }
   ],
   "source": [
    "X3, Y3 = build_model_data(root_dir, extract_features_edge, patch_size=patch_size, n_img=n_img)\n",
    "X3 = normalize(X3)\n",
    "neigh3 = KNeighborsClassifier(n_neighbors=5)\n",
    "neigh3.fit(X3, Y3)"
   ]
  },
  {
   "cell_type": "markdown",
   "metadata": {},
   "source": [
    "# Add polynomial features"
   ]
  },
  {
   "cell_type": "code",
   "execution_count": 6,
   "metadata": {
    "collapsed": false
   },
   "outputs": [
    {
     "name": "stdout",
     "output_type": "stream",
     "text": [
      "Original loaded dataset size: 10\n",
      "X [(6250, 7)] and Y [(6250,)]\n"
     ]
    },
    {
     "data": {
      "text/plain": [
       "KNeighborsClassifier(algorithm='auto', leaf_size=30, metric='minkowski',\n",
       "           metric_params=None, n_jobs=1, n_neighbors=5, p=2,\n",
       "           weights='uniform')"
      ]
     },
     "execution_count": 6,
     "metadata": {},
     "output_type": "execute_result"
    }
   ],
   "source": [
    "X4, Y4 = build_model_data(root_dir, extract_features_edge, patch_size=patch_size, n_img=n_img)\n",
    "poly = PolynomialFeatures(2)\n",
    "X4 = poly.fit_transform(X4)\n",
    "X4 = normalize(X4)\n",
    "neigh4 = KNeighborsClassifier(n_neighbors=5)\n",
    "neigh4.fit(X4, Y4)"
   ]
  },
  {
   "cell_type": "markdown",
   "metadata": {},
   "source": [
    "# Comparison"
   ]
  },
  {
   "cell_type": "code",
   "execution_count": 7,
   "metadata": {
    "collapsed": false
   },
   "outputs": [
    {
     "name": "stdout",
     "output_type": "stream",
     "text": [
      "True positive rate = 0.13344\n",
      "F1-score: 0.544564152791\n",
      "            t/p           road             bg\n",
      "           road           4021            401\n",
      "             bg            994            834\n",
      "\n",
      "\n",
      "True positive rate = 0.20944\n",
      "F1-score: 0.746719908728\n",
      "            t/p           road             bg\n",
      "           road           4053            369\n",
      "             bg            519           1309\n",
      "\n",
      "\n",
      "True positive rate = 0.208\n",
      "F1-score: 0.745199197478\n",
      "            t/p           road             bg\n",
      "           road           4061            361\n",
      "             bg            528           1300\n",
      "\n",
      "\n",
      "True positive rate = 0.20448\n",
      "F1-score: 0.735539568345\n",
      "            t/p           road             bg\n",
      "           road           4053            369\n",
      "             bg            550           1278\n",
      "\n",
      "\n"
     ]
    }
   ],
   "source": [
    "models = [(neigh1, X1, Y1), (neigh2, X2, Y2), (neigh3, X3, Y3), (neigh4, X4, Y4)]\n",
    "\n",
    "for m in models:\n",
    "    Z = m[0].predict(m[1])\n",
    "\n",
    "    TPR = compute_true_positive_rate(m[2],Z)\n",
    "    print('True positive rate = ' + str(TPR))\n",
    "    print('F1-score:', f1_score(m[2],Z))\n",
    "    pretty_confusion([\"road\", \"bg\"], m[2], Z)\n",
    "    print('\\n')"
   ]
  },
  {
   "cell_type": "markdown",
   "metadata": {},
   "source": [
    "# Cross-validation without post-processing"
   ]
  },
  {
   "cell_type": "code",
   "execution_count": 8,
   "metadata": {
    "collapsed": false
   },
   "outputs": [
    {
     "name": "stdout",
     "output_type": "stream",
     "text": [
      "ACCURACY\n",
      "[ 0.7172524   0.70607029  0.704       0.6976      0.6608      0.6848\n",
      "  0.6992      0.6864      0.66346154  0.67948718]\n",
      "mean accuracy: 0.689907140165\n",
      "F1-SCORE\n",
      "[ 0.37894737  0.43902439  0.36860068  0.38834951  0.34969325  0.35409836\n",
      "  0.35616438  0.35947712  0.33121019  0.33333333]\n",
      "mean f1: 0.365889860017\n",
      "\n",
      "\n",
      "ACCURACY\n",
      "[ 0.80191693  0.78434505  0.8336      0.7328      0.7456      0.7472\n",
      "  0.7952      0.7808      0.77083333  0.80128205]\n",
      "mean accuracy: 0.779357736545\n",
      "F1-SCORE\n",
      "[ 0.64571429  0.65116279  0.70454545  0.52691218  0.56198347  0.53529412\n",
      "  0.62573099  0.60058309  0.58064516  0.65745856]\n",
      "mean f1: 0.609003011034\n",
      "\n",
      "\n",
      "ACCURACY\n",
      "[ 0.79392971  0.7715655   0.8288      0.7344      0.7424      0.7456\n",
      "  0.7936      0.7808      0.76762821  0.79967949]\n",
      "mean accuracy: 0.775840289998\n",
      "F1-SCORE\n",
      "[ 0.63037249  0.63239075  0.69688385  0.52840909  0.55890411  0.53097345\n",
      "  0.62170088  0.60518732  0.57971014  0.65181058]\n",
      "mean f1: 0.603634267239\n",
      "\n",
      "\n",
      "ACCURACY\n",
      "[ 0.78913738  0.78115016  0.832       0.752       0.7296      0.7664\n",
      "  0.7936      0.7952      0.78365385  0.79807692]\n",
      "mean accuracy: 0.782081830917\n",
      "F1-SCORE\n",
      "[ 0.63333333  0.65491184  0.70914127  0.57534247  0.51575931  0.57803468\n",
      "  0.62170088  0.61676647  0.61538462  0.60869565]\n",
      "mean f1: 0.612907052091\n",
      "\n",
      "\n"
     ]
    }
   ],
   "source": [
    "for m in models:\n",
    "    cr_val = cross_val_score(m[0], m[1], m[2], cv=10, scoring='accuracy')\n",
    "    print('ACCURACY')\n",
    "    print(cr_val)\n",
    "    print('mean accuracy:', cr_val.mean())\n",
    "    cr_val = cross_val_score(m[0], m[1], m[2], cv=10, scoring='f1')\n",
    "    print('F1-SCORE')\n",
    "    print(cr_val)\n",
    "    print('mean f1:', cr_val.mean())\n",
    "    print('\\n')"
   ]
  },
  {
   "cell_type": "markdown",
   "metadata": {},
   "source": [
    "# Post processing"
   ]
  },
  {
   "cell_type": "code",
   "execution_count": 9,
   "metadata": {
    "collapsed": false
   },
   "outputs": [],
   "source": [
    "from skimage.morphology import *\n",
    "def postprocessing(Z, w, h, patch_size):\n",
    "    n_patch = np.int(w/patch_size)\n",
    "    Z = Z.reshape(-1,n_patch*n_patch)\n",
    "    \n",
    "    Z = np.apply_along_axis(post_image, arr=Z, axis=1)\n",
    "    Z = Z.reshape(-1,1)\n",
    "    return Z\n",
    "\n",
    "def post_image(Z):\n",
    "    binary_closing(Z, out=Z)\n",
    "    return Z"
   ]
  },
  {
   "cell_type": "markdown",
   "metadata": {},
   "source": [
    "# Cross validation with post-processing"
   ]
  },
  {
   "cell_type": "code",
   "execution_count": 10,
   "metadata": {
    "collapsed": false
   },
   "outputs": [],
   "source": [
    "from sklearn.model_selection import KFold\n",
    "def cross_validation(X, Y, neigh, cv=10, post=False, verbose=False):\n",
    "    tot_f1 = 0\n",
    "    tot_acc = 0\n",
    "    kf = KFold(n_splits=cv)\n",
    "\n",
    "    for k, (train, test) in enumerate(kf.split(X)):\n",
    "        x_train = X[train]\n",
    "        x_test = X[test]\n",
    "        y_train = Y[train]\n",
    "        y_test = Y[test]\n",
    "\n",
    "        neigh.fit(x_train,y_train)\n",
    "\n",
    "        z = neigh.predict(x_test)\n",
    "\n",
    "        if post:\n",
    "            z = postprocessing(z, width, height, patch_size)\n",
    "\n",
    "        Zn = np.nonzero(z)[0]\n",
    "        Yn = np.nonzero(y_test)[0]\n",
    "\n",
    "        TPR = len(list(set(Yn) & set(Zn))) / float(len(z))\n",
    "        f1 = f1_score(y_test,z)\n",
    "        acc = accuracy_score(y_test,z)\n",
    "\n",
    "        tot_f1 = tot_f1 + f1\n",
    "        tot_acc = tot_acc + acc\n",
    "        \n",
    "        if verbose:\n",
    "            print('K: ', k)\n",
    "            print('True positive rate = ' + str(TPR))\n",
    "            print('F1-score:', f1)\n",
    "            print('accuracy score:', acc)\n",
    "            print('\\n')\n",
    "\n",
    "    avg_f1 = tot_f1/cv\n",
    "    avg_acc = tot_acc/cv\n",
    "    \n",
    "    print('Average Accuracy score:', avg_acc)\n",
    "    print('Average F1-score:', avg_f1)"
   ]
  },
  {
   "cell_type": "code",
   "execution_count": 11,
   "metadata": {
    "collapsed": false
   },
   "outputs": [
    {
     "name": "stdout",
     "output_type": "stream",
     "text": [
      "\n",
      "Average Accuracy score: 0.69056\n",
      "Average F1-score: 0.368168735297\n",
      "Average Accuracy score: 0.68576\n",
      "Average F1-score: 0.449350944601\n",
      "\n",
      "Average Accuracy score: 0.77952\n",
      "Average F1-score: 0.607947219531\n",
      "Average Accuracy score: 0.7704\n",
      "Average F1-score: 0.633157527579\n",
      "\n",
      "Average Accuracy score: 0.7768\n",
      "Average F1-score: 0.60366873956\n",
      "Average Accuracy score: 0.76848\n",
      "Average F1-score: 0.63180251541\n",
      "\n",
      "Average Accuracy score: 0.78048\n",
      "Average F1-score: 0.609667054322\n",
      "Average Accuracy score: 0.76768\n",
      "Average F1-score: 0.63680227299\n"
     ]
    }
   ],
   "source": [
    "for m in models:\n",
    "    print()\n",
    "    cross_validation(m[1],m[2],m[0],post=False)\n",
    "    cross_validation(m[1],m[2],m[0],post=True)"
   ]
  },
  {
   "cell_type": "markdown",
   "metadata": {},
   "source": [
    "# Cross-validation for n_neighbors and degree"
   ]
  },
  {
   "cell_type": "code",
   "execution_count": 12,
   "metadata": {
    "collapsed": false
   },
   "outputs": [
    {
     "name": "stdout",
     "output_type": "stream",
     "text": [
      "Original loaded dataset size: 10\n",
      "X [(6250, 7)] and Y [(6250,)]\n",
      "F1-SCORE\n",
      "[ 0.59726027  0.64229765  0.6866485   0.54794521  0.48863636  0.58888889\n",
      "  0.59237537  0.64048338  0.56896552  0.6102719 ]\n",
      "mean f1: 0.596377305429\n",
      "\n",
      "\n",
      "F1-SCORE\n",
      "[ 0.62603878  0.64303797  0.70523416  0.56198347  0.52691218  0.56891496\n",
      "  0.61356932  0.61538462  0.60571429  0.59876543]\n",
      "mean f1: 0.606555517875\n",
      "\n",
      "\n",
      "F1-SCORE\n",
      "[ 0.62146893  0.64615385  0.70985915  0.57541899  0.53488372  0.54599407\n",
      "  0.63253012  0.6196319   0.60344828  0.58823529]\n",
      "mean f1: 0.607762430056\n",
      "\n",
      "\n",
      "F1-SCORE\n",
      "[ 0.58715596  0.66111111  0.71257485  0.56140351  0.49358974  0.51898734\n",
      "  0.60066007  0.59210526  0.54487179  0.54966887]\n",
      "mean f1: 0.582212851706\n",
      "\n",
      "\n",
      "F1-SCORE\n",
      "[ 0.60821918  0.64210526  0.6972973   0.54696133  0.47863248  0.59279778\n",
      "  0.58550725  0.63880597  0.56410256  0.60895522]\n",
      "mean f1: 0.596338433158\n",
      "\n",
      "\n",
      "F1-SCORE\n",
      "[ 0.63333333  0.65491184  0.70914127  0.57534247  0.51575931  0.57803468\n",
      "  0.62170088  0.61676647  0.61538462  0.60869565]\n",
      "mean f1: 0.612907052091\n",
      "\n",
      "\n",
      "F1-SCORE\n",
      "[ 0.62222222  0.6373057   0.69859155  0.5801105   0.52199413  0.56047198\n",
      "  0.63030303  0.62804878  0.59824047  0.59146341]\n",
      "mean f1: 0.606875177417\n",
      "\n",
      "\n",
      "F1-SCORE\n",
      "[ 0.58610272  0.66298343  0.70694864  0.56976744  0.49367089  0.51265823\n",
      "  0.58940397  0.58278146  0.53205128  0.55629139]\n",
      "mean f1: 0.579265944396\n",
      "\n",
      "\n",
      "F1-SCORE\n",
      "[ 0.60326087  0.64041995  0.68478261  0.55801105  0.46991404  0.59610028\n",
      "  0.57894737  0.63473054  0.56818182  0.61077844]\n",
      "mean f1: 0.59451269628\n",
      "\n",
      "\n",
      "F1-SCORE\n",
      "[ 0.63509749  0.65306122  0.70165746  0.5785124   0.51873199  0.5755814\n",
      "  0.61583578  0.60843373  0.60968661  0.61728395]\n",
      "mean f1: 0.611388202897\n",
      "\n",
      "\n",
      "F1-SCORE\n",
      "[ 0.62049861  0.63917526  0.70254958  0.57458564  0.52478134  0.56213018\n",
      "  0.63253012  0.63444109  0.59587021  0.59756098]\n",
      "mean f1: 0.608412299194\n",
      "\n",
      "\n",
      "F1-SCORE\n",
      "[ 0.59638554  0.66666667  0.70090634  0.5755814   0.49681529  0.51265823\n",
      "  0.58666667  0.59868421  0.52733119  0.58169935]\n",
      "mean f1: 0.584339487638\n",
      "\n",
      "\n",
      "F1-SCORE\n",
      "[ 0.60326087  0.64566929  0.68108108  0.56284153  0.46551724  0.6\n",
      "  0.57478006  0.63473054  0.56410256  0.61077844]\n",
      "mean f1: 0.594276161821\n",
      "\n",
      "\n",
      "F1-SCORE\n",
      "[ 0.63305322  0.65306122  0.70879121  0.57923497  0.52023121  0.5755814\n",
      "  0.61988304  0.60422961  0.60744986  0.61728395]\n",
      "mean f1: 0.611879969201\n",
      "\n",
      "\n",
      "F1-SCORE\n",
      "[ 0.62777778  0.64248705  0.7082153   0.57063712  0.52631579  0.56637168\n",
      "  0.62650602  0.63221884  0.59587021  0.60182371]\n",
      "mean f1: 0.609822349564\n",
      "\n",
      "\n",
      "F1-SCORE\n",
      "[ 0.59638554  0.67222222  0.69879518  0.5755814   0.4952381   0.51265823\n",
      "  0.58666667  0.59868421  0.53674121  0.57704918]\n",
      "mean f1: 0.585002193513\n",
      "\n",
      "\n",
      "F1-SCORE\n",
      "[ 0.60326087  0.64566929  0.68108108  0.56284153  0.46551724  0.59610028\n",
      "  0.57478006  0.63473054  0.56410256  0.61077844]\n",
      "mean f1: 0.593886189676\n",
      "\n",
      "\n",
      "F1-SCORE\n",
      "[ 0.63687151  0.65306122  0.70879121  0.57923497  0.52023121  0.5755814\n",
      "  0.61988304  0.60422961  0.6017192   0.61728395]\n",
      "mean f1: 0.611688732007\n",
      "\n",
      "\n",
      "F1-SCORE\n",
      "[ 0.63333333  0.64248705  0.71186441  0.57063712  0.52631579  0.56637168\n",
      "  0.62462462  0.63221884  0.59411765  0.60182371]\n",
      "mean f1: 0.610379420162\n",
      "\n",
      "\n",
      "F1-SCORE\n",
      "[ 0.59638554  0.66852368  0.69879518  0.5755814   0.4952381   0.51265823\n",
      "  0.58666667  0.59868421  0.53674121  0.57704918]\n",
      "mean f1: 0.584632338979\n",
      "\n",
      "\n"
     ]
    }
   ],
   "source": [
    "X0, Y0 = build_model_data(root_dir, extract_features_edge, patch_size=patch_size, n_img=n_img)\n",
    "degrees = [1, 2, 3, 5, 7]\n",
    "n_neighbors = [3, 5, 7, 10]\n",
    "for d in degrees:\n",
    "    poly = PolynomialFeatures(d)\n",
    "    X = poly.fit_transform(X0)\n",
    "    X = normalize(X)\n",
    "    for n in n_neighbors:\n",
    "        neigh = KNeighborsClassifier(n_neighbors=n)\n",
    "        \n",
    "        cr_val = cross_val_score(neigh, X, Y0, cv=10, scoring='f1')\n",
    "        print('F1-SCORE')\n",
    "        print(cr_val)\n",
    "        print('mean f1:', cr_val.mean())\n",
    "        print('\\n')"
   ]
  }
 ],
 "metadata": {
  "anaconda-cloud": {},
  "kernelspec": {
   "display_name": "Python [Root]",
   "language": "python",
   "name": "Python [Root]"
  },
  "language_info": {
   "codemirror_mode": {
    "name": "ipython",
    "version": 3
   },
   "file_extension": ".py",
   "mimetype": "text/x-python",
   "name": "python",
   "nbconvert_exporter": "python",
   "pygments_lexer": "ipython3",
   "version": "3.5.2"
  }
 },
 "nbformat": 4,
 "nbformat_minor": 0
}
