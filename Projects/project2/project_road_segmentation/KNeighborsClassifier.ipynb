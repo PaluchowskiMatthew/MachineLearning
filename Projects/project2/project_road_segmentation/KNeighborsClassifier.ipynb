{
 "cells": [
  {
   "cell_type": "code",
   "execution_count": null,
   "metadata": {
    "collapsed": false
   },
   "outputs": [],
   "source": [
    "%matplotlib inline\n",
    "%load_ext autoreload\n",
    "%autoreload 2\n",
    "\n",
    "from sklearn.preprocessing import PolynomialFeatures, normalize\n",
    "from sklearn.neighbors import KNeighborsClassifier\n",
    "from sklearn.model_selection import cross_val_score\n",
    "from sklearn.metrics import f1_score, confusion_matrix, accuracy_score\n",
    "\n",
    "from feature_extractors import extract_features, extract_features_2d, extract_features_edge\n",
    "from metric_helpers import compute_true_positive_rate\n",
    "from visualization_helpers import pretty_confusion\n",
    "\n",
    "from new_helpers import *"
   ]
  },
  {
   "cell_type": "code",
   "execution_count": null,
   "metadata": {
    "collapsed": false
   },
   "outputs": [],
   "source": [
    "patch_size = 16\n",
    "width = 400\n",
    "height = 400\n",
    "n_img = 10"
   ]
  },
  {
   "cell_type": "markdown",
   "metadata": {},
   "source": [
    "# Extract 2d features"
   ]
  },
  {
   "cell_type": "code",
   "execution_count": null,
   "metadata": {
    "collapsed": false
   },
   "outputs": [],
   "source": [
    "X1, Y1 = build_model_data(extract_features_2d, patch_size=patch_size, n_img=n_img)\n",
    "X1 = normalize(X1)\n",
    "neigh1 = KNeighborsClassifier(n_neighbors=5)\n",
    "neigh1.fit(X1, Y1)"
   ]
  },
  {
   "cell_type": "markdown",
   "metadata": {},
   "source": [
    "# Extract 6d features"
   ]
  },
  {
   "cell_type": "code",
   "execution_count": null,
   "metadata": {
    "collapsed": false
   },
   "outputs": [],
   "source": [
    "X2, Y2 = build_model_data(extract_features, patch_size=patch_size, n_img=n_img)\n",
    "X2 = normalize(X2)\n",
    "neigh2 = KNeighborsClassifier(n_neighbors=5)\n",
    "neigh2.fit(X2, Y2)"
   ]
  },
  {
   "cell_type": "markdown",
   "metadata": {},
   "source": [
    "# Add canny edge detector"
   ]
  },
  {
   "cell_type": "code",
   "execution_count": null,
   "metadata": {
    "collapsed": false
   },
   "outputs": [],
   "source": [
    "X3, Y3 = build_model_data(extract_features_edge, patch_size=patch_size, n_img=n_img)\n",
    "X3 = normalize(X3)\n",
    "neigh3 = KNeighborsClassifier(n_neighbors=5)\n",
    "neigh3.fit(X3, Y3)"
   ]
  },
  {
   "cell_type": "markdown",
   "metadata": {},
   "source": [
    "# Add polynomial features"
   ]
  },
  {
   "cell_type": "code",
   "execution_count": null,
   "metadata": {
    "collapsed": false
   },
   "outputs": [],
   "source": [
    "X4, Y4 = build_model_data(extract_features_edge, patch_size=patch_size, n_img=n_img)\n",
    "poly = PolynomialFeatures(3)\n",
    "X4 = poly.fit_transform(X4)\n",
    "X4 = normalize(X4)\n",
    "neigh4 = KNeighborsClassifier(n_neighbors=5)\n",
    "neigh4.fit(X4, Y4)"
   ]
  },
  {
   "cell_type": "markdown",
   "metadata": {},
   "source": [
    "# Comparison"
   ]
  },
  {
   "cell_type": "code",
   "execution_count": null,
   "metadata": {
    "collapsed": false
   },
   "outputs": [],
   "source": [
    "models = [(neigh1, X1, Y1), (neigh2, X2, Y2), (neigh3, X3, Y3), (neigh4, X4, Y4)]\n",
    "\n",
    "for m in models:\n",
    "    # Predict on the training set\n",
    "    Z = m[0].predict(m[1])\n",
    "\n",
    "    TPR = compute_true_positive_rate(m[2],Z)\n",
    "    print('True positive rate = ' + str(TPR))\n",
    "    print('F1-score:', f1_score(m[2],Z))\n",
    "    pretty_confusion([\"road\", \"bg\"], m[2], Z)\n",
    "    print('\\n')"
   ]
  },
  {
   "cell_type": "markdown",
   "metadata": {},
   "source": [
    "# Cross-validation without post-processing"
   ]
  },
  {
   "cell_type": "code",
   "execution_count": null,
   "metadata": {
    "collapsed": false
   },
   "outputs": [],
   "source": [
    "for m in models:\n",
    "    cr_val = cross_val_score(m[0], m[1], m[2], cv=10, scoring='accuracy')\n",
    "    print('ACCURACY')\n",
    "    print(cr_val)\n",
    "    print('mean accuracy:', cr_val.mean())\n",
    "    cr_val = cross_val_score(m[0], m[1], m[2], cv=10, scoring='f1')\n",
    "    print('F1-SCORE')\n",
    "    print(cr_val)\n",
    "    print('mean f1:', cr_val.mean())\n",
    "    print('\\n')"
   ]
  },
  {
   "cell_type": "markdown",
   "metadata": {},
   "source": [
    "# Post processing"
   ]
  },
  {
   "cell_type": "code",
   "execution_count": null,
   "metadata": {
    "collapsed": false
   },
   "outputs": [],
   "source": [
    "from skimage.morphology import *\n",
    "def postprocessing(Z, w, h, patch_size):\n",
    "    n_patch = np.int(w/patch_size)\n",
    "    Z = Z.reshape(-1,n_patch*n_patch)\n",
    "    \n",
    "    Z = np.apply_along_axis(post_image, arr=Z, axis=1)\n",
    "    Z = Z.reshape(-1,1)\n",
    "    return Z\n",
    "\n",
    "def post_image(Z):\n",
    "    binary_closing(Z, out=Z)\n",
    "    return Z"
   ]
  },
  {
   "cell_type": "markdown",
   "metadata": {},
   "source": [
    "# Cross validation with post-processing"
   ]
  },
  {
   "cell_type": "code",
   "execution_count": null,
   "metadata": {
    "collapsed": false
   },
   "outputs": [],
   "source": [
    "from sklearn.model_selection import KFold\n",
    "def cross_validation(X, Y, neigh, cv=10, post=False, verbose=False):\n",
    "    tot_f1 = 0\n",
    "    tot_acc = 0\n",
    "    kf = KFold(n_splits=cv)\n",
    "\n",
    "    for k, (train, test) in enumerate(kf.split(X)):\n",
    "        x_train = X[train]\n",
    "        x_test = X[test]\n",
    "        y_train = Y[train]\n",
    "        y_test = Y[test]\n",
    "\n",
    "        neigh.fit(x_train,y_train)\n",
    "\n",
    "        z = neigh.predict(x_test)\n",
    "\n",
    "        if post:\n",
    "            z = postprocessing(z, width, height, patch_size)\n",
    "\n",
    "        Zn = np.nonzero(z)[0]\n",
    "        Yn = np.nonzero(y_test)[0]\n",
    "\n",
    "        TPR = len(list(set(Yn) & set(Zn))) / float(len(z))\n",
    "        f1 = f1_score(y_test,z)\n",
    "        acc = accuracy_score(y_test,z)\n",
    "\n",
    "        tot_f1 = tot_f1 + f1\n",
    "        tot_acc = tot_acc + acc\n",
    "        \n",
    "        if verbose:\n",
    "            print('K: ', k)\n",
    "            print('True positive rate = ' + str(TPR))\n",
    "            print('F1-score:', f1)\n",
    "            print('accuracy score:', acc)\n",
    "            print('\\n')\n",
    "\n",
    "    avg_f1 = tot_f1/cv\n",
    "    avg_acc = tot_acc/cv\n",
    "    \n",
    "    print('Average Accuracy score:', avg_acc)\n",
    "    print('Average F1-score:', avg_f1)"
   ]
  },
  {
   "cell_type": "code",
   "execution_count": null,
   "metadata": {
    "collapsed": false
   },
   "outputs": [],
   "source": [
    "for m in models:\n",
    "    print()\n",
    "    cross_validation(m[1],m[2],m[0],post=False)\n",
    "    cross_validation(m[1],m[2],m[0],post=True)"
   ]
  }
 ],
 "metadata": {
  "anaconda-cloud": {},
  "kernelspec": {
   "display_name": "Python [Root]",
   "language": "python",
   "name": "Python [Root]"
  },
  "language_info": {
   "codemirror_mode": {
    "name": "ipython",
    "version": 3
   },
   "file_extension": ".py",
   "mimetype": "text/x-python",
   "name": "python",
   "nbconvert_exporter": "python",
   "pygments_lexer": "ipython3",
   "version": "3.5.2"
  }
 },
 "nbformat": 4,
 "nbformat_minor": 0
}
