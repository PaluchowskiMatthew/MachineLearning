{
 "cells": [
  {
   "cell_type": "code",
   "execution_count": 159,
   "metadata": {
    "collapsed": false
   },
   "outputs": [
    {
     "name": "stdout",
     "output_type": "stream",
     "text": [
      "The autoreload extension is already loaded. To reload it, use:\n",
      "  %reload_ext autoreload\n"
     ]
    }
   ],
   "source": [
    "%matplotlib inline\n",
    "%load_ext autoreload\n",
    "%autoreload 2\n",
    "from sklearn.metrics import f1_score, confusion_matrix, accuracy_score\n",
    "from features import *\n",
    "from sklearn.neighbors import KNeighborsClassifier\n",
    "from sklearn.preprocessing import PolynomialFeatures, normalize\n",
    "from sklearn.model_selection import cross_val_score\n",
    "from new_helpers import *\n",
    "from original_helpers import *"
   ]
  },
  {
   "cell_type": "code",
   "execution_count": 160,
   "metadata": {
    "collapsed": false
   },
   "outputs": [],
   "source": [
    "patch_size = 16\n",
    "width = 400\n",
    "height = 400\n",
    "n_img = 10"
   ]
  },
  {
   "cell_type": "markdown",
   "metadata": {},
   "source": [
    "# Extract 2d features"
   ]
  },
  {
   "cell_type": "code",
   "execution_count": 161,
   "metadata": {
    "collapsed": false
   },
   "outputs": [
    {
     "name": "stdout",
     "output_type": "stream",
     "text": [
      "X [(6250, 2)] and Y [(6250,)]\n"
     ]
    },
    {
     "data": {
      "text/plain": [
       "KNeighborsClassifier(algorithm='auto', leaf_size=30, metric='minkowski',\n",
       "           metric_params=None, n_jobs=1, n_neighbors=5, p=2,\n",
       "           weights='uniform')"
      ]
     },
     "execution_count": 161,
     "metadata": {},
     "output_type": "execute_result"
    }
   ],
   "source": [
    "X1, Y1 = build_model_data(extract_features_2d, patch_size=patch_size, n_img=n_img)\n",
    "X1 = normalize(X1)\n",
    "neigh1 = KNeighborsClassifier(n_neighbors=5)\n",
    "neigh1.fit(X1, Y1)"
   ]
  },
  {
   "cell_type": "markdown",
   "metadata": {},
   "source": [
    "# Extract 6d features"
   ]
  },
  {
   "cell_type": "code",
   "execution_count": 162,
   "metadata": {
    "collapsed": false
   },
   "outputs": [
    {
     "name": "stdout",
     "output_type": "stream",
     "text": [
      "X [(6250, 6)] and Y [(6250,)]\n"
     ]
    },
    {
     "data": {
      "text/plain": [
       "KNeighborsClassifier(algorithm='auto', leaf_size=30, metric='minkowski',\n",
       "           metric_params=None, n_jobs=1, n_neighbors=5, p=2,\n",
       "           weights='uniform')"
      ]
     },
     "execution_count": 162,
     "metadata": {},
     "output_type": "execute_result"
    }
   ],
   "source": [
    "X2, Y2 = build_model_data(extract_features, patch_size=patch_size, n_img=n_img)\n",
    "X2 = normalize(X2)\n",
    "neigh2 = KNeighborsClassifier(n_neighbors=5)\n",
    "neigh2.fit(X2, Y2)"
   ]
  },
  {
   "cell_type": "markdown",
   "metadata": {},
   "source": [
    "# Add canny edge detector"
   ]
  },
  {
   "cell_type": "code",
   "execution_count": 163,
   "metadata": {
    "collapsed": false
   },
   "outputs": [
    {
     "name": "stdout",
     "output_type": "stream",
     "text": [
      "X [(6250, 7)] and Y [(6250,)]\n"
     ]
    },
    {
     "data": {
      "text/plain": [
       "KNeighborsClassifier(algorithm='auto', leaf_size=30, metric='minkowski',\n",
       "           metric_params=None, n_jobs=1, n_neighbors=5, p=2,\n",
       "           weights='uniform')"
      ]
     },
     "execution_count": 163,
     "metadata": {},
     "output_type": "execute_result"
    }
   ],
   "source": [
    "X3, Y3 = build_model_data(extract_features_edge, patch_size=patch_size, n_img=n_img)\n",
    "X3 = normalize(X3)\n",
    "neigh3 = KNeighborsClassifier(n_neighbors=5)\n",
    "neigh3.fit(X3, Y3)"
   ]
  },
  {
   "cell_type": "markdown",
   "metadata": {},
   "source": [
    "# Add polynomial features"
   ]
  },
  {
   "cell_type": "code",
   "execution_count": 164,
   "metadata": {
    "collapsed": false
   },
   "outputs": [
    {
     "name": "stdout",
     "output_type": "stream",
     "text": [
      "X [(6250, 7)] and Y [(6250,)]\n"
     ]
    },
    {
     "data": {
      "text/plain": [
       "KNeighborsClassifier(algorithm='auto', leaf_size=30, metric='minkowski',\n",
       "           metric_params=None, n_jobs=1, n_neighbors=5, p=2,\n",
       "           weights='uniform')"
      ]
     },
     "execution_count": 164,
     "metadata": {},
     "output_type": "execute_result"
    }
   ],
   "source": [
    "X4, Y4 = build_model_data(extract_features_edge, patch_size=patch_size, n_img=n_img)\n",
    "poly = PolynomialFeatures(3)\n",
    "X4 = poly.fit_transform(X4)\n",
    "X4 = normalize(X4)\n",
    "neigh4 = KNeighborsClassifier(n_neighbors=5)\n",
    "neigh4.fit(X4, Y4)"
   ]
  },
  {
   "cell_type": "markdown",
   "metadata": {},
   "source": [
    "# Comparison"
   ]
  },
  {
   "cell_type": "code",
   "execution_count": 165,
   "metadata": {
    "collapsed": false
   },
   "outputs": [
    {
     "name": "stdout",
     "output_type": "stream",
     "text": [
      "True positive rate = 0.13344\n",
      "F1-score: 0.544564152791\n",
      "            t/p           road             bg\n",
      "           road           4021            401\n",
      "             bg            994            834\n",
      "\n",
      "\n",
      "True positive rate = 0.20944\n",
      "F1-score: 0.746719908728\n",
      "            t/p           road             bg\n",
      "           road           4053            369\n",
      "             bg            519           1309\n",
      "\n",
      "\n",
      "True positive rate = 0.208\n",
      "F1-score: 0.745199197478\n",
      "            t/p           road             bg\n",
      "           road           4061            361\n",
      "             bg            528           1300\n",
      "\n",
      "\n",
      "True positive rate = 0.20416\n",
      "F1-score: 0.733966062698\n",
      "            t/p           road             bg\n",
      "           road           4049            373\n",
      "             bg            552           1276\n",
      "\n",
      "\n"
     ]
    }
   ],
   "source": [
    "models = [(neigh1, X1, Y1), (neigh2, X2, Y2), (neigh3, X3, Y3), (neigh4, X4, Y4)]\n",
    "\n",
    "for m in models:\n",
    "    # Predict on the training set\n",
    "    Z = m[0].predict(m[1])\n",
    "\n",
    "    # Get non-zeros in prediction and grountruth arrays\n",
    "    Zn = np.nonzero(Z)[0]\n",
    "    Yn = np.nonzero(m[2])[0]\n",
    "\n",
    "    TPR = len(list(set(Yn) & set(Zn))) / float(len(Z))\n",
    "    print('True positive rate = ' + str(TPR))\n",
    "    print('F1-score:', f1_score(m[2],Z))\n",
    "    pretty_confusion([\"road\", \"bg\"], m[2], Z)\n",
    "    print('\\n')"
   ]
  },
  {
   "cell_type": "markdown",
   "metadata": {},
   "source": [
    "# Cross-validation without post-processing"
   ]
  },
  {
   "cell_type": "code",
   "execution_count": 166,
   "metadata": {
    "collapsed": false
   },
   "outputs": [
    {
     "name": "stdout",
     "output_type": "stream",
     "text": [
      "ACCURACY\n",
      "[ 0.7172524   0.70607029  0.704       0.6976      0.6608      0.6848\n",
      "  0.6992      0.6864      0.66346154  0.67948718]\n",
      "mean accuracy: 0.689907140165\n",
      "F1-SCORE\n",
      "[ 0.37894737  0.43902439  0.36860068  0.38834951  0.34969325  0.35409836\n",
      "  0.35616438  0.35947712  0.33121019  0.33333333]\n",
      "mean f1: 0.365889860017\n",
      "\n",
      "\n",
      "ACCURACY\n",
      "[ 0.80191693  0.78434505  0.8336      0.7328      0.7456      0.7472\n",
      "  0.7952      0.7808      0.77083333  0.80128205]\n",
      "mean accuracy: 0.779357736545\n",
      "F1-SCORE\n",
      "[ 0.64571429  0.65116279  0.70454545  0.52691218  0.56198347  0.53529412\n",
      "  0.62573099  0.60058309  0.58064516  0.65745856]\n",
      "mean f1: 0.609003011034\n",
      "\n",
      "\n",
      "ACCURACY\n",
      "[ 0.79392971  0.7715655   0.8288      0.7344      0.7424      0.7456\n",
      "  0.7936      0.7808      0.76762821  0.79967949]\n",
      "mean accuracy: 0.775840289998\n",
      "F1-SCORE\n",
      "[ 0.63037249  0.63239075  0.69688385  0.52840909  0.55890411  0.53097345\n",
      "  0.62170088  0.60518732  0.57971014  0.65181058]\n",
      "mean f1: 0.603634267239\n",
      "\n",
      "\n",
      "ACCURACY\n",
      "[ 0.79073482  0.7827476   0.8272      0.7552      0.7328      0.7664\n",
      "  0.7904      0.792       0.78044872  0.80128205]\n",
      "mean accuracy: 0.781921319735\n",
      "F1-SCORE\n",
      "[ 0.63509749  0.65306122  0.70165746  0.5785124   0.51873199  0.5755814\n",
      "  0.61583578  0.60843373  0.60968661  0.61728395]\n",
      "mean f1: 0.611388202897\n",
      "\n",
      "\n"
     ]
    }
   ],
   "source": [
    "for m in models:\n",
    "    cr_val = cross_val_score(m[0], m[1], m[2], cv=10, scoring='accuracy')\n",
    "    print('ACCURACY')\n",
    "    print(cr_val)\n",
    "    print('mean accuracy:', cr_val.mean())\n",
    "    cr_val = cross_val_score(m[0], m[1], m[2], cv=10, scoring='f1')\n",
    "    print('F1-SCORE')\n",
    "    print(cr_val)\n",
    "    print('mean f1:', cr_val.mean())\n",
    "    print('\\n')"
   ]
  },
  {
   "cell_type": "markdown",
   "metadata": {},
   "source": [
    "# Post processing"
   ]
  },
  {
   "cell_type": "code",
   "execution_count": 167,
   "metadata": {
    "collapsed": false
   },
   "outputs": [],
   "source": [
    "from skimage.morphology import *\n",
    "def postprocessing(Z, w, h, patch_size):\n",
    "    n_patch = np.int(w/patch_size)\n",
    "    Z = Z.reshape(-1,n_patch*n_patch)\n",
    "    \n",
    "    Z = np.apply_along_axis(post_image, arr=Z, axis=1)\n",
    "    Z = Z.reshape(-1,1)\n",
    "    return Z\n",
    "\n",
    "def post_image(Z):\n",
    "    binary_closing(Z, out=Z)\n",
    "    return Z"
   ]
  },
  {
   "cell_type": "markdown",
   "metadata": {},
   "source": [
    "# Cross validation with post-processing"
   ]
  },
  {
   "cell_type": "code",
   "execution_count": 174,
   "metadata": {
    "collapsed": false
   },
   "outputs": [],
   "source": [
    "from sklearn.model_selection import KFold\n",
    "def cross_validation(X, Y, neigh, cv=10, post=False, verbose=False):\n",
    "    tot_f1 = 0\n",
    "    tot_acc = 0\n",
    "    kf = KFold(n_splits=cv)\n",
    "\n",
    "    for k, (train, test) in enumerate(kf.split(X)):\n",
    "        x_train = X[train]\n",
    "        x_test = X[test]\n",
    "        y_train = Y[train]\n",
    "        y_test = Y[test]\n",
    "\n",
    "        neigh.fit(x_train,y_train)\n",
    "\n",
    "        z = neigh.predict(x_test)\n",
    "\n",
    "        if post:\n",
    "            z = postprocessing(z, width, height, patch_size)\n",
    "\n",
    "        Zn = np.nonzero(z)[0]\n",
    "        Yn = np.nonzero(y_test)[0]\n",
    "\n",
    "        TPR = len(list(set(Yn) & set(Zn))) / float(len(z))\n",
    "        f1 = f1_score(y_test,z)\n",
    "        acc = accuracy_score(y_test,z)\n",
    "\n",
    "        tot_f1 = tot_f1 + f1\n",
    "        tot_acc = tot_acc + acc\n",
    "        \n",
    "        if verbose:\n",
    "            print('K: ', k)\n",
    "            print('True positive rate = ' + str(TPR))\n",
    "            print('F1-score:', f1)\n",
    "            print('accuracy score:', acc)\n",
    "            print('\\n')\n",
    "\n",
    "    avg_f1 = tot_f1/cv\n",
    "    avg_acc = tot_acc/cv\n",
    "    \n",
    "    print('Average Accuracy score:', avg_acc)\n",
    "    print('Average F1-score:', avg_f1)"
   ]
  },
  {
   "cell_type": "code",
   "execution_count": 176,
   "metadata": {
    "collapsed": false
   },
   "outputs": [
    {
     "name": "stdout",
     "output_type": "stream",
     "text": [
      "\n",
      "Average Accuracy score: 0.69056\n",
      "Average F1-score: 0.368168735297\n",
      "Average Accuracy score: 0.68576\n",
      "Average F1-score: 0.449350944601\n",
      "\n",
      "Average Accuracy score: 0.77952\n",
      "Average F1-score: 0.607947219531\n",
      "Average Accuracy score: 0.7704\n",
      "Average F1-score: 0.633157527579\n",
      "\n",
      "Average Accuracy score: 0.7768\n",
      "Average F1-score: 0.60366873956\n",
      "Average Accuracy score: 0.76848\n",
      "Average F1-score: 0.63180251541\n",
      "\n",
      "Average Accuracy score: 0.78\n",
      "Average F1-score: 0.608494182914\n",
      "Average Accuracy score: 0.76864\n",
      "Average F1-score: 0.636761499171\n"
     ]
    }
   ],
   "source": [
    "for m in models:\n",
    "    print()\n",
    "    cross_validation(m[1],m[2],m[0],post=False)\n",
    "    cross_validation(m[1],m[2],m[0],post=True)"
   ]
  },
  {
   "cell_type": "code",
   "execution_count": null,
   "metadata": {
    "collapsed": true
   },
   "outputs": [],
   "source": []
  }
 ],
 "metadata": {
  "anaconda-cloud": {},
  "kernelspec": {
   "display_name": "Python [Root]",
   "language": "python",
   "name": "Python [Root]"
  },
  "language_info": {
   "codemirror_mode": {
    "name": "ipython",
    "version": 3
   },
   "file_extension": ".py",
   "mimetype": "text/x-python",
   "name": "python",
   "nbconvert_exporter": "python",
   "pygments_lexer": "ipython3",
   "version": "3.5.2"
  }
 },
 "nbformat": 4,
 "nbformat_minor": 0
}
