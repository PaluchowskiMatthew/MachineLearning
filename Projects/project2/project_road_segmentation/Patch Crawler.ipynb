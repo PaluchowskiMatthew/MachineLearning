{
 "cells": [
  {
   "cell_type": "code",
   "execution_count": 1,
   "metadata": {
    "collapsed": false
   },
   "outputs": [],
   "source": [
    "import numpy as np\n",
    "\n",
    "from dataset_preprocessing import create_dataset, extract_patches, compute_input_features, compute_output_features\n",
    "from dataset_postprocessing import unpatch\n",
    "from feature_extractors import extract_features, extract_features_2d\n",
    "from visualization_helpers import *\n",
    "\n",
    "%matplotlib inline"
   ]
  },
  {
   "cell_type": "code",
   "execution_count": 2,
   "metadata": {
    "collapsed": true
   },
   "outputs": [],
   "source": [
    "# GLOBAL VARIABLES\n",
    "ROOT_DIR = \"training/\"\n",
    "TOTAL_IMAGES = 10 # Number of images to load\n",
    "TRAIN_FRACTION = 0.9 # Percentage of images used for training\n",
    "ANGLE_STEP = 90 # Gotta be 360/ANGLE_STEP needs to be an integer\n",
    "FLIP = True # Flag to signal if flipped  versions of rotated images should also be created\n",
    "PATCH_SIZE = 200\n",
    "PATCH_TRANSLATION = 100 # WARNING: this quickly explodes to enormous amount of data if small patch_translation is selected.\n",
    "FOREGROUND_THRESHOLD = 0.25 # percentage of pixels > 1 required to assign a foreground label to a patch\n",
    "ORIGINAL_IMAGE_WIDTH = 400\n",
    "ORIGINAL_IMAGE_HEIGHT = 400"
   ]
  },
  {
   "cell_type": "code",
   "execution_count": 3,
   "metadata": {
    "collapsed": false
   },
   "outputs": [
    {
     "name": "stdout",
     "output_type": "stream",
     "text": [
      "Original loaded dataset size: 10\n",
      "Creating train dataset...\n",
      "Number of rotations: 4\n",
      "Flipping: True\n",
      "Creating test dataset...\n",
      "Number of rotations: 4\n",
      "Flipping: True\n",
      "Created train dataset size: 63\n",
      "Created test dataset size: 1\n"
     ]
    }
   ],
   "source": [
    "dataset = create_dataset(ROOT_DIR, TOTAL_IMAGES, TRAIN_FRACTION, rotation_angle=ANGLE_STEP, flip=FLIP)"
   ]
  },
  {
   "cell_type": "code",
   "execution_count": 4,
   "metadata": {
    "collapsed": false
   },
   "outputs": [
    {
     "name": "stdout",
     "output_type": "stream",
     "text": [
      "Train patches: 2268\n",
      "Test patches: 36\n",
      "Train GT patches: 2268\n",
      "Test GT patches: 36\n"
     ]
    }
   ],
   "source": [
    "patches = extract_patches(dataset, PATCH_SIZE, PATCH_TRANSLATION)"
   ]
  },
  {
   "cell_type": "code",
   "execution_count": 5,
   "metadata": {
    "collapsed": false
   },
   "outputs": [
    {
     "name": "stdout",
     "output_type": "stream",
     "text": [
      "Train features: 2268\n",
      "Test features: 36\n",
      "Train GT features: 2268\n",
      "Test GT features: 36\n"
     ]
    }
   ],
   "source": [
    "input_features = compute_input_features(patches[0:2], extract_features) # train_img_patches and test_img_patches\n",
    "output_features = compute_output_features(patches[2:4], FOREGROUND_THRESHOLD) # train_gt_img_patches and test_gt_img_patches\n",
    "                 \n",
    "X = input_features[0]\n",
    "Y = output_features[0]\n",
    "Xi = input_features[1]\n",
    "Yi = output_features[1]"
   ]
  },
  {
   "cell_type": "code",
   "execution_count": 6,
   "metadata": {
    "collapsed": false
   },
   "outputs": [
    {
     "name": "stdout",
     "output_type": "stream",
     "text": [
      "Computed 2268 features\n",
      "Feature dimension = 6\n",
      "Number of classes = 1\n",
      "Class 0: 14 samples\n",
      "Class 1: 2254 samples\n"
     ]
    }
   ],
   "source": [
    "# Print feature statistics\n",
    "display_feature_statistics(X, Y)"
   ]
  },
  {
   "cell_type": "code",
   "execution_count": 7,
   "metadata": {
    "collapsed": false
   },
   "outputs": [],
   "source": [
    "from sklearn.neural_network import MLPClassifier\n",
    "from sklearn.preprocessing import StandardScaler\n",
    "scaler = StandardScaler()\n",
    "scaler.fit(X)  \n",
    "X_train = scaler.transform(X)\n",
    "clf = MLPClassifier()# default options\n",
    "clf.fit(X_train, Y)\n",
    "clf.score(X_train,Y)\n",
    "Xi = scaler.transform(Xi)  \n",
    "Zi = clf.predict(Xi)"
   ]
  },
  {
   "cell_type": "code",
   "execution_count": 8,
   "metadata": {
    "collapsed": false
   },
   "outputs": [
    {
     "name": "stderr",
     "output_type": "stream",
     "text": [
      "/Users/mateusz/Dropbox/EPFL/Semester I/Machnie Learning CS-433/My Answers/MachineLearning/Projects/project2/project_road_segmentation/dataset_postprocessing.py:49: RuntimeWarning: invalid value encountered in true_divide\n",
      "  unpatched_img = np.around((patched_image/index_image))[h_from:h_to, w_from:w_to]\n"
     ]
    }
   ],
   "source": [
    "unpached_Zi = unpatch(Zi, PATCH_SIZE, PATCH_TRANSLATION, ORIGINAL_IMAGE_WIDTH, ORIGINAL_IMAGE_HEIGHT)"
   ]
  },
  {
   "cell_type": "code",
   "execution_count": 12,
   "metadata": {
    "collapsed": false
   },
   "outputs": [
    {
     "name": "stderr",
     "output_type": "stream",
     "text": [
      "/Users/mateusz/Dropbox/EPFL/Semester I/Machnie Learning CS-433/My Answers/MachineLearning/Projects/project2/project_road_segmentation/dataset_postprocessing.py:49: RuntimeWarning: invalid value encountered in true_divide\n",
      "  unpatched_img = np.around((patched_image/index_image))[h_from:h_to, w_from:w_to]\n"
     ]
    }
   ],
   "source": [
    "unpached_Yi = unpatch(Yi, PATCH_SIZE, PATCH_TRANSLATION, ORIGINAL_IMAGE_WIDTH, ORIGINAL_IMAGE_HEIGHT)"
   ]
  },
  {
   "cell_type": "code",
   "execution_count": 15,
   "metadata": {
    "collapsed": false
   },
   "outputs": [
    {
     "data": {
      "text/plain": [
       "1.0"
      ]
     },
     "execution_count": 15,
     "metadata": {},
     "output_type": "execute_result"
    }
   ],
   "source": [
    "from sklearn.metrics import f1_score\n",
    "\n",
    "f1_score(Yi, Zi, average='binary')"
   ]
  }
 ],
 "metadata": {
  "anaconda-cloud": {},
  "kernelspec": {
   "display_name": "Python [Root]",
   "language": "python",
   "name": "Python [Root]"
  },
  "language_info": {
   "codemirror_mode": {
    "name": "ipython",
    "version": 3
   },
   "file_extension": ".py",
   "mimetype": "text/x-python",
   "name": "python",
   "nbconvert_exporter": "python",
   "pygments_lexer": "ipython3",
   "version": "3.5.2"
  }
 },
 "nbformat": 4,
 "nbformat_minor": 0
}
