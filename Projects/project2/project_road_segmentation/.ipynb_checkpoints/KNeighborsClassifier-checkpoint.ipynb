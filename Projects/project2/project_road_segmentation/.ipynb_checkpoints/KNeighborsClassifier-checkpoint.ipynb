{
 "cells": [
  {
   "cell_type": "code",
   "execution_count": 1,
   "metadata": {
    "collapsed": false
   },
   "outputs": [],
   "source": [
    "%matplotlib inline\n",
    "%load_ext autoreload\n",
    "%autoreload 2\n",
    "\n",
    "from sklearn.preprocessing import PolynomialFeatures, normalize\n",
    "from sklearn.neighbors import KNeighborsClassifier\n",
    "from sklearn.model_selection import cross_val_score\n",
    "from sklearn.metrics import f1_score, confusion_matrix, accuracy_score\n",
    "\n",
    "from helpers.dataset_preprocessing import build_model_data\n",
    "from helpers.feature_extractors import extract_features, extract_features_2d, extract_features_edge\n",
    "from helpers.metric_helpers import compute_true_positive_rate\n",
    "from helpers.visualization_helpers import pretty_confusion\n",
    "\n",
    "from helpers.temp_helpers import *"
   ]
  },
  {
   "cell_type": "code",
   "execution_count": 2,
   "metadata": {
    "collapsed": false
   },
   "outputs": [],
   "source": [
    "patch_size = 16\n",
    "width = 400\n",
    "height = 400\n",
    "n_img = 10\n",
    "root_dir = \"training/\""
   ]
  },
  {
   "cell_type": "markdown",
   "metadata": {},
   "source": [
    "# Extract 2d features"
   ]
  },
  {
   "cell_type": "code",
   "execution_count": 3,
   "metadata": {
    "collapsed": false
   },
   "outputs": [
    {
     "name": "stdout",
     "output_type": "stream",
     "text": [
      "Original loaded dataset size: 10\n",
      "X [(62500, 2)] and Y [(62500,)]\n"
     ]
    },
    {
     "data": {
      "text/plain": [
       "KNeighborsClassifier(algorithm='auto', leaf_size=30, metric='minkowski',\n",
       "           metric_params=None, n_jobs=1, n_neighbors=5, p=2,\n",
       "           weights='uniform')"
      ]
     },
     "execution_count": 3,
     "metadata": {},
     "output_type": "execute_result"
    }
   ],
   "source": [
    "X1, Y1 = build_model_data(root_dir, extract_features_2d, patch_size=patch_size, n_img=n_img)\n",
    "X1 = normalize(X1)\n",
    "neigh1 = KNeighborsClassifier(n_neighbors=5)\n",
    "neigh1.fit(X1, Y1)"
   ]
  },
  {
   "cell_type": "markdown",
   "metadata": {},
   "source": [
    "# Extract 6d features"
   ]
  },
  {
   "cell_type": "code",
   "execution_count": 4,
   "metadata": {
    "collapsed": false
   },
   "outputs": [
    {
     "name": "stdout",
     "output_type": "stream",
     "text": [
      "Original loaded dataset size: 10\n",
      "X [(62500, 6)] and Y [(62500,)]\n"
     ]
    },
    {
     "data": {
      "text/plain": [
       "KNeighborsClassifier(algorithm='auto', leaf_size=30, metric='minkowski',\n",
       "           metric_params=None, n_jobs=1, n_neighbors=5, p=2,\n",
       "           weights='uniform')"
      ]
     },
     "execution_count": 4,
     "metadata": {},
     "output_type": "execute_result"
    }
   ],
   "source": [
    "X2, Y2 = build_model_data(root_dir, extract_features, patch_size=patch_size, n_img=n_img)\n",
    "X2 = normalize(X2)\n",
    "neigh2 = KNeighborsClassifier(n_neighbors=5)\n",
    "neigh2.fit(X2, Y2)"
   ]
  },
  {
   "cell_type": "markdown",
   "metadata": {},
   "source": [
    "# Add canny edge detector"
   ]
  },
  {
   "cell_type": "code",
   "execution_count": 5,
   "metadata": {
    "collapsed": false
   },
   "outputs": [
    {
     "name": "stdout",
     "output_type": "stream",
     "text": [
      "Original loaded dataset size: 10\n",
      "X [(62500, 7)] and Y [(62500,)]\n"
     ]
    },
    {
     "data": {
      "text/plain": [
       "KNeighborsClassifier(algorithm='auto', leaf_size=30, metric='minkowski',\n",
       "           metric_params=None, n_jobs=1, n_neighbors=5, p=2,\n",
       "           weights='uniform')"
      ]
     },
     "execution_count": 5,
     "metadata": {},
     "output_type": "execute_result"
    }
   ],
   "source": [
    "X3, Y3 = build_model_data(root_dir, extract_features_edge, patch_size=patch_size, n_img=n_img)\n",
    "X3 = normalize(X3)\n",
    "neigh3 = KNeighborsClassifier(n_neighbors=5)\n",
    "neigh3.fit(X3, Y3)"
   ]
  },
  {
   "cell_type": "markdown",
   "metadata": {},
   "source": [
    "# Add polynomial features"
   ]
  },
  {
   "cell_type": "code",
   "execution_count": 6,
   "metadata": {
    "collapsed": false
   },
   "outputs": [
    {
     "name": "stdout",
     "output_type": "stream",
     "text": [
      "Original loaded dataset size: 10\n",
      "X [(62500, 7)] and Y [(62500,)]\n"
     ]
    },
    {
     "data": {
      "text/plain": [
       "KNeighborsClassifier(algorithm='auto', leaf_size=30, metric='minkowski',\n",
       "           metric_params=None, n_jobs=1, n_neighbors=5, p=2,\n",
       "           weights='uniform')"
      ]
     },
     "execution_count": 6,
     "metadata": {},
     "output_type": "execute_result"
    }
   ],
   "source": [
    "X4, Y4 = build_model_data(root_dir, extract_features_edge, patch_size=patch_size, n_img=n_img)\n",
    "poly = PolynomialFeatures(3)\n",
    "X4 = poly.fit_transform(X4)\n",
    "X4 = normalize(X4)\n",
    "neigh4 = KNeighborsClassifier(n_neighbors=5)\n",
    "neigh4.fit(X4, Y4)"
   ]
  },
  {
   "cell_type": "markdown",
   "metadata": {},
   "source": [
    "# Comparison"
   ]
  },
  {
   "cell_type": "code",
   "execution_count": 7,
   "metadata": {
    "collapsed": false
   },
   "outputs": [
    {
     "name": "stdout",
     "output_type": "stream",
     "text": [
      "True positive rate = 0.089648\n",
      "F1-score: 0.450510573289\n",
      "            t/p           road             bg\n",
      "           road          43229           3080\n",
      "             bg          10588           5603\n",
      "\n",
      "\n",
      "True positive rate = 0.152768\n",
      "F1-score: 0.646598720076\n",
      "            t/p           road             bg\n",
      "           road          42515           3794\n",
      "             bg           6643           9548\n",
      "\n",
      "\n",
      "True positive rate = 0.153264\n",
      "F1-score: 0.647995941147\n",
      "            t/p           road             bg\n",
      "           road          42514           3795\n",
      "             bg           6612           9579\n",
      "\n",
      "\n",
      "True positive rate = 0.160624\n",
      "F1-score: 0.670697487974\n",
      "            t/p           road             bg\n",
      "           road          42603           3706\n",
      "             bg           6152          10039\n",
      "\n",
      "\n"
     ]
    }
   ],
   "source": [
    "models = [(neigh1, X1, Y1), (neigh2, X2, Y2), (neigh3, X3, Y3), (neigh4, X4, Y4)]\n",
    "\n",
    "for m in models:\n",
    "    # Predict on the training set\n",
    "    Z = m[0].predict(m[1])\n",
    "\n",
    "    TPR = compute_true_positive_rate(m[2],Z)\n",
    "    print('True positive rate = ' + str(TPR))\n",
    "    print('F1-score:', f1_score(m[2],Z))\n",
    "    pretty_confusion([\"road\", \"bg\"], m[2], Z)\n",
    "    print('\\n')"
   ]
  },
  {
   "cell_type": "markdown",
   "metadata": {},
   "source": [
    "# Cross-validation without post-processing"
   ]
  },
  {
   "cell_type": "code",
   "execution_count": 8,
   "metadata": {
    "collapsed": false
   },
   "outputs": [
    {
     "name": "stdout",
     "output_type": "stream",
     "text": [
      "ACCURACY\n",
      "[ 0.70276756  0.68896     0.6848      0.6864      0.70336     0.69728\n",
      "  0.69456     0.68128     0.70192     0.68138902]\n",
      "mean accuracy: 0.692271657943\n",
      "F1-SCORE\n",
      "[ 0.23539095  0.20523303  0.22805643  0.22098569  0.23261589  0.22075783\n",
      "  0.21148286  0.25056433  0.22600748  0.21706646]\n",
      "mean f1: 0.224816094488\n",
      "\n",
      "\n",
      "ACCURACY\n",
      "[ 0.78403455  0.75472     0.74416     0.70688     0.76688     0.77248\n",
      "  0.74096     0.75104     0.73808     0.66074572]\n",
      "mean accuracy: 0.741998027379\n",
      "F1-SCORE\n",
      "[ 0.53956344  0.45269547  0.4836939   0.41282051  0.48715241  0.48215586\n",
      "  0.46479339  0.52990937  0.41598288  0.43193998]\n",
      "mean f1: 0.470070719621\n",
      "\n",
      "\n",
      "ACCURACY\n",
      "[ 0.78131499  0.75504     0.74816     0.70656     0.7656      0.77376\n",
      "  0.7408      0.75408     0.74016     0.66170587]\n",
      "mean accuracy: 0.742718086254\n",
      "F1-SCORE\n",
      "[ 0.53582343  0.45496618  0.48862898  0.41851617  0.48506151  0.48693759\n",
      "  0.46534653  0.53466546  0.41833811  0.43080237]\n",
      "mean f1: 0.471908633021\n",
      "\n",
      "\n",
      "ACCURACY\n",
      "[ 0.79331307  0.75648     0.77296     0.72656     0.77488     0.77456\n",
      "  0.75264     0.76        0.74816     0.78268523]\n",
      "mean accuracy: 0.764223829955\n",
      "F1-SCORE\n",
      "[ 0.55076495  0.46968641  0.53793553  0.46476668  0.51632864  0.49768271\n",
      "  0.50575448  0.52978056  0.44263456  0.56696429]\n",
      "mean f1: 0.508229879677\n",
      "\n",
      "\n"
     ]
    }
   ],
   "source": [
    "for m in models:\n",
    "    cr_val = cross_val_score(m[0], m[1], m[2], cv=10, scoring='accuracy')\n",
    "    print('ACCURACY')\n",
    "    print(cr_val)\n",
    "    print('mean accuracy:', cr_val.mean())\n",
    "    cr_val = cross_val_score(m[0], m[1], m[2], cv=10, scoring='f1')\n",
    "    print('F1-SCORE')\n",
    "    print(cr_val)\n",
    "    print('mean f1:', cr_val.mean())\n",
    "    print('\\n')"
   ]
  },
  {
   "cell_type": "markdown",
   "metadata": {},
   "source": [
    "# Post processing"
   ]
  },
  {
   "cell_type": "code",
   "execution_count": 9,
   "metadata": {
    "collapsed": false
   },
   "outputs": [],
   "source": [
    "from skimage.morphology import *\n",
    "def postprocessing(Z, w, h, patch_size):\n",
    "    n_patch = np.int(w/patch_size)\n",
    "    Z = Z.reshape(-1,n_patch*n_patch)\n",
    "    \n",
    "    Z = np.apply_along_axis(post_image, arr=Z, axis=1)\n",
    "    Z = Z.reshape(-1,1)\n",
    "    return Z\n",
    "\n",
    "def post_image(Z):\n",
    "    binary_closing(Z, out=Z)\n",
    "    return Z"
   ]
  },
  {
   "cell_type": "markdown",
   "metadata": {},
   "source": [
    "# Cross validation with post-processing"
   ]
  },
  {
   "cell_type": "code",
   "execution_count": 10,
   "metadata": {
    "collapsed": false
   },
   "outputs": [],
   "source": [
    "from sklearn.model_selection import KFold\n",
    "def cross_validation(X, Y, neigh, cv=10, post=False, verbose=False):\n",
    "    tot_f1 = 0\n",
    "    tot_acc = 0\n",
    "    kf = KFold(n_splits=cv)\n",
    "\n",
    "    for k, (train, test) in enumerate(kf.split(X)):\n",
    "        x_train = X[train]\n",
    "        x_test = X[test]\n",
    "        y_train = Y[train]\n",
    "        y_test = Y[test]\n",
    "\n",
    "        neigh.fit(x_train,y_train)\n",
    "\n",
    "        z = neigh.predict(x_test)\n",
    "\n",
    "        if post:\n",
    "            z = postprocessing(z, width, height, patch_size)\n",
    "\n",
    "        Zn = np.nonzero(z)[0]\n",
    "        Yn = np.nonzero(y_test)[0]\n",
    "\n",
    "        TPR = len(list(set(Yn) & set(Zn))) / float(len(z))\n",
    "        f1 = f1_score(y_test,z)\n",
    "        acc = accuracy_score(y_test,z)\n",
    "\n",
    "        tot_f1 = tot_f1 + f1\n",
    "        tot_acc = tot_acc + acc\n",
    "        \n",
    "        if verbose:\n",
    "            print('K: ', k)\n",
    "            print('True positive rate = ' + str(TPR))\n",
    "            print('F1-score:', f1)\n",
    "            print('accuracy score:', acc)\n",
    "            print('\\n')\n",
    "\n",
    "    avg_f1 = tot_f1/cv\n",
    "    avg_acc = tot_acc/cv\n",
    "    \n",
    "    print('Average Accuracy score:', avg_acc)\n",
    "    print('Average F1-score:', avg_f1)"
   ]
  },
  {
   "cell_type": "code",
   "execution_count": 11,
   "metadata": {
    "collapsed": false
   },
   "outputs": [
    {
     "name": "stdout",
     "output_type": "stream",
     "text": [
      "\n",
      "Average Accuracy score: 0.692768\n",
      "Average F1-score: 0.22384039764\n",
      "Average Accuracy score: 0.677056\n",
      "Average F1-score: 0.267398999642\n",
      "\n",
      "Average Accuracy score: 0.742448\n",
      "Average F1-score: 0.468462493508\n",
      "Average Accuracy score: 0.736432\n",
      "Average F1-score: 0.522067768977\n",
      "\n",
      "Average Accuracy score: 0.743232\n",
      "Average F1-score: 0.470380558997\n",
      "Average Accuracy score: 0.737024\n",
      "Average F1-score: 0.523654567472\n",
      "\n",
      "Average Accuracy score: 0.763648\n",
      "Average F1-score: 0.503290265225\n",
      "Average Accuracy score: 0.757888\n",
      "Average F1-score: 0.550368795358\n"
     ]
    }
   ],
   "source": [
    "for m in models:\n",
    "    print()\n",
    "    cross_validation(m[1],m[2],m[0],post=False)\n",
    "    cross_validation(m[1],m[2],m[0],post=True)"
   ]
  }
 ],
 "metadata": {
  "anaconda-cloud": {},
  "kernelspec": {
   "display_name": "Python [Root]",
   "language": "python",
   "name": "Python [Root]"
  },
  "language_info": {
   "codemirror_mode": {
    "name": "ipython",
    "version": 3
   },
   "file_extension": ".py",
   "mimetype": "text/x-python",
   "name": "python",
   "nbconvert_exporter": "python",
   "pygments_lexer": "ipython3",
   "version": "3.5.2"
  }
 },
 "nbformat": 4,
 "nbformat_minor": 0
}
