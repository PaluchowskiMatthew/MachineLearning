{
 "cells": [
  {
   "cell_type": "markdown",
   "metadata": {},
   "source": [
    "# Performance of classifier (CV - F1)"
   ]
  },
  {
   "cell_type": "code",
   "execution_count": 3,
   "metadata": {
    "collapsed": false
   },
   "outputs": [],
   "source": [
    "%matplotlib inline\n",
    "import matplotlib.image as mpimg\n",
    "import numpy as np\n",
    "import sklearn as skl\n",
    "import skimage as ski\n",
    "import matplotlib.pyplot as plt\n",
    "import os,sys\n",
    "from PIL import Image"
   ]
  },
  {
   "cell_type": "code",
   "execution_count": null,
   "metadata": {
    "collapsed": true
   },
   "outputs": [],
   "source": [
    "# Loaded a set of images\n",
    "root_dir = \"training/\"\n",
    "\n",
    "image_dir = root_dir + \"images/\"\n",
    "files = os.listdir(image_dir)\n",
    "n = min(20, len(files)) # Load maximum 20 images\n",
    "print(\"Loading \" + str(n) + \" images\")\n",
    "imgs = [load_image(image_dir + files[i]) for i in range(n)]\n",
    "print(files[0])\n",
    "\n",
    "gt_dir = root_dir + \"groundtruth/\"\n",
    "print(\"Loading \" + str(n) + \" images\")\n",
    "gt_imgs = [load_image(gt_dir + files[i]) for i in range(n)]\n",
    "print(files[0])"
   ]
  },
  {
   "cell_type": "code",
   "execution_count": null,
   "metadata": {
    "collapsed": true
   },
   "outputs": [],
   "source": [
    "def cross_validation(X, Y, ratio, folds):\n",
    "    #Create train and test sets\n",
    "    idx = np.random.permutation(arange(X.shape[0])) #imags.shape[0], len(imgs)?\n",
    "    train_size = int(ratio*X.shape[0]\n",
    "    X_train = X[idx[:train_size]]\n",
    "    Y_train = Y[idx[:train_size]]\n",
    "    X_test = X[idx[train_size:]]\n",
    "    Y_test = Y[idx[train_size:]]\n",
    "    \n",
    "    #Compute F1-measure of number of folds\n",
    "    for k in range(folds):        \n",
    "            #Random or pre-defined test/train sets\n",
    "                     \n",
    "            #Optional: Train a new classifier on train set on each fold\n",
    "                     \n",
    "            #Compute prediction y_pred of test\n",
    "                     \n",
    "            #Compute the f1-score\n",
    "            f1[k] = skl.metrics.f1_score(Y_test, Y_pred)\n",
    "    #Or use :\n",
    "    \"\"\"\n",
    "    from sklearn.model_selection import cross_val_score\n",
    "    from sklearn import metrics\n",
    "    scores = cross_val_score(clf, iris.data, iris.target, cv=5, scoring='f1_macro') with clf being our classifier\n",
    "    \"\"\"\n",
    "        "
   ]
  }
 ],
 "metadata": {
  "anaconda-cloud": {},
  "kernelspec": {
   "display_name": "Python [Root]",
   "language": "python",
   "name": "Python [Root]"
  },
  "language_info": {
   "codemirror_mode": {
    "name": "ipython",
    "version": 3
   },
   "file_extension": ".py",
   "mimetype": "text/x-python",
   "name": "python",
   "nbconvert_exporter": "python",
   "pygments_lexer": "ipython3",
   "version": "3.5.2"
  }
 },
 "nbformat": 4,
 "nbformat_minor": 0
}
