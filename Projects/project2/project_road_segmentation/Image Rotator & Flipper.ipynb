{
 "cells": [
  {
   "cell_type": "code",
   "execution_count": 1,
   "metadata": {
    "collapsed": true
   },
   "outputs": [],
   "source": [
    "import numpy as np\n",
    "import os,sys\n",
    "from PIL import Image, ImageOps\n",
    "from original_helpers import *\n",
    "from new_helpers import *\n",
    "import math\n",
    "\n",
    "%matplotlib inline"
   ]
  },
  {
   "cell_type": "code",
   "execution_count": 2,
   "metadata": {
    "collapsed": true
   },
   "outputs": [],
   "source": [
    "# GLOBAL VARIABLES\n",
    "\n",
    "TOTAL_IMAGES = 100 # Number of images to load\n",
    "TRAIN_FRACTION = 0.9 # Percentage of images used for training\n",
    "ANGLE_STEP = 36 # Gotta be 360/ANGLE_STEP needs to be an integer\n",
    "FLIP = True # Flag to signal if flipped  versions of rotated images should also be created|"
   ]
  },
  {
   "cell_type": "code",
   "execution_count": 20,
   "metadata": {
    "collapsed": true
   },
   "outputs": [],
   "source": [
    "\n",
    "def rotate_imgs(imgs_array, angle_step, flip=False):\n",
    "    \"\"\"Image rotating function\n",
    "\n",
    "    Args:\n",
    "        imgs_array (array): Array of images (3D numpy arrays).\n",
    "        angle_step (double): step of rotation angle\n",
    "        flip (bool): flag. If true fliped image will also be included\n",
    "\n",
    "    Returns:\n",
    "        array of 3D numpy arrays[ [[[]]] ]\n",
    "\n",
    "    \"\"\"\n",
    "    number_of_rotations = math.floor(360 / angle_step)\n",
    "    rotated_imgs = []\n",
    "    \n",
    "    for img in imgs_array:\n",
    "        for rotation_number in range(1, number_of_rotations):\n",
    "            is_2d = len(img.shape) < 3\n",
    "            if is_2d:\n",
    "                pil_img = Image.fromarray(img, 'L')\n",
    "            else:\n",
    "                pil_img = Image.fromarray(img, 'RGB')\n",
    "            rotated = pil_img.rotate(angle_step * rotation_number)\n",
    "            rotated_imgs.append(np.array(rotated))\n",
    "            if flip:\n",
    "                flipped = ImageOps.mirror(pil_img)\n",
    "                rotated = flipped.rotate(angle_step * rotation_number)\n",
    "                rotated_imgs.append(np.array(rotated))\n",
    "    return rotated_imgs"
   ]
  },
  {
   "cell_type": "code",
   "execution_count": 21,
   "metadata": {
    "collapsed": false
   },
   "outputs": [
    {
     "name": "stdout",
     "output_type": "stream",
     "text": [
      "Loading 100 images\n",
      "satImage_001.png\n",
      "Loading 100 images\n",
      "satImage_001.png\n"
     ]
    }
   ],
   "source": [
    "# Loaded a set of images\n",
    "root_dir = \"training/\"\n",
    "\n",
    "image_dir = root_dir + \"images/\"\n",
    "files = os.listdir(image_dir)\n",
    "n = min(TOTAL_IMAGES, len(files)) # Load maximum 20 images\n",
    "print(\"Loading \" + str(n) + \" images\")\n",
    "imgs = [img_float_to_uint8(load_image(image_dir + files[i])) for i in range(n)]\n",
    "\n",
    "train_size = int(TOTAL_IMAGES*TRAIN_FRACTION)\n",
    "train_imgs = imgs[0:train_size]\n",
    "test_imgs = imgs[train_size:]\n",
    "imgs_rotated_flipped = rotate_imgs(train_imgs, ANGLE_STEP, FLIP)\n",
    "train_imgs += imgs_rotated_flipped\n",
    "print(files[0])\n",
    "\n",
    "gt_dir = root_dir + \"groundtruth/\"\n",
    "print(\"Loading \" + str(n) + \" images\")\n",
    "gt_imgs = [img_float_to_uint8(load_image(gt_dir + files[i])) for i in range(n)]\n",
    "train_gt_imgs = gt_imgs[0:train_size]\n",
    "test_gt_imgs = gt_imgs[train_size:]\n",
    "gt_imgs_rotated_flipped = rotate_imgs(train_gt_imgs, ANGLE_STEP, FLIP)\n",
    "train_gt_imgs += gt_imgs_rotated_flipped\n",
    "print(files[0])"
   ]
  },
  {
   "cell_type": "code",
   "execution_count": null,
   "metadata": {
    "collapsed": true
   },
   "outputs": [],
   "source": []
  }
 ],
 "metadata": {
  "kernelspec": {
   "display_name": "Python [Root]",
   "language": "python",
   "name": "Python [Root]"
  },
  "language_info": {
   "codemirror_mode": {
    "name": "ipython",
    "version": 3
   },
   "file_extension": ".py",
   "mimetype": "text/x-python",
   "name": "python",
   "nbconvert_exporter": "python",
   "pygments_lexer": "ipython3",
   "version": "3.5.2"
  }
 },
 "nbformat": 4,
 "nbformat_minor": 0
}
