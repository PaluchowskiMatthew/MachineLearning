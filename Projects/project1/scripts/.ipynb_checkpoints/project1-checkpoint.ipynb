{
 "cells": [
  {
   "cell_type": "code",
   "execution_count": 1,
   "metadata": {
    "collapsed": false
   },
   "outputs": [],
   "source": [
    "# Useful starting lines\n",
    "%matplotlib inline\n",
    "import numpy as np\n",
    "import matplotlib.pyplot as plt\n",
    "import zipfile\n",
    "import os\n",
    "import datetime\n",
    "import seaborn as sns\n",
    "from functions import *\n",
    "%load_ext autoreload\n",
    "%autoreload 2"
   ]
  },
  {
   "cell_type": "markdown",
   "metadata": {},
   "source": [
    "## Load the training data into feature matrix, class labels, and event ids:"
   ]
  },
  {
   "cell_type": "code",
   "execution_count": null,
   "metadata": {
    "collapsed": true
   },
   "outputs": [],
   "source": [
    "# Github does not accept files above 100mb and test.csv is 104mb\n",
    "# thus we upload zip whith test.csv which needs to be extracted\n",
    "with zipfile.ZipFile(\"../data/test.csv.zip\",\"r\") as zip_ref:\n",
    "    zip_ref.extractall(\"../data/\")"
   ]
  },
  {
   "cell_type": "code",
   "execution_count": 3,
   "metadata": {
    "collapsed": false
   },
   "outputs": [],
   "source": [
    "from proj1_helpers import *\n",
    "DATA_TRAIN_PATH = '../data/train.csv' # TODO: download train data and supply path here \n",
    "y, tx, ids = load_csv_data(DATA_TRAIN_PATH)"
   ]
  },
  {
   "cell_type": "code",
   "execution_count": null,
   "metadata": {
    "collapsed": false,
    "scrolled": true
   },
   "outputs": [],
   "source": [
    "#Lets verify loaded data\n",
    "print(y.shape)\n",
    "print(tx.shape)\n",
    "print(ids.shape)"
   ]
  },
  {
   "cell_type": "code",
   "execution_count": null,
   "metadata": {
    "collapsed": false
   },
   "outputs": [],
   "source": [
    "# fig = plt.figure()\n",
    "\n",
    "# ax2 = fig.add_subplot(1, 1, 1)\n",
    "# ax2.scatter(tX[:,0].T, y, marker=\".\", color='b', s=5)\n",
    "# ax2.set_xlabel(\"x\")\n",
    "# ax2.set_ylabel(\"y\")\n",
    "# ax2.grid()\n",
    "# fig"
   ]
  },
  {
   "cell_type": "markdown",
   "metadata": {},
   "source": [
    "# Do your thing crazy machine learning thing here :) ..."
   ]
  },
  {
   "cell_type": "code",
   "execution_count": null,
   "metadata": {
    "collapsed": false
   },
   "outputs": [],
   "source": [
    "#Lets test some basics: Least Squares Gradient Descent\n",
    "\n",
    "# Define the parameters of the algorithm.\n",
    "max_iters = 1000\n",
    "gamma = 0.0000001\n",
    "\n",
    "# Start gradient descent.\n",
    "start_time = datetime.datetime.now()\n",
    "grad_loss, gradient_w = least_squares_GD(y, tx, gamma, max_iters)\n",
    "end_time = datetime.datetime.now()\n",
    "\n",
    "# Print result\n",
    "exection_time = (end_time - start_time).total_seconds()\n",
    "print(\"Gradient Descent: execution time={t:.3f} seconds. MSE Loss={l}\".format(t=exection_time, l=grad_loss))"
   ]
  },
  {
   "cell_type": "code",
   "execution_count": null,
   "metadata": {
    "collapsed": true
   },
   "outputs": [],
   "source": [
    "gammas = np.logspace(-1, -10, 10)"
   ]
  },
  {
   "cell_type": "code",
   "execution_count": 35,
   "metadata": {
    "collapsed": false
   },
   "outputs": [
    {
     "name": "stdout",
     "output_type": "stream",
     "text": [
      "Stochastic Gradient Descent: execution time=6.241 seconds. MSE Loss=0.42858230135876607\n"
     ]
    }
   ],
   "source": [
    "# Stochastic Gradient Descent\n",
    "\n",
    "# Define the parameters of the algorithm.\n",
    "max_iters = 100\n",
    "gamma = 0.0001\n",
    "\n",
    "for gamma in np.nditer(gammas):\n",
    "    # Start stochastic gradient descent.\n",
    "    start_time = datetime.datetime.now()\n",
    "    stoch_grad_loss, stoch_gradient_w = least_squares_SGD(y, tx, gamma, max_iters)\n",
    "    end_time = datetime.datetime.now()\n",
    "\n",
    "    # Print result\n",
    "    exection_time = (end_time - start_time).total_seconds()\n",
    "    print(\"Stochastic Gradient Descent: execution time={t:.3f} seconds. MSE Loss={l}\".format(t=exection_time, l=stoch_grad_loss))"
   ]
  },
  {
   "cell_type": "code",
   "execution_count": 34,
   "metadata": {
    "collapsed": false
   },
   "outputs": [
    {
     "name": "stdout",
     "output_type": "stream",
     "text": [
      "Stochastic Gradient Descent: execution time=0.326 seconds. MSE Loss=0.3396868099082609\n"
     ]
    }
   ],
   "source": [
    "# Least Squares\n",
    "start_time = datetime.datetime.now()\n",
    "least_squares_loss, leas_squares_gradient_w = least_squares(y, tx)\n",
    "end_time = datetime.datetime.now()\n",
    "\n",
    "# Print result\n",
    "exection_time = (end_time - start_time).total_seconds()\n",
    "print(\"Stochastic Gradient Descent: execution time={t:.3f} seconds. MSE Loss={l}\".format(t=exection_time, l=least_squares_loss))"
   ]
  },
  {
   "cell_type": "code",
   "execution_count": 38,
   "metadata": {
    "collapsed": false
   },
   "outputs": [
    {
     "data": {
      "text/plain": [
       "array([  1.00000000e-04,   6.89261210e-05,   4.75081016e-05,\n",
       "         3.27454916e-05,   2.25701972e-05,   1.55567614e-05,\n",
       "         1.07226722e-05,   7.39072203e-06,   5.09413801e-06,\n",
       "         3.51119173e-06,   2.42012826e-06,   1.66810054e-06,\n",
       "         1.14975700e-06,   7.92482898e-07,   5.46227722e-07,\n",
       "         3.76493581e-07,   2.59502421e-07,   1.78864953e-07,\n",
       "         1.23284674e-07,   8.49753436e-08,   5.85702082e-08,\n",
       "         4.03701726e-08,   2.78255940e-08,   1.91791026e-08,\n",
       "         1.32194115e-08,   9.11162756e-09,   6.28029144e-09,\n",
       "         4.32876128e-09,   2.98364724e-09,   2.05651231e-09,\n",
       "         1.41747416e-09,   9.77009957e-10,   6.73415066e-10,\n",
       "         4.64158883e-10,   3.19926714e-10,   2.20513074e-10,\n",
       "         1.51991108e-10,   1.04761575e-10,   7.22080902e-11,\n",
       "         4.97702356e-11,   3.43046929e-11,   2.36448941e-11,\n",
       "         1.62975083e-11,   1.12332403e-11,   7.74263683e-12,\n",
       "         5.33669923e-12,   3.67837977e-12,   2.53536449e-12,\n",
       "         1.74752840e-12,   1.20450354e-12,   8.30217568e-13,\n",
       "         5.72236766e-13,   3.94420606e-13,   2.71858824e-13,\n",
       "         1.87381742e-13,   1.29154967e-13,   8.90215085e-14,\n",
       "         6.13590727e-14,   4.22924287e-14,   2.91505306e-14,\n",
       "         2.00923300e-14,   1.38488637e-14,   9.54548457e-15,\n",
       "         6.57933225e-15,   4.53487851e-15,   3.12571585e-15,\n",
       "         2.15443469e-15,   1.48496826e-15,   1.02353102e-15,\n",
       "         7.05480231e-16,   4.86260158e-16,   3.35160265e-16,\n",
       "         2.31012970e-16,   1.59228279e-16,   1.09749877e-16,\n",
       "         7.56463328e-17,   5.21400829e-17,   3.59381366e-17,\n",
       "         2.47707636e-17,   1.70735265e-17,   1.17681195e-17,\n",
       "         8.11130831e-18,   5.59081018e-18,   3.85352859e-18,\n",
       "         2.65608778e-18,   1.83073828e-18,   1.26185688e-18,\n",
       "         8.69749003e-19,   5.99484250e-19,   4.13201240e-19,\n",
       "         2.84803587e-19,   1.96304065e-19,   1.35304777e-19,\n",
       "         9.32603347e-20,   6.42807312e-20,   4.43062146e-20,\n",
       "         3.05385551e-20,   2.10490414e-20,   1.45082878e-20,\n",
       "         1.00000000e-20])"
      ]
     },
     "execution_count": 38,
     "metadata": {},
     "output_type": "execute_result"
    }
   ],
   "source": [
    "lambs = np.logspace(-4, -20, 100)\n",
    "lambs"
   ]
  },
  {
   "cell_type": "code",
   "execution_count": 39,
   "metadata": {
    "collapsed": false
   },
   "outputs": [
    {
     "name": "stdout",
     "output_type": "stream",
     "text": [
      "Ridge Regression: execution time=0.293 seconds. MSE Loss=0.3396868099082609\n",
      "Ridge Regression: execution time=0.298 seconds. MSE Loss=0.3396868099082609\n",
      "Ridge Regression: execution time=0.307 seconds. MSE Loss=0.3396868099082609\n",
      "Ridge Regression: execution time=0.310 seconds. MSE Loss=0.3396868099082609\n",
      "Ridge Regression: execution time=0.296 seconds. MSE Loss=0.3396868099082609\n",
      "Ridge Regression: execution time=0.302 seconds. MSE Loss=0.3396868099082609\n",
      "Ridge Regression: execution time=0.304 seconds. MSE Loss=0.3396868099082609\n",
      "Ridge Regression: execution time=0.299 seconds. MSE Loss=0.3396868099082609\n",
      "Ridge Regression: execution time=0.307 seconds. MSE Loss=0.3396868099082609\n",
      "Ridge Regression: execution time=0.299 seconds. MSE Loss=0.3396868099082609\n",
      "Ridge Regression: execution time=0.304 seconds. MSE Loss=0.3396868099082609\n",
      "Ridge Regression: execution time=0.295 seconds. MSE Loss=0.3396868099082609\n",
      "Ridge Regression: execution time=0.295 seconds. MSE Loss=0.3396868099082609\n",
      "Ridge Regression: execution time=0.294 seconds. MSE Loss=0.3396868099082609\n",
      "Ridge Regression: execution time=0.301 seconds. MSE Loss=0.3396868099082609\n",
      "Ridge Regression: execution time=0.320 seconds. MSE Loss=0.3396868099082609\n",
      "Ridge Regression: execution time=0.290 seconds. MSE Loss=0.3396868099082609\n",
      "Ridge Regression: execution time=0.312 seconds. MSE Loss=0.3396868099082609\n",
      "Ridge Regression: execution time=0.296 seconds. MSE Loss=0.3396868099082609\n",
      "Ridge Regression: execution time=0.291 seconds. MSE Loss=0.3396868099082609\n",
      "Ridge Regression: execution time=0.297 seconds. MSE Loss=0.3396868099082609\n",
      "Ridge Regression: execution time=0.294 seconds. MSE Loss=0.3396868099082609\n",
      "Ridge Regression: execution time=0.297 seconds. MSE Loss=0.3396868099082609\n",
      "Ridge Regression: execution time=0.305 seconds. MSE Loss=0.3396868099082609\n",
      "Ridge Regression: execution time=0.298 seconds. MSE Loss=0.3396868099082609\n",
      "Ridge Regression: execution time=0.294 seconds. MSE Loss=0.3396868099082609\n",
      "Ridge Regression: execution time=0.292 seconds. MSE Loss=0.3396868099082609\n",
      "Ridge Regression: execution time=0.292 seconds. MSE Loss=0.3396868099082609\n",
      "Ridge Regression: execution time=0.296 seconds. MSE Loss=0.3396868099082609\n",
      "Ridge Regression: execution time=0.303 seconds. MSE Loss=0.3396868099082609\n",
      "Ridge Regression: execution time=0.303 seconds. MSE Loss=0.3396868099082609\n",
      "Ridge Regression: execution time=0.324 seconds. MSE Loss=0.3396868099082609\n",
      "Ridge Regression: execution time=0.300 seconds. MSE Loss=0.3396868099082609\n",
      "Ridge Regression: execution time=0.325 seconds. MSE Loss=0.3396868099082609\n",
      "Ridge Regression: execution time=0.313 seconds. MSE Loss=0.3396868099082609\n",
      "Ridge Regression: execution time=0.301 seconds. MSE Loss=0.3396868099082609\n",
      "Ridge Regression: execution time=0.305 seconds. MSE Loss=0.3396868099082609\n",
      "Ridge Regression: execution time=0.301 seconds. MSE Loss=0.3396868099082609\n",
      "Ridge Regression: execution time=0.288 seconds. MSE Loss=0.3396868099082609\n",
      "Ridge Regression: execution time=0.302 seconds. MSE Loss=0.3396868099082609\n",
      "Ridge Regression: execution time=0.293 seconds. MSE Loss=0.3396868099082609\n",
      "Ridge Regression: execution time=0.294 seconds. MSE Loss=0.3396868099082609\n",
      "Ridge Regression: execution time=0.291 seconds. MSE Loss=0.3396868099082609\n",
      "Ridge Regression: execution time=0.297 seconds. MSE Loss=0.3396868099082609\n",
      "Ridge Regression: execution time=0.291 seconds. MSE Loss=0.3396868099082609\n",
      "Ridge Regression: execution time=0.293 seconds. MSE Loss=0.3396868099082609\n",
      "Ridge Regression: execution time=0.298 seconds. MSE Loss=0.3396868099082609\n",
      "Ridge Regression: execution time=0.304 seconds. MSE Loss=0.3396868099082609\n",
      "Ridge Regression: execution time=0.289 seconds. MSE Loss=0.3396868099082609\n",
      "Ridge Regression: execution time=0.297 seconds. MSE Loss=0.3396868099082609\n",
      "Ridge Regression: execution time=0.303 seconds. MSE Loss=0.3396868099082609\n",
      "Ridge Regression: execution time=0.307 seconds. MSE Loss=0.3396868099082609\n",
      "Ridge Regression: execution time=0.305 seconds. MSE Loss=0.3396868099082609\n",
      "Ridge Regression: execution time=0.325 seconds. MSE Loss=0.3396868099082609\n",
      "Ridge Regression: execution time=0.314 seconds. MSE Loss=0.3396868099082609\n",
      "Ridge Regression: execution time=0.311 seconds. MSE Loss=0.3396868099082609\n",
      "Ridge Regression: execution time=0.305 seconds. MSE Loss=0.3396868099082609\n",
      "Ridge Regression: execution time=0.311 seconds. MSE Loss=0.3396868099082609\n",
      "Ridge Regression: execution time=0.301 seconds. MSE Loss=0.3396868099082609\n",
      "Ridge Regression: execution time=0.308 seconds. MSE Loss=0.3396868099082609\n",
      "Ridge Regression: execution time=0.299 seconds. MSE Loss=0.3396868099082609\n",
      "Ridge Regression: execution time=0.311 seconds. MSE Loss=0.3396868099082609\n",
      "Ridge Regression: execution time=0.292 seconds. MSE Loss=0.3396868099082609\n",
      "Ridge Regression: execution time=0.303 seconds. MSE Loss=0.3396868099082609\n",
      "Ridge Regression: execution time=0.299 seconds. MSE Loss=0.3396868099082609\n",
      "Ridge Regression: execution time=0.304 seconds. MSE Loss=0.3396868099082609\n",
      "Ridge Regression: execution time=0.302 seconds. MSE Loss=0.3396868099082609\n",
      "Ridge Regression: execution time=0.313 seconds. MSE Loss=0.3396868099082609\n",
      "Ridge Regression: execution time=0.299 seconds. MSE Loss=0.3396868099082609\n",
      "Ridge Regression: execution time=0.303 seconds. MSE Loss=0.3396868099082609\n",
      "Ridge Regression: execution time=0.296 seconds. MSE Loss=0.3396868099082609\n",
      "Ridge Regression: execution time=0.295 seconds. MSE Loss=0.3396868099082609\n",
      "Ridge Regression: execution time=0.292 seconds. MSE Loss=0.3396868099082609\n",
      "Ridge Regression: execution time=0.301 seconds. MSE Loss=0.3396868099082609\n",
      "Ridge Regression: execution time=0.300 seconds. MSE Loss=0.3396868099082609\n",
      "Ridge Regression: execution time=0.300 seconds. MSE Loss=0.3396868099082609\n",
      "Ridge Regression: execution time=0.294 seconds. MSE Loss=0.3396868099082609\n",
      "Ridge Regression: execution time=0.298 seconds. MSE Loss=0.3396868099082609\n",
      "Ridge Regression: execution time=0.301 seconds. MSE Loss=0.3396868099082609\n",
      "Ridge Regression: execution time=0.329 seconds. MSE Loss=0.3396868099082609\n",
      "Ridge Regression: execution time=0.303 seconds. MSE Loss=0.3396868099082609\n",
      "Ridge Regression: execution time=0.306 seconds. MSE Loss=0.3396868099082609\n",
      "Ridge Regression: execution time=0.300 seconds. MSE Loss=0.3396868099082609\n",
      "Ridge Regression: execution time=0.296 seconds. MSE Loss=0.3396868099082609\n",
      "Ridge Regression: execution time=0.310 seconds. MSE Loss=0.3396868099082609\n",
      "Ridge Regression: execution time=0.298 seconds. MSE Loss=0.3396868099082609\n",
      "Ridge Regression: execution time=0.303 seconds. MSE Loss=0.3396868099082609\n",
      "Ridge Regression: execution time=0.301 seconds. MSE Loss=0.3396868099082609\n",
      "Ridge Regression: execution time=0.298 seconds. MSE Loss=0.3396868099082609\n",
      "Ridge Regression: execution time=0.306 seconds. MSE Loss=0.3396868099082609\n",
      "Ridge Regression: execution time=0.297 seconds. MSE Loss=0.3396868099082609\n",
      "Ridge Regression: execution time=0.298 seconds. MSE Loss=0.3396868099082609\n",
      "Ridge Regression: execution time=0.301 seconds. MSE Loss=0.3396868099082609\n",
      "Ridge Regression: execution time=0.307 seconds. MSE Loss=0.3396868099082609\n",
      "Ridge Regression: execution time=0.297 seconds. MSE Loss=0.3396868099082609\n",
      "Ridge Regression: execution time=0.307 seconds. MSE Loss=0.3396868099082609\n",
      "Ridge Regression: execution time=0.305 seconds. MSE Loss=0.3396868099082609\n",
      "Ridge Regression: execution time=0.298 seconds. MSE Loss=0.3396868099082609\n",
      "Ridge Regression: execution time=0.309 seconds. MSE Loss=0.3396868099082609\n",
      "Ridge Regression: execution time=0.311 seconds. MSE Loss=0.3396868099082609\n"
     ]
    }
   ],
   "source": [
    "#Ridge Regression\n",
    "\n",
    "# Define the parameters of the algorithm.\n",
    "lamb = 0.0001\n",
    "\n",
    "lambs = np.logspace(-4, -20, 100)\n",
    "for lamb in np.nditer(lambs):\n",
    "    start_time = datetime.datetime.now()\n",
    "    ridge_regression_loss, ridge_regression_gradient_w = ridge_regression(y, tx, lamb)\n",
    "    end_time = datetime.datetime.now()\n",
    "\n",
    "    # Print result\n",
    "    exection_time = (end_time - start_time).total_seconds()\n",
    "    print(\"Ridge Regression: execution time={t:.3f} seconds. MSE Loss={l}\".format(t=exection_time, l=least_squares_loss))"
   ]
  },
  {
   "cell_type": "code",
   "execution_count": null,
   "metadata": {
    "collapsed": false
   },
   "outputs": [],
   "source": [
    "w = np.zeros((tx.shape[1],1))\n",
    "\n",
    "print(tx.shape)\n",
    "print(np.array([y]).T.shape)\n",
    "print(w.shape)"
   ]
  },
  {
   "cell_type": "code",
   "execution_count": 32,
   "metadata": {
    "collapsed": false
   },
   "outputs": [
    {
     "data": {
      "text/plain": [
       "array([  1.00000000e-16,   3.59381366e-17,   1.29154967e-17,\n",
       "         4.64158883e-18,   1.66810054e-18,   5.99484250e-19,\n",
       "         2.15443469e-19,   7.74263683e-20,   2.78255940e-20,\n",
       "         1.00000000e-20])"
      ]
     },
     "execution_count": 32,
     "metadata": {},
     "output_type": "execute_result"
    }
   ],
   "source": [
    "gammas = np.logspace(-16, -20, 10)\n",
    "gammas"
   ]
  },
  {
   "cell_type": "code",
   "execution_count": 33,
   "metadata": {
    "collapsed": false
   },
   "outputs": [
    {
     "name": "stdout",
     "output_type": "stream",
     "text": [
      "Logistic Regression: execution time=748.922 seconds. MSE Loss=-65117.90563844488\n"
     ]
    }
   ],
   "source": [
    "# Logistic Regression using gradient descent\n",
    "\n",
    "# Define the parameters of the algorithm.\n",
    "max_iters = 1000\n",
    "gamma = 3.41379310345e-14 #best from linspace below\n",
    "\n",
    "gammas = np.logspace(-16, -20, 10)# np.logspace(-16, -20, 10)\n",
    "for gamma in np.nditer(gammas[9]):\n",
    "    \n",
    "    start_time = datetime.datetime.now()\n",
    "    logistic_regression_loss, logistic_regression_w = logistic_regression(np.array([y]).T, tx, gamma, max_iters)\n",
    "    end_time = datetime.datetime.now()\n",
    "\n",
    "    # Print result\n",
    "    exection_time = (end_time - start_time).total_seconds()\n",
    "    print(\"Logistic Regression: execution time={t:.3f} seconds. MSE Loss={l}\".format(t=exection_time, l=logistic_regression_loss))"
   ]
  },
  {
   "cell_type": "markdown",
   "metadata": {},
   "source": [
    "# Todo's\n",
    "\n",
    "* fix and check reg_logistic_regression"
   ]
  },
  {
   "cell_type": "code",
   "execution_count": null,
   "metadata": {
    "collapsed": false
   },
   "outputs": [],
   "source": [
    "# Regularized Logistic Regression using gradient descent\n",
    "\n",
    "# Define the parameters of the algorithm.\n",
    "max_iters = 1\n",
    "gamma = 3.41379310345e-14\n",
    "lambd = 0.1\n",
    "    \n",
    "start_time = datetime.datetime.now()\n",
    "logistic_regression_loss, logistic_regression_w = reg_logistic_regression(np.array([y]).T, tx, lambd, gamma, max_iters)\n",
    "end_time = datetime.datetime.now()\n",
    "\n",
    "# Print result\n",
    "exection_time = (end_time - start_time).total_seconds()\n",
    "print(\"Penalizec Logistic Regression: execution time={t:.3f} seconds. MSE Loss={l}\".format(t=exection_time, l=logistic_regression_loss))"
   ]
  },
  {
   "cell_type": "markdown",
   "metadata": {},
   "source": [
    "## Generate predictions and save ouput in csv format for submission:"
   ]
  },
  {
   "cell_type": "code",
   "execution_count": 27,
   "metadata": {
    "collapsed": false
   },
   "outputs": [],
   "source": [
    "DATA_TEST_PATH = '../data/test.csv' # TODO: download test data and supply path here \n",
    "y_test, tX_test, ids_test = load_csv_data(DATA_TEST_PATH)"
   ]
  },
  {
   "cell_type": "code",
   "execution_count": 28,
   "metadata": {
    "collapsed": false
   },
   "outputs": [],
   "source": [
    "OUTPUT_PATH = '../data/logistic_regression_100iter_submission.csv' # TODO: fill in desired name of output file for submission\n",
    "weights = logistic_regression_w\n",
    "y_pred = predict_labels(weights, tX_test)\n",
    "create_csv_submission(ids_test, y_pred, OUTPUT_PATH)"
   ]
  },
  {
   "cell_type": "markdown",
   "metadata": {},
   "source": [
    "http://inclass.kaggle.com/c/epfml-project-1"
   ]
  },
  {
   "cell_type": "code",
   "execution_count": null,
   "metadata": {
    "collapsed": false
   },
   "outputs": [],
   "source": [
    "# Delete train.csv such that github accepts push\n",
    "os.remove('../data/test.csv')"
   ]
  },
  {
   "cell_type": "code",
   "execution_count": null,
   "metadata": {
    "collapsed": true
   },
   "outputs": [],
   "source": []
  }
 ],
 "metadata": {
  "anaconda-cloud": {},
  "kernelspec": {
   "display_name": "Python [Root]",
   "language": "python",
   "name": "Python [Root]"
  },
  "language_info": {
   "codemirror_mode": {
    "name": "ipython",
    "version": 3
   },
   "file_extension": ".py",
   "mimetype": "text/x-python",
   "name": "python",
   "nbconvert_exporter": "python",
   "pygments_lexer": "ipython3",
   "version": "3.5.2"
  }
 },
 "nbformat": 4,
 "nbformat_minor": 0
}
