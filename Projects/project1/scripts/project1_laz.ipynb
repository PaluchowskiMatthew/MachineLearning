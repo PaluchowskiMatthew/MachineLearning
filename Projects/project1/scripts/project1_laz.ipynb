{
 "cells": [
  {
   "cell_type": "code",
   "execution_count": 1,
   "metadata": {
    "collapsed": false
   },
   "outputs": [],
   "source": [
    "# Useful starting lines\n",
    "%matplotlib inline\n",
    "import numpy as np\n",
    "import matplotlib.pyplot as plt\n",
    "import zipfile\n",
    "import os\n",
    "import datetime\n",
    "from implementations import *\n",
    "from helpers import *\n",
    "%load_ext autoreload\n",
    "%autoreload 2"
   ]
  },
  {
   "cell_type": "markdown",
   "metadata": {},
   "source": [
    "## Load the training data into feature matrix, class labels, and event ids:"
   ]
  },
  {
   "cell_type": "code",
   "execution_count": null,
   "metadata": {
    "collapsed": true
   },
   "outputs": [],
   "source": [
    "# Github does not accept files above 100mb and test.csv is 104mb\n",
    "# thus we upload zip whith test.csv which needs to be extracted\n",
    "with zipfile.ZipFile(\"../data/test.csv.zip\",\"r\") as zip_ref:\n",
    "    zip_ref.extractall(\"../data/\")"
   ]
  },
  {
   "cell_type": "code",
   "execution_count": 2,
   "metadata": {
    "collapsed": false
   },
   "outputs": [],
   "source": [
    "from proj1_helpers import *\n",
    "DATA_TRAIN_PATH = '../data/train.csv' # TODO: download train data and supply path here \n",
    "y, x, ids = load_csv_data(DATA_TRAIN_PATH)"
   ]
  },
  {
   "cell_type": "code",
   "execution_count": 3,
   "metadata": {
    "collapsed": true
   },
   "outputs": [],
   "source": [
    "import itertools\n",
    "def combinations(array2d, indeces_list_a, indeces_list_b):\n",
    "    combinations = list(itertools.product(indeces_list_a, indeces_list_b))\n",
    "    for comb in combinations:\n",
    "        new_feature = np.array([array2d[:,comb[0]] * array2d[:,comb[1]]]).T\n",
    "        array2d = np.hstack((array2d, new_feature))\n",
    "    return array2d"
   ]
  },
  {
   "cell_type": "code",
   "execution_count": null,
   "metadata": {
    "collapsed": false,
    "scrolled": false
   },
   "outputs": [],
   "source": [
    "#Let's modify the data: replace -999 by -9\n",
    "x_99 = x\n",
    "np.putmask(x_99, x_99==-999, -9)\n",
    "\n",
    "ratio = 0.1\n",
    "y = np.reshape(y, (len(y), 1))\n",
    "x_train, x_test, y_train, y_test = split_data(x_99, y, ratio)\n",
    "\n",
    "#tx_train_99, tr_mean_99, tr_std_99 = standardize(x_train)\n",
    "#tx_test_99, te_mean_99, te_std_99 = standardize(x_test)\n",
    "\n",
    "tx_train_99 = np.c_[np.ones((y_train.shape[0], 1)), x_train]\n",
    "tx_test_99 = np.c_[np.ones((y_test.shape[0], 1)), x_test]\n",
    "\n",
    "#Least squares\n",
    "print(\"\\t*** LS ****\")\n",
    "w_LS, rmse_tr = least_squares(y_train, tx_train_99)\n",
    "rmse_te = compute_RMSE(y_test, tx_test_99, w_LS)\n",
    "print(rmse_te)\n",
    "print(rmse_tr)\n",
    "\n",
    "#Gradient Descent\n",
    "print(\"\\t*** GS ****\")\n",
    "gamma = 0.00001\n",
    "max_iters = 5\n",
    "initial_w  = np.zeros((tx_train_99.shape[1],1))\n",
    "w_GD, rmse_tr_GD, = least_squares_GD(y_train, tx_train_99, initial_w, max_iters, gamma)\n",
    "rmse_te_GD = compute_RMSE(y_test, tx_test_99, w_GD)\n",
    "print(rmse_te_GD)\n",
    "print(rmse_tr_GD)\n",
    "\n",
    "#Newton\n",
    "print(\"\\t*** N ****\")\n",
    "gamma = 0.00002\n",
    "max_iters = 5\n",
    "lambd = 0.5\n",
    "initial_w  = np.zeros((tx_train_99.shape[1],1))\n",
    "w_N, rmse_tr_N = learning_by_newton_method(y_train, tx_train_99, initial_w, max_iters, gamma)\n",
    "rmse_te_N = compute_RMSE(y_test, tx_test_99, w_N)\n",
    "print(rmse_te_N)\n",
    "print(rmse_tr_N)\n",
    "\n",
    "#Mean of 10 folds least squares\n",
    "print(\"\\t*** CLS ****\")\n",
    "k_folds = 10\n",
    "seed = 2\n",
    "w_LS_folds, rmse_tr_CLS, rmse_te_CLS = cross_validation_LS(y, x_99, k_folds, seed)\n",
    "\n",
    "#Mean of weights along folds\n",
    "w_CLS = w_LS_folds.mean(axis=0)\n",
    "w_CLS = np.reshape(w_CLS, (tx_train_99.shape[1], 1))\n",
    "test_mse_CLS_mean = compute_loss(y_test, tx_test_99, w_CLS)\n",
    "train_mse_CLS_mean = compute_loss(y_train, tx_train_99, w_CLS)\n",
    "rmse_te_CLS_mean = np.sqrt(2*test_mse_CLS_mean)\n",
    "rmse_tr_CLS_mean = np.sqrt(2*train_mse_CLS_mean)\n",
    "print(\"-mean weights:\")\n",
    "print(rmse_te_CLS_mean)\n",
    "print(rmse_tr_CLS_mean)\n",
    "\n",
    "#Best weights in test results\n",
    "w_CLS_best = w_LS_folds[np.argmin(rmse_te_CLS)]\n",
    "w_CLS_best = np.reshape(w_CLS_best, (tx_train_99.shape[1], 1))\n",
    "test_mse_CLS_best = compute_loss(y_test, tx_test_99, w_CLS_best)\n",
    "train_mse_CLS_best = compute_loss(y_train, tx_train_99, w_CLS_best)\n",
    "rmse_te_CLS_best = np.sqrt(2*test_mse_CLS_best)\n",
    "rmse_tr_CLS_best = np.sqrt(2*train_mse_CLS_best)\n",
    "print(\"-best weights:\")\n",
    "print(rmse_te_CLS_best)\n",
    "print(rmse_tr_CLS_best)\n",
    "\n",
    "#Penalized Regression\n",
    "lambd = 0.5\n",
    "gamma = 0.00002\n",
    "max_iters = 5\n",
    "print(\"\\t**** Penalized *******\")\n",
    "initial_w  = np.zeros((tx_train_99.shape[1],1))\n",
    "w_reg, rmse_tr_reg = reg_logistic_regression(y_train, tx_train_99, lambd, initial_w, max_iters, gamma)\n",
    "rmse_te_reg = compute_RMSE(y_test, tx_test_99, w_reg)\n",
    "print(rmse_te_reg)\n",
    "print(rmse_tr_reg)\n",
    "\n",
    "#kind of F1-measure\n",
    "print(\"ratio of misclassified over total predictions: \")\n",
    "\n",
    "y_pred_LS = predict_labels(w_CLS, tx_test_99)\n",
    "f1_CLS = sum(abs(y_test-y_pred_LS))/(2*len(y_pred_LS))\n",
    "print(\"F1 CLS: {l}\".format(l=1-f1_CLS))\n",
    "\n",
    "y_pred_GS = predict_labels(w_GD, tx_test_99)\n",
    "f1_GS = sum(abs(y_test-y_pred_GS))/(2*len(y_pred_GS))\n",
    "print(\"F1 GS: {l}\".format(l=1-f1_GS))\n",
    "\n",
    "y_pred_N = predict_labels(w_N, tx_test_99)\n",
    "f1_N = sum(abs(y_test-y_pred_N))/(2*len(y_pred_N))\n",
    "print(\"F1 N: {l}\".format(l=1-f1_N))\n",
    "\n",
    "y_pred_PR = predict_labels(w_reg, tx_test_99)\n",
    "f1_PR = sum(abs(y_test-y_pred_PR))/(2*len(y_pred_PR))\n",
    "print(\"F1 PR: {l}\".format(l=1-f1_PR))"
   ]
  },
  {
   "cell_type": "code",
   "execution_count": null,
   "metadata": {
    "collapsed": false
   },
   "outputs": [],
   "source": [
    "plt.plot(range(0,k_folds), rmse_tr_CLS)\n",
    "plt.plot(range(0,k_folds), rmse_te_CLS, color='r')"
   ]
  },
  {
   "cell_type": "code",
   "execution_count": null,
   "metadata": {
    "collapsed": false,
    "scrolled": false
   },
   "outputs": [],
   "source": [
    "#plot variance and mean of test/train error of Least squares\n",
    "plt.boxplot([rmse_te_CLS, rmse_tr_CLS])"
   ]
  },
  {
   "cell_type": "code",
   "execution_count": null,
   "metadata": {
    "collapsed": false
   },
   "outputs": [],
   "source": [
    "#***** RIDGE AND LEAST SQUARE ON POLYNOMIAL BASIS FUNCTION DATASET\n",
    "\n",
    "#Let's replace the -999 by Nan to avoid computation while computing the power 3\n",
    "x_nan = x.copy()\n",
    "np.putmask(x_nan, x_nan==-999, np.nan)\n",
    "x_square = np.zeros((x_nan.shape[0], 3*x_nan.shape[1]))\n",
    "\n",
    "#Let's build a matrix using a polynomial basis function (power 3)\n",
    "for column in range(0,x_nan.shape[1]):\n",
    "    x_square[:, column] = x_nan[:, column]\n",
    "    x_square[:, column+x_nan.shape[1]] = np.multiply(x_nan[:,column], x_nan[:,column])\n",
    "    x_square[:, column+2*x_nan.shape[1]] = np.multiply(np.multiply(x_nan[:,column], x_nan[:,column]), x_nan[:,column])\n",
    "#put back -9 instead of Nan\n",
    "x_square[np.isnan(x_square)]=-9\n",
    "\n",
    "ratio = 0.3\n",
    "y = np.reshape(y, (len(y), 1))\n",
    "x_train, x_test, y_train, y_test = split_data(x_square, y, ratio)\n",
    "\n",
    "#tx_train_square, m, s = standardize(x_train)\n",
    "#tx_test_square, m, s = standardize(x_test)\n",
    "\n",
    "tx_train_square = np.c_[np.ones((y_train.shape[0], 1)), x_train]\n",
    "tx_test_square = np.c_[np.ones((y_test.shape[0], 1)), x_test]\n",
    "w = np.ones((tx_train_square.shape[1], 1))\n",
    "\n",
    "#Calculate accuracy with a least square regression\n",
    "w_LS_pow3, rmse_LS_pow3 = least_squares(y_train, tx_train_square)\n",
    "y_pred_LS = predict_labels(w_LS_pow3, tx_test_square)\n",
    "f1_LS_pow3 = sum(abs(y_test-y_pred_LS))/(2*len(y_pred_LS))\n",
    "print(\"f1 score for LS: {f}\".format(f=1-f1_LS_pow3))\n",
    "\n",
    "#calculate accuracy for different lambdas (use cross_validation_ridge() for cross folds)\n",
    "lambds = np.logspace(-6, -5, 50)\n",
    "best_f1 = 1000\n",
    "best_lamb = 0\n",
    "k_folds = 5\n",
    "seed = 1\n",
    "f1_mean = []\n",
    "f1_std = []\n",
    "for lamb in lambds:\n",
    "    w_rid, r = ridge_regression(y_train, tx_train_square, lamb)\n",
    "    y_pred_rid = predict_labels(w_rid, tx_test_square)\n",
    "    f1_rid = sum(abs(y_test-y_pred_rid))/(2*len(y_pred_rid))\n",
    "    if f1_rid < best_f1:\n",
    "        best_lamb = lamb\n",
    "        best_f1 = f1_rid\n",
    "\n",
    "print(\"the best lmabda is {bl} with {f}\".format(bl=best_lamb, f=1-best_f1))"
   ]
  },
  {
   "cell_type": "code",
   "execution_count": null,
   "metadata": {
    "collapsed": false
   },
   "outputs": [],
   "source": [
    "tx_total= np.c_[np.ones((y.shape[0], 1)), x_square]\n",
    "\n",
    "y_pred_mean = predict_labels(w_LS_pow3, tx_total)\n",
    "y_pred_mean = np.reshape(y_pred_mean, (len(y_pred_mean), 1))\n",
    "f1_rid_mean = sum(abs(y-y_pred_mean))/(2*len(y_pred_mean))\n",
    "print(1-f1_rid_mean)"
   ]
  },
  {
   "cell_type": "code",
   "execution_count": null,
   "metadata": {
    "collapsed": false,
    "scrolled": true
   },
   "outputs": [],
   "source": [
    "w_rid_mean = weights_ridge.mean(axis=0)\n",
    "w_rid_best = weights_ridge[np.argmin(f1_ridge_folds)]\n",
    "\n",
    "tx_total, m, s = standardize(x_square)\n",
    "\n",
    "y_pred_mean = predict_labels(w_rid_mean, tx_total)\n",
    "y_pred_mean = np.reshape(y_pred_mean, (len(y_pred_mean), 1))\n",
    "f1_rid_mean = sum(abs(y-y_pred_mean))/(2*len(y_pred_mean))\n",
    "\n",
    "print(1-f1_rid_mean)\n",
    "\n",
    "y_pred_best = predict_labels(w_rid_best, tx_total)\n",
    "y_pred_best = np.reshape(y_pred_best, (len(y_pred_best), 1))\n",
    "f1_rid_best = sum(abs(y-y_pred_best))/(2*len(y_pred_best))\n",
    "\n",
    "print(1-f1_rid_best)"
   ]
  },
  {
   "cell_type": "code",
   "execution_count": null,
   "metadata": {
    "collapsed": false
   },
   "outputs": [],
   "source": [
    "#***** RIDGE AND LEAST SQUARE ON POLYNOMIAL BASIS FUNCTION DATASET\n",
    "#************ POWER 9 **********************\n",
    "\n",
    "#Let's replace the -999 by Nan to avoid computation while computing the power 3\n",
    "x_nan = x.copy()\n",
    "np.putmask(x_nan, x_nan==-999, np.nan)\n",
    "degree = 9\n",
    "x_fifth = np.zeros((x_nan.shape[0], degree*x_nan.shape[1]))\n",
    "\n",
    "#Let's build a matrix using a polynomial basis function (power 5)\n",
    "for column in range(0,x_nan.shape[1]):\n",
    "    x_fifth[:, column] = x_nan[:, column]\n",
    "    for deg in range(1,degree):\n",
    "        x_fifth[:, column + deg*x_nan.shape[1]] = np.multiply(x_nan[:, column], x_fifth[:, column + (deg-1)*x_nan.shape[1]])\n",
    "\n",
    "#put back -9 instead of Nan\n",
    "x_fifth[np.isnan(x_fifth)]=-9\n",
    "\n",
    "ratio = 0.2\n",
    "seed = 2\n",
    "y = np.reshape(y, (len(y), 1))\n",
    "x_train, x_test, y_train, y_test = split_data(x_fifth, y, ratio, seed)\n",
    "\n",
    "#tx_train_fifth, m, s = standardize(x_train)\n",
    "#tx_test_fifth, m, s = standardize(x_test)\n",
    "\n",
    "tx_train_fifth = np.c_[np.ones((y_train.shape[0], 1)), x_train]\n",
    "tx_test_fifth = np.c_[np.ones((y_test.shape[0], 1)), x_test]\n",
    "w = np.ones((tx_train_fifth.shape[1], 1))\n",
    "\n",
    "w_LS_pow5, rmse_LS_pow5 = least_squares(y_train, tx_train_fifth)\n",
    "y_pred_LS = predict_labels(w_LS_pow5, tx_test_fifth)\n",
    "f1_LS_pow5 = sum(abs(y_test-y_pred_LS))/(2*len(y_pred_LS))\n",
    "print(\"f1 score for LS: {f}\".format(f=1-f1_LS_pow5))\n",
    "\n",
    "\n",
    "#calculate accuracy for different lambdas (use cross_validation_ridge() for cross folds)\n",
    "lambds = np.logspace(-7, -2, 100)\n",
    "best_f1 = 0\n",
    "best_lamb = 0\n",
    "k_folds = 10\n",
    "seed = 1\n",
    "f1_tr = []\n",
    "f1_te = []\n",
    "for lamb in lambds:\n",
    "    w_rid, r = ridge_regression(y_train, tx_train_fifth, lamb)\n",
    "    y_pred_tr = predict_labels(w_rid, tx_train_fifth)\n",
    "    y_pred_te = predict_labels(w_rid, tx_test_fifth)\n",
    "    f1_rid_tr = 1-sum(abs(y_train-y_pred_tr))/(2*len(y_pred_tr))\n",
    "    f1_rid_te = 1-sum(abs(y_test-y_pred_te))/(2*len(y_pred_te))\n",
    "    f1_tr.append(f1_rid_tr)\n",
    "    f1_te.append(f1_rid_te)\n",
    "    if f1_rid_te > best_f1:\n",
    "        best_lamb = lamb\n",
    "        best_f1 = f1_rid_te\n",
    "\n",
    "#Print and plot results\n",
    "print(\"the best lmabda is {bl} with {f}\".format(bl=best_lamb, f=best_f1))\n",
    "plt.figure()\n",
    "plt.semilogx(lambds, f1_tr)\n",
    "plt.semilogx(lambds, f1_te, color='r')\n",
    "plt.xlabel(\"Penalization lambda\", fontsize=20)\n",
    "plt.ylabel(\"Accuracy of prediction\",  fontsize=20)\n",
    "plt.legend(('Train', 'Test'),  fontsize=20)\n",
    "plt.title(\"Influence of lambda\", fontsize=20)\n",
    "plt.rc('xtick', labelsize=15) \n",
    "plt.rc('ytick', labelsize=15)\n",
    "plt.show()"
   ]
  },
  {
   "cell_type": "code",
   "execution_count": null,
   "metadata": {
    "collapsed": false
   },
   "outputs": [],
   "source": [
    "#Cross validation on Ridge and least squares\n",
    "k_folds = 10\n",
    "\n",
    "f1, w_CV_rid = cross_validation_ridge(y_train, x_train, best_lamb, k_folds, seed)\n",
    "\n",
    "w_CV_LS, re, rt = cross_validation_LS(y_train, x_train, k_folds, seed)\n",
    "\n",
    "f1_CV_rid = []\n",
    "f1_CV_LS = []\n",
    "print(\"cross folds: ridge\")\n",
    "for i in range(0, w_CV_rid.shape[0]):\n",
    "    y_pred_rid = predict_labels(w_CV_rid[i], tx_test_fifth)\n",
    "    y_pred_rid = np.reshape(y_pred_rid, (len(y_pred_rid), 1))\n",
    "    f1_rid = sum(abs(y_test-y_pred_rid))/(2*len(y_pred_rid))\n",
    "    print(1-f1_rid)\n",
    "    f1_CV_rid.append(1-f1_rid)\n",
    "    \n",
    "print(\"cross folds: LS\")\n",
    "for i in range(0, w_CV_LS.shape[0]):\n",
    "    y_pred_LS = predict_labels(w_CV_LS[i], tx_test_fifth)\n",
    "    y_pred_LS = np.reshape(y_pred_LS, (len(y_pred_LS), 1))\n",
    "    f1_LS = sum(abs(y_test-y_pred_LS))/(2*len(y_pred_LS))\n",
    "    print(1-f1_LS)\n",
    "    f1_CV_LS.append(1-f1_LS)\n",
    "    \n",
    "f1_CV_LS = np.reshape(f1_CV_LS, (len(f1_CV_LS), 1))\n",
    "f1_CV_rid = np.reshape(f1_CV_rid, (len(f1_CV_rid), 1))\n",
    "\n",
    "\n",
    "plt.boxplot([f1_CV_LS, f1_CV_rid])\n",
    "plt.title('Mean and Variance over 10 folds')\n",
    "plt.xlabel(\"Method\")\n",
    "plt.ylabel(\"Accuracy of prediction\")"
   ]
  },
  {
   "cell_type": "code",
   "execution_count": 4,
   "metadata": {
    "collapsed": false
   },
   "outputs": [
    {
     "name": "stdout",
     "output_type": "stream",
     "text": [
      "the best lmabda is 2.2570197196339216e-07 with [ 0.81594]\n"
     ]
    },
    {
     "data": {
      "image/png": "[encoded data removed]",
      "text/plain": [
       "<matplotlib.figure.Figure at 0x7f6664e2bfd0>"
      ]
     },
     "metadata": {},
     "output_type": "display_data"
    }
   ],
   "source": [
    "#***** POLYNOMIAL AND FEATURE COMBINATION\n",
    "#************ POWER 9 **********************\n",
    "\n",
    "#Let's replace the -999 by Nan to avoid computation while computing the power 3\n",
    "x_nan = x.copy()\n",
    "np.putmask(x_nan, x_nan==-999, np.nan)\n",
    "degree = 9\n",
    "x_pow9 = np.zeros((x_nan.shape[0], degree*x_nan.shape[1]+53))\n",
    "\n",
    "#Let's build a matrix using a polynomial basis function (power 5)\n",
    "for column in range(0,x_nan.shape[1]):\n",
    "    x_pow9[:, column] = x_nan[:, column]\n",
    "    for deg in range(1,degree):\n",
    "        x_pow9[:, column + deg*x_nan.shape[1]] = np.multiply(x_nan[:, column], x_pow9[:, column + (deg-1)*x_nan.shape[1]])\n",
    "        \n",
    "x_pow9 = combinations(x_pow9, [0], [1,2,6,7,])\n",
    "x_pow9 = combinations(x_pow9, [2], [6,7])\n",
    "x_pow9 = combinations(x_pow9, [3], [6,9,19,21,23,29])\n",
    "x_pow9 = combinations(x_pow9, [4], [5,6])\n",
    "x_pow9 = combinations(x_pow9, [5], [6])\n",
    "x_pow9 = combinations(x_pow9, [6], [7,8,9,10,11,12,13,14,15,16,17,18,19,20,21,23,24,25,26,27,28,29])\n",
    "x_pow9 = combinations(x_pow9, [9], [10,13,16,19,21,23,26,29])\n",
    "x_pow9 = combinations(x_pow9, [10], [13,16])\n",
    "x_pow9 = combinations(x_pow9, [21], [23,26,29])\n",
    "x_pow9 = combinations(x_pow9, [23], [26,29])\n",
    "x_pow9 = combinations(x_pow9, [26], [29])\n",
    "\n",
    "#put back -9 instead of Nan\n",
    "x_pow9[np.isnan(x_pow9)]=-9\n",
    "\n",
    "ratio = 0.2\n",
    "seed = 2\n",
    "y = np.reshape(y, (len(y), 1))\n",
    "x_train, x_test, y_train, y_test = split_data(x_pow9, y, ratio, seed)\n",
    "\n",
    "#tx_train_fifth, m, s = standardize(x_train)\n",
    "#tx_test_fifth, m, s = standardize(x_test)\n",
    "\n",
    "tx_train_pow9 = np.c_[np.ones((x_train.shape[0], 1)), x_train]\n",
    "tx_test_pow9 = np.c_[np.ones((x_test.shape[0], 1)), x_test]\n",
    "w = np.ones((tx_train_pow9.shape[1], 1))\n",
    "\n",
    "#calculate accuracy for different lambdas (use cross_validation_ridge() for cross folds)\n",
    "lambds = np.logspace(-7, -2, 100)\n",
    "best_f1 = 0\n",
    "best_lamb = 0\n",
    "k_folds = 10\n",
    "seed = 1\n",
    "f1_tr = []\n",
    "f1_te = []\n",
    "for lamb in lambds:\n",
    "    w_rid, r = ridge_regression(y_train, tx_train_pow9, lamb)\n",
    "    y_pred_tr = predict_labels(w_rid, tx_train_pow9)\n",
    "    y_pred_te = predict_labels(w_rid, tx_test_pow9)\n",
    "    f1_rid_tr = 1-sum(abs(y_train-y_pred_tr))/(2*len(y_pred_tr))\n",
    "    f1_rid_te = 1-sum(abs(y_test-y_pred_te))/(2*len(y_pred_te))\n",
    "    f1_tr.append(f1_rid_tr)\n",
    "    f1_te.append(f1_rid_te)\n",
    "    if f1_rid_te > best_f1:\n",
    "        best_lamb = lamb\n",
    "        best_f1 = f1_rid_te\n",
    "\n",
    "#Print and plot results\n",
    "print(\"the best lmabda is {bl} with {f}\".format(bl=best_lamb, f=best_f1))\n",
    "plt.figure()\n",
    "plt.semilogx(lambds, f1_tr)\n",
    "plt.semilogx(lambds, f1_te, color='r')\n",
    "plt.xlabel(\"Penalization lambda\", fontsize=20)\n",
    "plt.ylabel(\"Accuracy of prediction\",  fontsize=20)\n",
    "plt.legend(('Train', 'Test'),  fontsize=20)\n",
    "plt.title(\"Influence of lambda\", fontsize=20)\n",
    "plt.rc('xtick', labelsize=15) \n",
    "plt.rc('ytick', labelsize=15)\n",
    "plt.show()\n",
    "\n"
   ]
  },
  {
   "cell_type": "code",
   "execution_count": 5,
   "metadata": {
    "collapsed": false
   },
   "outputs": [
    {
     "name": "stdout",
     "output_type": "stream",
     "text": [
      "cross folds: ridge\n",
      "[ 0.815965]\n",
      "[ 0.815535]\n",
      "[ 0.81566]\n",
      "[ 0.81562]\n",
      "[ 0.81557]\n",
      "[ 0.81585]\n",
      "[ 0.815385]\n",
      "[ 0.815765]\n",
      "[ 0.815725]\n",
      "[ 0.81585]\n"
     ]
    },
    {
     "data": {
      "text/plain": [
       "<matplotlib.text.Text at 0x7f66439bee48>"
      ]
     },
     "execution_count": 5,
     "metadata": {},
     "output_type": "execute_result"
    },
    {
     "data": {
      "image/png": "[encoded data removed]",
      "text/plain": [
       "<matplotlib.figure.Figure at 0x7f66439aee48>"
      ]
     },
     "metadata": {},
     "output_type": "display_data"
    }
   ],
   "source": [
    "#Cross validation on Ridge and least squares\n",
    "k_folds = 10\n",
    "\n",
    "f1, w_CV_rid = cross_validation_ridge(y_train, x_train, best_lamb, k_folds, seed)\n",
    "\n",
    "f1_CV_rid = []\n",
    "f1_CV_LS = []\n",
    "print(\"cross folds: ridge\")\n",
    "for i in range(0, w_CV_rid.shape[0]):\n",
    "    y_pred_rid = predict_labels(w_CV_rid[i], tx_test_pow9)\n",
    "    y_pred_rid = np.reshape(y_pred_rid, (len(y_pred_rid), 1))\n",
    "    f1_rid = sum(abs(y_test-y_pred_rid))/(2*len(y_pred_rid))\n",
    "    print(1-f1_rid)\n",
    "    f1_CV_rid.append(1-f1_rid)\n",
    "\n",
    "f1_CV_rid = np.reshape(f1_CV_rid, (len(f1_CV_rid), 1))\n",
    "\n",
    "plt.boxplot([f1_CV_LS, f1_CV_rid])\n",
    "plt.title('Mean and Variance over 10 folds')\n",
    "plt.xlabel(\"Method\")\n",
    "plt.ylabel(\"Accuracy of prediction\")"
   ]
  },
  {
   "cell_type": "markdown",
   "metadata": {},
   "source": [
    "# Do your thing crazy machine learning thing here :) ..."
   ]
  },
  {
   "cell_type": "code",
   "execution_count": null,
   "metadata": {
    "collapsed": false
   },
   "outputs": [],
   "source": [
    "#Something is missing\n",
    "\n",
    "max_iter = 100\n",
    "threshold = 1e-8\n",
    "alpha = 0.001\n",
    "ratio = 0.1\n",
    "lambd = 0.01\n",
    "losses = []\n",
    "\n",
    "y = np.reshape(y, (len(y), 1))\n",
    "\n",
    "\n",
    "x_train, x_test, y_train, y_test = split_data(x, y_vec, ratio)\n",
    "tx_train = np.c_[np.ones((y_train.shape[0], 1)), x_train]\n",
    "w = np.zeros((tx_train.shape[1], 1))"
   ]
  },
  {
   "cell_type": "code",
   "execution_count": null,
   "metadata": {
    "collapsed": false
   },
   "outputs": [],
   "source": [
    "ratio = 0.1\n",
    "x_train, x_test, y_train, y_test = split_data(x, y, ratio)\n",
    "print(x_train.shape)\n",
    "print(y_train.shape)\n",
    "print(x_test.shape)\n",
    "print(y_test.shape)"
   ]
  },
  {
   "cell_type": "code",
   "execution_count": null,
   "metadata": {
    "collapsed": false
   },
   "outputs": [],
   "source": [
    "gamma = 0.001\n",
    "x_train, x_test, y_train, y_test = split_data(x, y, ratio)\n",
    "tx_train = np.c_[np.ones((x_train.shape[0], 1)), x_train]\n",
    "tx_test = np.c_[np.ones((x_test.shape[0], 1)), x_test]\n",
    "initial_w  = np.zeros((tx_train.shape[1],1))\n",
    "\n",
    "w, rmse = learning_by_newton_method(y_train, tx_train, initial_w, 100, gamma)\n",
    "print(rmse)"
   ]
  },
  {
   "cell_type": "code",
   "execution_count": null,
   "metadata": {
    "collapsed": false
   },
   "outputs": [],
   "source": [
    "max_iter = 10\n",
    "threshold = 1e-8\n",
    "#alpha = 0.001\n",
    "lambd = 0.1\n",
    "ratio = 0.05\n",
    "losses = []\n",
    "\n",
    "gammas = np.logspace(-5, -1, 10)\n",
    "y = np.reshape(y, (len(y), 1))\n",
    "x_train, x_test, y_train, y_test = split_data(x_99, y, ratio)\n",
    "\n",
    "#tx_train, x_tr_mean, x_tr_std = standardize(x_train)\n",
    "#tx_test, x_te_mean, x_te_std = standardize(x_test)\n",
    "\n",
    "tx_train = np.c_[np.ones((x_train.shape[0], 1)), x_train]\n",
    "tx_test = np.c_[np.ones((x_test.shape[0], 1)), x_test]\n",
    "for gamma in gammas:\n",
    "    initial_w  = np.ones((tx_train.shape[1],1))\n",
    "    w_NM, rmse_NM = learning_by_newton_method(y_train, tx_train, initial_w, max_iter, gamma)\n",
    "#     lossREG = compute_loss(y_test, tx_test, w)\n",
    "#     rmse = np.sqrt(2*lossREG)\n",
    "    losses.append(rmse_NM)"
   ]
  },
  {
   "cell_type": "code",
   "execution_count": null,
   "metadata": {
    "collapsed": false
   },
   "outputs": [],
   "source": [
    "plt.semilogx(gammas[0:5], losses[0:5], marker=\".\", color='b')\n",
    "plt.xlabel(\"lambda\")\n",
    "plt.ylabel(\"rmse\")\n",
    "plt.grid(True)"
   ]
  },
  {
   "cell_type": "code",
   "execution_count": null,
   "metadata": {
    "collapsed": true
   },
   "outputs": [],
   "source": [
    "# Was it working? in your version of learning_by_gradient_descent you had to provide max_iters to the function\n",
    "# just as in my implemetnation\n",
    "\n",
    "#Lets test some basics: Least Squares Gradient Descent\n",
    "from plots import gradient_descent_visualization\n",
    "\n",
    "# Define the parameters of the algorithm.\n",
    "#max_iters = 1\n",
    "#gamma = 0.4\n",
    "#batch_size = 300\n",
    "max_iter = 1000\n",
    "threshold = 1e-8\n",
    "alpha = 0.002\n",
    "lambd = 0.001\n",
    "ratio = 0.1\n",
    "losses = []\n",
    "\n",
    "# Initialization\n",
    "#w_initial = weights\n",
    "\n",
    "y = np.reshape(y, (len(y), 1))\n",
    "\n",
    "x_train, x_test, y_train, y_test = split_data(x, y, ratio)\n",
    "\n",
    "#tx_train = np.c_[np.ones((y_train.shape[0], 1)), x_train]\n",
    "#tx_test = np.c_[np.ones((y_test.shape[0], 1)), x_test]\n",
    "\n",
    "tx_train, x_tr_mean, x_tr_std = standardize(x_train)\n",
    "tx_test, x_te_mean, x_te_std = standardize(x_test)\n",
    "w = np.zeros((tx_train.shape[1], 1))\n",
    "\n",
    "start_time = datetime.datetime.now()\n",
    "# start the logistic regression\n",
    "for iter in range(max_iter):\n",
    "    # get loss and update w.\n",
    "    loss, w = learning_by_gradient_descent(y_train, tx_train, w, alpha)\n",
    "    if iter % 20 == 0:\n",
    "            print(\"Current iteration={i}, the loss={l}\".format(i=iter, l=loss))\n",
    "    losses.append(loss)\n",
    "    if len(losses) > 1 and np.abs(losses[-1] - losses[-2]) < threshold:\n",
    "        break\n",
    "# visualization\n",
    "#visualization(y_train, x_train, mean_x, std_x, w, \"classification_by_logistic_regression_gradient_descent\")\n",
    "print(\"The loss={l}\".format(l=compute_loss(y_test, tx_test, w)))\n",
    "end_time = datetime.datetime.now()\n",
    "\n",
    "# Print result\n",
    "exection_time = (end_time - start_time).total_seconds()\n",
    "print(\"Gradient Descent: execution time={t:.3f} seconds\".format(t=exection_time))"
   ]
  },
  {
   "cell_type": "code",
   "execution_count": null,
   "metadata": {
    "collapsed": true
   },
   "outputs": [],
   "source": []
  },
  {
   "cell_type": "code",
   "execution_count": null,
   "metadata": {
    "collapsed": true
   },
   "outputs": [],
   "source": []
  },
  {
   "cell_type": "code",
   "execution_count": null,
   "metadata": {
    "collapsed": false
   },
   "outputs": [],
   "source": []
  },
  {
   "cell_type": "code",
   "execution_count": null,
   "metadata": {
    "collapsed": false
   },
   "outputs": [],
   "source": [
    "k_fold = 20\n",
    "seed = 1\n",
    "lambd = 0.01\n",
    "max_iters = 5\n",
    "w_cv, lossTR_cv, lossTE_cv = cross_validation_laz(y, x_99, k_fold, seed, lambd, max_iters)"
   ]
  },
  {
   "cell_type": "code",
   "execution_count": null,
   "metadata": {
    "collapsed": true
   },
   "outputs": [],
   "source": [
    "# Was it working? in your version of learning_by_newton_method you had to provide max_iters to the function\n",
    "# just as in my implemetnation\n",
    "\n",
    "# Define the parameters of the algorithm.\n",
    "#max_iters = 1\n",
    "#gamma = 0.4\n",
    "#batch_size = 300\n",
    "max_iter = 100\n",
    "threshold = 1e-8\n",
    "alpha = 0.002\n",
    "lambd = 0.001\n",
    "ratio = 0.1\n",
    "losses = []\n",
    "\n",
    "# Initialization\n",
    "#w_initial = weights\n",
    "\n",
    "y_vec = np.zeros((y.shape[0], 1))\n",
    "y_vec[:,0] = y\n",
    "\n",
    "x_train, x_test, y_train, y_test = split_data(x, y_vec, ratio)\n",
    "tx_train = np.c_[np.ones((y_train.shape[0], 1)), x_train]\n",
    "tx_test = np.c_[np.ones((y_test.shape[0], 1)), x_test]\n",
    "w = np.zeros((tx_train.shape[1], 1))\n",
    "\n",
    "start_time = datetime.datetime.now()\n",
    "# start the logistic regression\n",
    "for iter in range(max_iter):\n",
    "    # get loss and update w.\n",
    "    loss, w = learning_by_newton_method(y_train, tx_train, w, alpha)\n",
    "    if iter % 20 == 0:\n",
    "            print(\"Current iteration={i}, the loss={l}\".format(i=iter, l=loss))\n",
    "    losses.append(loss)\n",
    "    if len(losses) > 1 and np.abs(losses[-1] - losses[-2]) < threshold:\n",
    "        break\n",
    "# visualization\n",
    "#visualization(y_train, x_train, mean_x, std_x, w, \"classification_by_logistic_regression_gradient_descent\")\n",
    "print(\"The loss={l}\".format(l=compute_RMSE(y_test, tx_test, w)))\n",
    "end_time = datetime.datetime.now()\n",
    "\n",
    "# Print result\n",
    "exection_time = (end_time - start_time).total_seconds()\n",
    "print(\"Gradient Descent: execution time={t:.3f} seconds\".format(t=exection_time))"
   ]
  },
  {
   "cell_type": "markdown",
   "metadata": {},
   "source": [
    "# PCA"
   ]
  },
  {
   "cell_type": "code",
   "execution_count": null,
   "metadata": {
    "collapsed": false
   },
   "outputs": [],
   "source": [
    "#max_iters = 1\n",
    "#gamma = 0.4\n",
    "#batch_size = 300\n",
    "max_iter = 10\n",
    "threshold = 1e-8\n",
    "alpha = 0.001\n",
    "lambd = 0.001\n",
    "ratio = 0.1\n",
    "losses = []\n",
    "\n",
    "eigenvectors, eigenvalues, V = np.linalg.svd(x.T, full_matrices=False)\n",
    "x_proj = np.dot(x, eigenvectors[:, 0:10])\n",
    "y = np.reshape(y, (len(y), 1))\n",
    "\n",
    "x_train, x_test, y_train, y_test = split_data(x_proj, y, ratio)\n",
    "tx_train = np.c_[np.ones((y_train.shape[0], 1)), x_train]\n",
    "tx_test = np.c_[np.ones((y_test.shape[0], 1)), x_test]\n",
    "w = np.zeros((tx_train.shape[1], 1))\n",
    "\n",
    "start_time = datetime.datetime.now()\n",
    "# start the logistic regression\n",
    "for iter in range(max_iter):\n",
    "    # get loss and update w.\n",
    "    loss, w = learning_by_newton_method(y_train, tx_train, w, alpha)\n",
    "    if iter % 10 == 0:\n",
    "            print(\"Current iteration={i}, the loss={l}\".format(i=iter, l=loss))\n",
    "    losses.append(loss)\n",
    "    if len(losses) > 1 and np.abs(losses[-1] - losses[-2]) < threshold:\n",
    "        break\n",
    "# visualization\n",
    "#visualization(y_train, x_train, mean_x, std_x, w, \"classification_by_logistic_regression_gradient_descent\")\n",
    "\n",
    "mse = compute_loss(y_test, tx_test, w)\n",
    "rmse = np.sqrt(2*mse)\n",
    "print(\"The loss={l}\".format(l=rmse))\n",
    "end_time = datetime.datetime.now()\n",
    "\n",
    "# Print result\n",
    "exection_time = (end_time - start_time).total_seconds()\n",
    "print(\"Newton: execution time={t:.3f} seconds\".format(t=exection_time))\n",
    "\n"
   ]
  },
  {
   "cell_type": "markdown",
   "metadata": {},
   "source": [
    "# ERROR"
   ]
  },
  {
   "cell_type": "code",
   "execution_count": null,
   "metadata": {
    "collapsed": false
   },
   "outputs": [],
   "source": [
    "mse = compute_loss(y_test, tx_test, w)\n",
    "rmse = np.sqrt(2*mse)\n",
    "print(rmse)"
   ]
  },
  {
   "cell_type": "markdown",
   "metadata": {},
   "source": [
    "# K-fold"
   ]
  },
  {
   "cell_type": "code",
   "execution_count": null,
   "metadata": {
    "collapsed": false,
    "scrolled": false
   },
   "outputs": [],
   "source": [
    "max_iter = 20\n",
    "threshold = 1e-8\n",
    "alpha = 0.001\n",
    "lambd = 0.001\n",
    "ratio = 0.1\n",
    "losses = []\n",
    "k_fold = 20\n",
    "seed = 1\n",
    "\n",
    "#x_train, x_test, y_train, y_test = split_data(x, y, ratio)\n",
    "#tx_train = np.c_[np.ones((y_train.shape[0], 1)), x_train]\n",
    "#tx_test = np.c_[np.ones((y_test.shape[0], 1)), x_test]\n",
    "#w = np.ones((x_train.shape[1]+1, 1))\n",
    "y = np.reshape(y, (len(y), 1))\n",
    "\n",
    "w_RegPen, tr_rmse, te_rmse = cross_validation_laz(y, x, k_fold, seed, lambd, max_iter)\n",
    "print(w_LS.std(axis=0).mean())\n",
    "print(tr_rmse)\n",
    "print(te_rmse)"
   ]
  },
  {
   "cell_type": "code",
   "execution_count": null,
   "metadata": {
    "collapsed": false
   },
   "outputs": [],
   "source": [
    "weights_NM_20folds = w_LS\n",
    "train_rmse_NM_20folds = tr_rmse\n",
    "test_rmse_NM_20folds = te_rmse"
   ]
  },
  {
   "cell_type": "markdown",
   "metadata": {},
   "source": [
    "## Generate predictions and save ouput in csv format for submission:"
   ]
  },
  {
   "cell_type": "code",
   "execution_count": null,
   "metadata": {
    "collapsed": false
   },
   "outputs": [],
   "source": [
    "DATA_TEST_PATH = '../data/test.csv' # TODO: download test data and supply path here \n",
    "_, X_test, ids_test = load_csv_data(DATA_TEST_PATH)\n",
    "\n",
    "#Let's replace the -999 by Nan to avoid computation while computing the power 3\n",
    "x_nan_test = X_test.copy()\n",
    "np.putmask(x_nan_test, x_nan_test==-999, np.nan)\n",
    "degree = 9\n",
    "x_TEST = np.zeros((x_nan_test.shape[0], degree*x_nan_test.shape[1]+53))\n",
    "\n",
    "#Let's build a matrix using a polynomial basis function (power 5)\n",
    "for column in range(0,x_nan_test.shape[1]):\n",
    "    x_TEST[:, column] = x_nan_test[:, column]\n",
    "    for deg in range(1,degree):\n",
    "        x_TEST[:, column + deg*x_nan_test.shape[1]] = np.multiply(x_nan_test[:, column], x_TEST[:, column + (deg-1)*x_nan_test.shape[1]])\n",
    "        \n",
    "x_TEST = combinations(x_TEST, [0], [1,2,6,7,])\n",
    "x_TEST = combinations(x_TEST, [2], [6,7])\n",
    "x_TEST = combinations(x_TEST, [3], [6,9,19,21,23,29])\n",
    "x_TEST = combinations(x_TEST, [4], [5,6])\n",
    "x_TEST = combinations(x_TEST, [5], [6])\n",
    "x_TEST = combinations(x_TEST, [6], [7,8,9,10,11,12,13,14,15,16,17,18,19,20,21,23,24,25,26,27,28,29])\n",
    "x_TEST = combinations(x_TEST, [9], [10,13,16,19,21,23,26,29])\n",
    "x_TEST = combinations(x_TEST, [10], [13,16])\n",
    "x_TEST = combinations(x_TEST, [21], [23,26,29])\n",
    "x_TEST = combinations(x_TEST, [23], [26,29])\n",
    "x_TEST = combinations(x_TEST, [26], [29])\n",
    "\n",
    "#put back -9 instead of Nan\n",
    "x_TEST[np.isnan(x_TEST)]=-9\n",
    "\n",
    "tx_TEST = np.c_[np.ones((x_TEST.shape[0], 1)), x_TEST]\n",
    "print(tx_TEST.shape)"
   ]
  },
  {
   "cell_type": "code",
   "execution_count": 6,
   "metadata": {
    "collapsed": false
   },
   "outputs": [
    {
     "name": "stdout",
     "output_type": "stream",
     "text": [
      "(377,)\n"
     ]
    }
   ],
   "source": [
    "weights = w_CV_rid[0]\n",
    "print(weights.shape)"
   ]
  },
  {
   "cell_type": "code",
   "execution_count": null,
   "metadata": {
    "collapsed": false
   },
   "outputs": [],
   "source": [
    "OUTPUT_PATH = '../data/ridgeA815.csv' # TODO: fill in desired name of output file for submission\n",
    "y_pred = predict_labels(weights, tx_TEST)\n",
    "\n",
    "create_csv_submission(ids_test, y_pred, OUTPUT_PATH)"
   ]
  },
  {
   "cell_type": "code",
   "execution_count": null,
   "metadata": {
    "collapsed": false
   },
   "outputs": [],
   "source": [
    "# Delete train.csv such that github accepts push\n",
    "os.remove('../data/test.csv')"
   ]
  }
 ],
 "metadata": {
  "anaconda-cloud": {},
  "kernelspec": {
   "display_name": "Python [Root]",
   "language": "python",
   "name": "Python [Root]"
  },
  "language_info": {
   "codemirror_mode": {
    "name": "ipython",
    "version": 3
   },
   "file_extension": ".py",
   "mimetype": "text/x-python",
   "name": "python",
   "nbconvert_exporter": "python",
   "pygments_lexer": "ipython3",
   "version": "3.5.2"
  }
 },
 "nbformat": 4,
 "nbformat_minor": 0
}
