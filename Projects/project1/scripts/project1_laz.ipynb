{
 "cells": [
  {
   "cell_type": "code",
   "execution_count": 1,
   "metadata": {
    "collapsed": false
   },
   "outputs": [],
   "source": [
    "# Useful starting lines\n",
    "%matplotlib inline\n",
    "import numpy as np\n",
    "import matplotlib.pyplot as plt\n",
    "import zipfile\n",
    "import os\n",
    "import datetime\n",
    "from implementations import *\n",
    "from helpers import *\n",
    "%load_ext autoreload\n",
    "%autoreload 2"
   ]
  },
  {
   "cell_type": "markdown",
   "metadata": {},
   "source": [
    "## Load the training data into feature matrix, class labels, and event ids:"
   ]
  },
  {
   "cell_type": "code",
   "execution_count": null,
   "metadata": {
    "collapsed": true
   },
   "outputs": [],
   "source": [
    "# Github does not accept files above 100mb and test.csv is 104mb\n",
    "# thus we upload zip whith test.csv which needs to be extracted\n",
    "with zipfile.ZipFile(\"../data/test.csv.zip\",\"r\") as zip_ref:\n",
    "    zip_ref.extractall(\"../data/\")"
   ]
  },
  {
   "cell_type": "code",
   "execution_count": 2,
   "metadata": {
    "collapsed": false
   },
   "outputs": [],
   "source": [
    "from proj1_helpers import *\n",
    "DATA_TRAIN_PATH = '../data/train.csv' # TODO: download train data and supply path here \n",
    "y, x, ids = load_csv_data(DATA_TRAIN_PATH)"
   ]
  },
  {
   "cell_type": "markdown",
   "metadata": {},
   "source": [
    "# General comparison of method on raw data (Nan)"
   ]
  },
  {
   "cell_type": "code",
   "execution_count": 4,
   "metadata": {
    "collapsed": false,
    "scrolled": false
   },
   "outputs": [
    {
     "name": "stdout",
     "output_type": "stream",
     "text": [
      "RMSEs:\n",
      "\n",
      "\t*** LS ****\n",
      "0.824319370683\n",
      "0.826956343995\n",
      "\t*** GS ****\n",
      "0.928404908633\n",
      "0.928677901986\n",
      "\t*** N ****\n",
      "0.999809002735\n",
      "0.999810306918\n",
      "\t*** CLS ****\n",
      "-mean weights:\n",
      "0.823861760302\n",
      "0.82732031017\n",
      "-best weights:\n",
      "0.823867919796\n",
      "0.827321865538\n",
      "\t**** Penalized *******\n",
      "0.999808995056\n",
      "0.999810331214\n",
      "\n",
      "\n",
      "ratio of well-classified over total predictions: \n",
      "F1 CLS: [ 0.74488444]\n",
      "F1 GS: [ 0.69016889]\n",
      "F1 N: [ 0.68243556]\n",
      "F1 PR: [ 0.68244]\n"
     ]
    }
   ],
   "source": [
    "#Let's modify the data: replace -999 by -9\n",
    "x_99 = x\n",
    "np.putmask(x_99, x_99==-999, -9)\n",
    "\n",
    "#Split the data\n",
    "ratio = 0.1\n",
    "y = np.reshape(y, (len(y), 1))\n",
    "x_train, x_test, y_train, y_test = split_data(x_99, y, ratio)\n",
    "\n",
    "#Create Feature Matrix\n",
    "tx_train_99 = np.c_[np.ones((y_train.shape[0], 1)), x_train]\n",
    "tx_test_99 = np.c_[np.ones((y_test.shape[0], 1)), x_test]\n",
    "\n",
    "#Compute rmse and accuracy of different method without optimization\n",
    "print(\"RMSEs:\")\n",
    "\n",
    "#Least squares\n",
    "print(\"\\t*** LS ****\")\n",
    "w_LS, rmse_tr = least_squares(y_train, tx_train_99)\n",
    "rmse_te = compute_RMSE(y_test, tx_test_99, w_LS)\n",
    "print(rmse_te)\n",
    "print(rmse_tr)\n",
    "\n",
    "#Gradient Descent\n",
    "print(\"\\t*** GS ****\")\n",
    "gamma = 0.00001\n",
    "max_iters = 5\n",
    "initial_w  = np.zeros((tx_train_99.shape[1],1))\n",
    "w_GD, rmse_tr_GD, = least_squares_GD(y_train, tx_train_99, initial_w, max_iters, gamma)\n",
    "rmse_te_GD = compute_RMSE(y_test, tx_test_99, w_GD)\n",
    "print(rmse_te_GD)\n",
    "print(rmse_tr_GD)\n",
    "\n",
    "#Newton\n",
    "print(\"\\t*** N ****\")\n",
    "gamma = 0.00002\n",
    "max_iters = 5\n",
    "lambd = 0.5\n",
    "initial_w  = np.zeros((tx_train_99.shape[1],1))\n",
    "w_N, rmse_tr_N = learning_by_newton_method(y_train, tx_train_99, initial_w, max_iters, gamma)\n",
    "rmse_te_N = compute_RMSE(y_test, tx_test_99, w_N)\n",
    "print(rmse_te_N)\n",
    "print(rmse_tr_N)\n",
    "\n",
    "#Mean of 10 folds least squares\n",
    "print(\"\\t*** CLS ****\")\n",
    "k_folds = 10\n",
    "seed = 2\n",
    "w_LS_folds, rmse_tr_CLS, rmse_te_CLS = cross_validation_LS(y, x_99, k_folds, seed)\n",
    "\n",
    "#Mean of weights along folds\n",
    "w_CLS = w_LS_folds.mean(axis=0)\n",
    "w_CLS = np.reshape(w_CLS, (tx_train_99.shape[1], 1))\n",
    "test_mse_CLS_mean = compute_loss(y_test, tx_test_99, w_CLS)\n",
    "train_mse_CLS_mean = compute_loss(y_train, tx_train_99, w_CLS)\n",
    "rmse_te_CLS_mean = np.sqrt(2*test_mse_CLS_mean)\n",
    "rmse_tr_CLS_mean = np.sqrt(2*train_mse_CLS_mean)\n",
    "print(\"-mean weights:\")\n",
    "print(rmse_te_CLS_mean)\n",
    "print(rmse_tr_CLS_mean)\n",
    "\n",
    "#Best weights along folds\n",
    "w_CLS_best = w_LS_folds[np.argmin(rmse_te_CLS)]\n",
    "w_CLS_best = np.reshape(w_CLS_best, (tx_train_99.shape[1], 1))\n",
    "test_mse_CLS_best = compute_loss(y_test, tx_test_99, w_CLS_best)\n",
    "train_mse_CLS_best = compute_loss(y_train, tx_train_99, w_CLS_best)\n",
    "rmse_te_CLS_best = np.sqrt(2*test_mse_CLS_best)\n",
    "rmse_tr_CLS_best = np.sqrt(2*train_mse_CLS_best)\n",
    "print(\"-best weights:\")\n",
    "print(rmse_te_CLS_best)\n",
    "print(rmse_tr_CLS_best)\n",
    "\n",
    "#Penalized Regression\n",
    "lambd = 0.5\n",
    "gamma = 0.00002\n",
    "max_iters = 5\n",
    "print(\"\\t**** Penalized *******\")\n",
    "initial_w  = np.zeros((tx_train_99.shape[1],1))\n",
    "w_reg, rmse_tr_reg = reg_logistic_regression(y_train, tx_train_99, lambd, initial_w, max_iters, gamma)\n",
    "rmse_te_reg = compute_RMSE(y_test, tx_test_99, w_reg)\n",
    "print(rmse_te_reg)\n",
    "print(rmse_tr_reg)\n",
    "\n",
    "#Accuracy measure\n",
    "print(\"\\n\")\n",
    "print(\"ratio of well-classified over total predictions: \")\n",
    "\n",
    "y_pred_LS = predict_labels(w_CLS, tx_test_99)\n",
    "f1_CLS = sum(abs(y_test-y_pred_LS))/(2*len(y_pred_LS))\n",
    "print(\"F1 CV folds Least Squares: {l}\".format(l=1-f1_CLS))\n",
    "\n",
    "y_pred_GS = predict_labels(w_GD, tx_test_99)\n",
    "f1_GS = sum(abs(y_test-y_pred_GS))/(2*len(y_pred_GS))\n",
    "print(\"F1 Gradient Descent: {l}\".format(l=1-f1_GS))\n",
    "\n",
    "y_pred_N = predict_labels(w_N, tx_test_99)\n",
    "f1_N = sum(abs(y_test-y_pred_N))/(2*len(y_pred_N))\n",
    "print(\"F1 Newton Method: {l}\".format(l=1-f1_N))\n",
    "\n",
    "y_pred_PR = predict_labels(w_reg, tx_test_99)\n",
    "f1_PR = sum(abs(y_test-y_pred_PR))/(2*len(y_pred_PR))\n",
    "print(\"F1 Penalized Regression: {l}\".format(l=1-f1_PR))"
   ]
  },
  {
   "cell_type": "code",
   "execution_count": 16,
   "metadata": {
    "collapsed": false,
    "scrolled": false
   },
   "outputs": [
    {
     "data": {
      "text/plain": [
       "<matplotlib.text.Text at 0x7f434bb73c50>"
      ]
     },
     "execution_count": 16,
     "metadata": {},
     "output_type": "execute_result"
    },
    {
     "data": {
      "image/png": "[encoded data removed]",
      "text/plain": [
       "<matplotlib.figure.Figure at 0x7f434f5c2278>"
      ]
     },
     "metadata": {},
     "output_type": "display_data"
    }
   ],
   "source": [
    "#plot variance and mean of test/train error of Least squares\n",
    "plt.boxplot([rmse_te_CLS, rmse_tr_CLS])\n",
    "plt.xlabel(\"Test                           Train\")\n",
    "plt.ylabel(\"RMSE\")\n",
    "plt.title(\"Boxplot of Test and Train RMSE\")"
   ]
  },
  {
   "cell_type": "markdown",
   "metadata": {},
   "source": [
    "# Ridge and Least square comparison on polynomial degree 3"
   ]
  },
  {
   "cell_type": "code",
   "execution_count": 24,
   "metadata": {
    "collapsed": false
   },
   "outputs": [
    {
     "name": "stdout",
     "output_type": "stream",
     "text": [
      "Accuracy score for Least Squares: [ 0.78124]\n",
      "The best lmabda for Ridge Regression is 1e-06 with accuracy of [ 0.78096571]\n"
     ]
    }
   ],
   "source": [
    "#***** RIDGE AND LEAST SQUARE ON POLYNOMIAL BASIS FUNCTION DATASET\n",
    "\n",
    "#Let's replace the -999 by Nan to avoid computation while computing the power 3\n",
    "x_nan = x.copy()\n",
    "np.putmask(x_nan, x_nan==-999, np.nan)\n",
    "x_square = np.zeros((x_nan.shape[0], 3*x_nan.shape[1]))\n",
    "\n",
    "#Let's build a matrix using a polynomial basis function (power 3)\n",
    "for column in range(0,x_nan.shape[1]):\n",
    "    x_square[:, column] = x_nan[:, column]\n",
    "    x_square[:, column+x_nan.shape[1]] = np.multiply(x_nan[:,column], x_nan[:,column])\n",
    "    x_square[:, column+2*x_nan.shape[1]] = np.multiply(np.multiply(x_nan[:,column], x_nan[:,column]), x_nan[:,column])\n",
    "#put back -9 instead of Nan\n",
    "x_square[np.isnan(x_square)]=-9\n",
    "\n",
    "ratio = 0.3\n",
    "y = np.reshape(y, (len(y), 1))\n",
    "x_train, x_test, y_train, y_test = split_data(x_square, y, ratio)\n",
    "\n",
    "#tx_train_square, m, s = standardize(x_train)\n",
    "#tx_test_square, m, s = standardize(x_test)\n",
    "\n",
    "tx_train_square = np.c_[np.ones((y_train.shape[0], 1)), x_train]\n",
    "tx_test_square = np.c_[np.ones((y_test.shape[0], 1)), x_test]\n",
    "w = np.ones((tx_train_square.shape[1], 1))\n",
    "\n",
    "#Calculate accuracy with a least square regression\n",
    "w_LS_pow3, rmse_LS_pow3 = least_squares(y_train, tx_train_square)\n",
    "y_pred_LS = predict_labels(w_LS_pow3, tx_test_square)\n",
    "f1_LS_pow3 = sum(abs(y_test-y_pred_LS))/(2*len(y_pred_LS))\n",
    "print(\"Accuracy score for Least Squares: {f}\".format(f=1-f1_LS_pow3))\n",
    "\n",
    "#calculate accuracy for different lambdas (use cross_validation_ridge() for cross folds)\n",
    "lambds = np.logspace(-6, -5, 50)\n",
    "best_f1 = 1000\n",
    "best_lamb = 0\n",
    "k_folds = 5\n",
    "seed = 1\n",
    "f1_mean = []\n",
    "f1_std = []\n",
    "weights_ridge = np.zeros((tx_train_square.shape[1], 1))\n",
    "\n",
    "#Find the best lambda on the interval\n",
    "for lamb in lambds:\n",
    "    w_rid, r = ridge_regression(y_train, tx_train_square, lamb)\n",
    "    y_pred_rid = predict_labels(w_rid, tx_test_square)\n",
    "    f1_rid = sum(abs(y_test-y_pred_rid))/(2*len(y_pred_rid))\n",
    "    weights_ridge = np.hstack((weights_ridge, w_rid))\n",
    "    if f1_rid < best_f1:\n",
    "        best_lamb = lamb\n",
    "        best_f1 = f1_rid\n",
    "\n",
    "print(\"The best lmabda for Ridge Regression is {bl} with accuracy of {f}\".format(bl=best_lamb, f=1-best_f1))"
   ]
  },
  {
   "cell_type": "markdown",
   "metadata": {},
   "source": [
    "# Ridge regression and least square comparison on polynomial degree 9"
   ]
  },
  {
   "cell_type": "code",
   "execution_count": 26,
   "metadata": {
    "collapsed": false
   },
   "outputs": [
    {
     "name": "stdout",
     "output_type": "stream",
     "text": [
      "Accuracy score for LS: [ 0.810885]\n",
      "the best lmabda is 2.0565123083486514e-06 with [ 0.81492]\n"
     ]
    },
    {
     "data": {
      "image/png": "[encoded data removed]",
      "text/plain": [
       "<matplotlib.figure.Figure at 0x7f434c138518>"
      ]
     },
     "metadata": {},
     "output_type": "display_data"
    }
   ],
   "source": [
    "#***** RIDGE AND LEAST SQUARE ON POLYNOMIAL BASIS FUNCTION DATASET\n",
    "#************ POWER 9 **********************\n",
    "\n",
    "#Let's replace the -999 by Nan to avoid computation while computing the power 3\n",
    "x_nan = x.copy()\n",
    "np.putmask(x_nan, x_nan==-999, np.nan)\n",
    "degree = 9\n",
    "x_fifth = np.zeros((x_nan.shape[0], degree*x_nan.shape[1]))\n",
    "\n",
    "#Let's build a matrix using a polynomial basis function (power 5)\n",
    "for column in range(0,x_nan.shape[1]):\n",
    "    x_fifth[:, column] = x_nan[:, column]\n",
    "    for deg in range(1,degree):\n",
    "        x_fifth[:, column + deg*x_nan.shape[1]] = np.multiply(x_nan[:, column], x_fifth[:, column + (deg-1)*x_nan.shape[1]])\n",
    "\n",
    "#put back -1 instead of Nan\n",
    "x_fifth[np.isnan(x_fifth)]=-1\n",
    "\n",
    "#Split the data\n",
    "ratio = 0.2\n",
    "seed = 2\n",
    "y = np.reshape(y, (len(y), 1))\n",
    "x_train, x_test, y_train, y_test = split_data(x_fifth, y, ratio, seed)\n",
    "\n",
    "#Create Features matrix\n",
    "tx_train_fifth = np.c_[np.ones((y_train.shape[0], 1)), x_train]\n",
    "tx_test_fifth = np.c_[np.ones((y_test.shape[0], 1)), x_test]\n",
    "w = np.ones((tx_train_fifth.shape[1], 1))\n",
    "\n",
    "#Accuracy of Least Squares\n",
    "w_LS_pow5, rmse_LS_pow5 = least_squares(y_train, tx_train_fifth)\n",
    "y_pred_LS = predict_labels(w_LS_pow5, tx_test_fifth)\n",
    "f1_LS_pow5 = sum(abs(y_test-y_pred_LS))/(2*len(y_pred_LS))\n",
    "print(\"Accuracy score for LS: {f}\".format(f=1-f1_LS_pow5))\n",
    "\n",
    "#calculate accuracy for different lambdas (use cross_validation_ridge() for cross folds)\n",
    "lambds = np.logspace(-7, -2, 100)\n",
    "best_f1 = 0\n",
    "best_lamb = 0\n",
    "k_folds = 10\n",
    "seed = 1\n",
    "f1_tr = []\n",
    "f1_te = []\n",
    "for lamb in lambds:\n",
    "    w_rid, r = ridge_regression(y_train, tx_train_fifth, lamb)\n",
    "    y_pred_tr = predict_labels(w_rid, tx_train_fifth)\n",
    "    y_pred_te = predict_labels(w_rid, tx_test_fifth)\n",
    "    f1_rid_tr = 1-sum(abs(y_train-y_pred_tr))/(2*len(y_pred_tr))\n",
    "    f1_rid_te = 1-sum(abs(y_test-y_pred_te))/(2*len(y_pred_te))\n",
    "    f1_tr.append(f1_rid_tr)\n",
    "    f1_te.append(f1_rid_te)\n",
    "    if f1_rid_te > best_f1:\n",
    "        best_lamb = lamb\n",
    "        best_f1 = f1_rid_te\n",
    "\n",
    "#Print and plot results\n",
    "print(\"the best lmabda is {bl} with accuracy of {f}\".format(bl=best_lamb, f=best_f1))\n",
    "plt.figure()\n",
    "plt.semilogx(lambds, f1_tr)\n",
    "plt.semilogx(lambds, f1_te, color='r')\n",
    "plt.xlabel(\"Penalization lambda\", fontsize=20)\n",
    "plt.ylabel(\"Accuracy of prediction\",  fontsize=20)\n",
    "plt.legend(('Train', 'Test'),  fontsize=20)\n",
    "plt.title(\"Influence of lambda\", fontsize=20)\n",
    "plt.rc('xtick', labelsize=15) \n",
    "plt.rc('ytick', labelsize=15)\n",
    "plt.show()"
   ]
  },
  {
   "cell_type": "code",
   "execution_count": 29,
   "metadata": {
    "collapsed": false
   },
   "outputs": [
    {
     "name": "stdout",
     "output_type": "stream",
     "text": [
      "cross folds: ridge\n",
      "1th fold: [ 0.815285] accuracy\n",
      "2th fold: [ 0.81437] accuracy\n",
      "3th fold: [ 0.81383] accuracy\n",
      "4th fold: [ 0.81493] accuracy\n",
      "5th fold: [ 0.814795] accuracy\n",
      "6th fold: [ 0.81487] accuracy\n",
      "7th fold: [ 0.814075] accuracy\n",
      "8th fold: [ 0.81481] accuracy\n",
      "9th fold: [ 0.814795] accuracy\n",
      "10th fold: [ 0.81464] accuracy\n",
      "cross folds: LS\n",
      "1th fold: [ 0.780985] accuracy\n",
      "2th fold: [ 0.81388] accuracy\n",
      "3th fold: [ 0.797265] accuracy\n",
      "4th fold: [ 0.814315] accuracy\n",
      "5th fold: [ 0.81254] accuracy\n",
      "6th fold: [ 0.814935] accuracy\n",
      "7th fold: [ 0.810835] accuracy\n",
      "8th fold: [ 0.79684] accuracy\n",
      "9th fold: [ 0.814605] accuracy\n",
      "10th fold: [ 0.81502] accuracy\n"
     ]
    },
    {
     "data": {
      "text/plain": [
       "<matplotlib.text.Text at 0x7f436769f748>"
      ]
     },
     "execution_count": 29,
     "metadata": {},
     "output_type": "execute_result"
    },
    {
     "data": {
      "image/png": "[encoded data removed]",
      "text/plain": [
       "<matplotlib.figure.Figure at 0x7f4348167940>"
      ]
     },
     "metadata": {},
     "output_type": "display_data"
    }
   ],
   "source": [
    "#Cross validation on Ridge and least squares\n",
    "k_folds = 10\n",
    "f1, w_CV_rid = cross_validation_ridge(y_train, x_train, best_lamb, k_folds, seed)\n",
    "w_CV_LS, re, rt = cross_validation_LS(y_train, x_train, k_folds, seed)\n",
    "\n",
    "#Compute accuracy for each fold\n",
    "f1_CV_rid = []\n",
    "f1_CV_LS = []\n",
    "#Ridge Regression\n",
    "print(\"cross folds: ridge\")\n",
    "for i in range(0, w_CV_rid.shape[0]):\n",
    "    y_pred_rid = predict_labels(w_CV_rid[i], tx_test_fifth)\n",
    "    y_pred_rid = np.reshape(y_pred_rid, (len(y_pred_rid), 1))\n",
    "    f1_rid = sum(abs(y_test-y_pred_rid))/(2*len(y_pred_rid))\n",
    "    print(\"{j}th fold: {a} accuracy\".format(j=i+1, a=1-f1_rid))\n",
    "    f1_CV_rid.append(1-f1_rid)\n",
    "    \n",
    "#Least Squares\n",
    "print(\"cross folds: LS\")\n",
    "for i in range(0, w_CV_LS.shape[0]):\n",
    "    y_pred_LS = predict_labels(w_CV_LS[i], tx_test_fifth)\n",
    "    y_pred_LS = np.reshape(y_pred_LS, (len(y_pred_LS), 1))\n",
    "    f1_LS = sum(abs(y_test-y_pred_LS))/(2*len(y_pred_LS))\n",
    "    print(\"{j}th fold: {a} accuracy\".format(j=i+1, a=1-f1_LS))\n",
    "    f1_CV_LS.append(1-f1_LS)\n",
    "    \n",
    "f1_CV_LS = np.reshape(f1_CV_LS, (len(f1_CV_LS), 1))\n",
    "f1_CV_rid = np.reshape(f1_CV_rid, (len(f1_CV_rid), 1))\n",
    "\n",
    "\n",
    "plt.boxplot([f1_CV_LS, f1_CV_rid])\n",
    "plt.title('Mean and Variance over 10 folds')\n",
    "plt.xlabel(\"Least Square                   Ridge Regression\")\n",
    "plt.ylabel(\"Accuracy of prediction\")"
   ]
  },
  {
   "cell_type": "markdown",
   "metadata": {},
   "source": [
    "# Ridge Regression on polynomial degree 9 and feature combinations"
   ]
  },
  {
   "cell_type": "code",
   "execution_count": null,
   "metadata": {
    "collapsed": false
   },
   "outputs": [],
   "source": [
    "#***** POLYNOMIAL AND FEATURE COMBINATION\n",
    "#************ POWER 9 **********************\n",
    "\n",
    "#Let's replace the -999 by Nan to avoid computation while computing the power 3\n",
    "x_nan = x.copy()\n",
    "np.putmask(x_nan, x_nan==-999, np.nan)\n",
    "degree = 9\n",
    "x_pow9 = np.zeros((x_nan.shape[0], degree*x_nan.shape[1]))\n",
    "\n",
    "#Let's build a matrix using a polynomial basis function (power 5)\n",
    "for column in range(0,x_nan.shape[1]):\n",
    "    x_pow9[:, column] = x_nan[:, column]\n",
    "    for deg in range(1,degree):\n",
    "        x_pow9[:, column + deg*x_nan.shape[1]] = np.multiply(x_nan[:, column], x_pow9[:, column + (deg-1)*x_nan.shape[1]])\n",
    "#Combine important features together        \n",
    "x_pow9 = combinations(x_pow9, [0], [1,2,6,7,])\n",
    "x_pow9 = combinations(x_pow9, [2], [6,7])\n",
    "x_pow9 = combinations(x_pow9, [3], [6,9,19,21,23,29])\n",
    "x_pow9 = combinations(x_pow9, [4], [5,6])\n",
    "x_pow9 = combinations(x_pow9, [5], [6])\n",
    "x_pow9 = combinations(x_pow9, [6], [7,8,9,10,11,12,13,14,15,16,17,18,19,20,21,23,24,25,26,27,28,29])\n",
    "x_pow9 = combinations(x_pow9, [9], [10,13,16,19,21,23,26,29])\n",
    "x_pow9 = combinations(x_pow9, [10], [13,16])\n",
    "x_pow9 = combinations(x_pow9, [21], [23,26,29])\n",
    "x_pow9 = combinations(x_pow9, [23], [26,29])\n",
    "x_pow9 = combinations(x_pow9, [26], [29])\n",
    "x_pow9 = combinations(x_pow9, [7], [8])\n",
    "\n",
    "#put back -9 instead of Nan\n",
    "x_pow9[np.isnan(x_pow9)]=-1\n",
    "\n",
    "ratio = 0.35\n",
    "seed = 2\n",
    "y = np.reshape(y, (len(y), 1))\n",
    "x_train, x_test, y_train, y_test = split_data(x_pow9, y, ratio, seed)\n",
    "\n",
    "#tx_train_fifth, m, s = standardize(x_train)\n",
    "#tx_test_fifth, m, s = standardize(x_test)\n",
    "\n",
    "tx_train_pow9 = np.c_[np.ones((x_train.shape[0], 1)), x_train]\n",
    "tx_test_pow9 = np.c_[np.ones((x_test.shape[0], 1)), x_test]\n",
    "w = np.ones((tx_train_pow9.shape[1], 1))\n",
    "\n",
    "#calculate accuracy for different lambdas (use cross_validation_ridge() for cross folds)\n",
    "lambds = np.logspace(-7, -2, 100)\n",
    "best_f1 = 0\n",
    "best_lamb = 0\n",
    "k_folds = 10\n",
    "seed = 1\n",
    "f1_tr = []\n",
    "f1_te = []\n",
    "for lamb in lambds:\n",
    "    w_rid, r = ridge_regression(y_train, tx_train_pow9, lamb)\n",
    "    y_pred_tr = predict_labels(w_rid, tx_train_pow9)\n",
    "    y_pred_te = predict_labels(w_rid, tx_test_pow9)\n",
    "    f1_rid_tr = 1-sum(abs(y_train-y_pred_tr))/(2*len(y_pred_tr))\n",
    "    f1_rid_te = 1-sum(abs(y_test-y_pred_te))/(2*len(y_pred_te))\n",
    "    f1_tr.append(f1_rid_tr)\n",
    "    f1_te.append(f1_rid_te)\n",
    "    if f1_rid_te > best_f1:\n",
    "        best_lamb = lamb\n",
    "        best_f1 = f1_rid_te\n",
    "\n",
    "#Print and plot results\n",
    "print(\"the best lmabda is {bl} with {f}\".format(bl=best_lamb, f=best_f1))\n",
    "plt.figure()\n",
    "plt.semilogx(lambds, f1_tr)\n",
    "plt.semilogx(lambds, f1_te, color='r')\n",
    "plt.xlabel(\"Penalization lambda\", fontsize=20)\n",
    "plt.ylabel(\"Accuracy of prediction\",  fontsize=20)\n",
    "plt.legend(('Train', 'Test'),  fontsize=20)\n",
    "plt.title(\"Influence of lambda\", fontsize=20)\n",
    "plt.rc('xtick', labelsize=15) \n",
    "plt.rc('ytick', labelsize=15)\n",
    "plt.show()"
   ]
  },
  {
   "cell_type": "code",
   "execution_count": null,
   "metadata": {
    "collapsed": false
   },
   "outputs": [],
   "source": [
    "#Cross validation on Ridge and least squares\n",
    "k_folds = 10\n",
    "\n",
    "f1, w_CV_rid = cross_validation_ridge(y_train, x_train, best_lamb, k_folds, seed)\n",
    "\n",
    "f1_CV_rid = []\n",
    "f1_CV_LS = []\n",
    "print(\"cross folds: ridge\")\n",
    "for i in range(0, w_CV_rid.shape[0]):\n",
    "    y_pred_rid = predict_labels(w_CV_rid[i], tx_test_pow9)\n",
    "    y_pred_rid = np.reshape(y_pred_rid, (len(y_pred_rid), 1))\n",
    "    f1_rid = sum(abs(y_test-y_pred_rid))/(2*len(y_pred_rid))\n",
    "    print(1-f1_rid)\n",
    "    f1_CV_rid.append(1-f1_rid)\n",
    "\n",
    "f1_CV_rid = np.reshape(f1_CV_rid, (len(f1_CV_rid), 1))\n",
    "\n",
    "plt.boxplot(f1_CV_rid)\n",
    "plt.title('Mean and Variance over 10 folds')\n",
    "plt.xlabel(\"Method\")\n",
    "plt.ylabel(\"Accuracy of prediction\")"
   ]
  },
  {
   "cell_type": "markdown",
   "metadata": {},
   "source": [
    "# PCA"
   ]
  },
  {
   "cell_type": "code",
   "execution_count": 37,
   "metadata": {
    "collapsed": false
   },
   "outputs": [
    {
     "name": "stdout",
     "output_type": "stream",
     "text": [
      "(237500, 1)\n",
      "(1,)\n",
      "Acuuracy of Newton Learning on PCA projection:  [ 0.67781053]\n"
     ]
    }
   ],
   "source": [
    "#max_iters = 1\n",
    "#gamma = 0.4\n",
    "#batch_size = 300\n",
    "max_iter = 10\n",
    "threshold = 1e-8\n",
    "alpha = 0.001\n",
    "lambd = 0.001\n",
    "ratio = 0.05\n",
    "losses = []\n",
    "\n",
    "eigenvectors, eigenvalues, V = np.linalg.svd(x.T, full_matrices=False)\n",
    "x_proj = np.dot(x, eigenvectors[:, 0:10])\n",
    "y = np.reshape(y, (len(y), 1))\n",
    "\n",
    "x_train, x_test, y_train, y_test = split_data(x_proj, y, ratio)\n",
    "tx_train = np.c_[np.ones((y_train.shape[0], 1)), x_train]\n",
    "tx_test = np.c_[np.ones((y_test.shape[0], 1)), x_test]\n",
    "w = np.zeros((tx_train.shape[1], 1))\n",
    "\n",
    "w_N, _ = learning_by_newton_method(y_train, tx_train, w, max_iters, alpha)\n",
    "\n",
    "y_pred_N = predict_labels(w_N, tx_test)\n",
    "y_pred_N = np.reshape(y_pred_N, (len(y_pred_N), 1))\n",
    "f1_N = sum(abs(y_test-y_pred_N))/(2*len(y_pred_N))\n",
    "print(\"Acuuracy of Newton Learning on PCA projection: \", 1-f1_N)"
   ]
  },
  {
   "cell_type": "markdown",
   "metadata": {},
   "source": [
    "## Generate predictions and save ouput in csv format for submission:"
   ]
  },
  {
   "cell_type": "code",
   "execution_count": null,
   "metadata": {
    "collapsed": false
   },
   "outputs": [],
   "source": [
    "DATA_TEST_PATH = '../data/test.csv' # TODO: download test data and supply path here \n",
    "_, X_test, ids_test = load_csv_data(DATA_TEST_PATH)\n",
    "\n",
    "#Pepare testing matrix for the 9 degree poly + feature combination\n",
    "\n",
    "#Let's replace the -999 by Nan to avoid computation while computing the power 3\n",
    "x_nan_test = X_test.copy()\n",
    "np.putmask(x_nan_test, x_nan_test==-999, np.nan)\n",
    "degree = 9\n",
    "x_TEST = np.zeros((x_nan_test.shape[0], degree*x_nan_test.shape[1]))\n",
    "\n",
    "#Let's build a matrix using a polynomial basis function (power 5)\n",
    "for column in range(0,x_nan_test.shape[1]):\n",
    "    x_TEST[:, column] = x_nan_test[:, column]\n",
    "    for deg in range(1,degree):\n",
    "        x_TEST[:, column + deg*x_nan_test.shape[1]] = np.multiply(x_nan_test[:, column], x_TEST[:, column + (deg-1)*x_nan_test.shape[1]])\n",
    "        \n",
    "x_TEST = combinations(x_TEST, [0], [1,2,6,7,])\n",
    "x_TEST = combinations(x_TEST, [2], [6,7])\n",
    "x_TEST = combinations(x_TEST, [3], [6,9,19,21,23,29])\n",
    "x_TEST = combinations(x_TEST, [4], [5,6])\n",
    "x_TEST = combinations(x_TEST, [5], [6])\n",
    "x_TEST = combinations(x_TEST, [6], [7,8,9,10,11,12,13,14,15,16,17,18,19,20,21,23,24,25,26,27,28,29])\n",
    "x_TEST = combinations(x_TEST, [9], [10,13,16,19,21,23,26,29])\n",
    "x_TEST = combinations(x_TEST, [10], [13,16])\n",
    "x_TEST = combinations(x_TEST, [21], [23,26,29])\n",
    "x_TEST = combinations(x_TEST, [23], [26,29])\n",
    "x_TEST = combinations(x_TEST, [26], [29])\n",
    "\n",
    "#put back -1 instead of Nan\n",
    "x_TEST[np.isnan(x_TEST)]=-1\n",
    "\n",
    "tx_TEST = np.c_[np.ones((x_TEST.shape[0], 1)), x_TEST]\n",
    "print(tx_TEST.shape)"
   ]
  },
  {
   "cell_type": "code",
   "execution_count": null,
   "metadata": {
    "collapsed": false
   },
   "outputs": [],
   "source": [
    "#Choose the weights needed to compute predictions\n",
    "weights = w_CV_rid[0]\n",
    "print(weights.shape)"
   ]
  },
  {
   "cell_type": "code",
   "execution_count": null,
   "metadata": {
    "collapsed": false
   },
   "outputs": [],
   "source": [
    "OUTPUT_PATH = '../data/ridgeA815.csv'\n",
    "#Compute prediction\n",
    "y_pred = predict_labels(weights, tx_TEST)\n",
    "#Ouput CSV\n",
    "create_csv_submission(ids_test, y_pred, OUTPUT_PATH)"
   ]
  },
  {
   "cell_type": "code",
   "execution_count": null,
   "metadata": {
    "collapsed": false
   },
   "outputs": [],
   "source": [
    "# Delete train.csv such that github accepts push\n",
    "os.remove('../data/test.csv')"
   ]
  }
 ],
 "metadata": {
  "anaconda-cloud": {},
  "kernelspec": {
   "display_name": "Python [Root]",
   "language": "python",
   "name": "Python [Root]"
  },
  "language_info": {
   "codemirror_mode": {
    "name": "ipython",
    "version": 3
   },
   "file_extension": ".py",
   "mimetype": "text/x-python",
   "name": "python",
   "nbconvert_exporter": "python",
   "pygments_lexer": "ipython3",
   "version": "3.5.2"
  }
 },
 "nbformat": 4,
 "nbformat_minor": 0
}
