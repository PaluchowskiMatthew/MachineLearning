{
 "cells": [
  {
   "cell_type": "code",
   "execution_count": 2,
   "metadata": {
    "collapsed": false
   },
   "outputs": [],
   "source": [
    "# Useful starting lines\n",
    "%matplotlib inline\n",
    "import numpy as np\n",
    "import matplotlib.pyplot as plt\n",
    "%load_ext autoreload\n",
    "%autoreload 2"
   ]
  },
  {
   "cell_type": "markdown",
   "metadata": {},
   "source": [
    "# Load the data"
   ]
  },
  {
   "cell_type": "code",
   "execution_count": 3,
   "metadata": {
    "collapsed": true
   },
   "outputs": [],
   "source": [
    "import datetime\n",
    "from helpers import *\n",
    "\n",
    "height, weight, gender = load_data(sub_sample=False, add_outlier=False)\n",
    "x, mean_x, std_x = standardize(height)\n",
    "y, tx = build_model_data(x, weight)"
   ]
  },
  {
   "cell_type": "code",
   "execution_count": 4,
   "metadata": {
    "collapsed": false
   },
   "outputs": [
    {
     "data": {
      "text/plain": [
       "((10000,),\n",
       " (10000, 2),\n",
       " 10000,\n",
       " array([ 109.81967768,   73.68895452,   96.58434842, ...,   58.32779473,\n",
       "          74.38901745,   51.59669261]))"
      ]
     },
     "execution_count": 4,
     "metadata": {},
     "output_type": "execute_result"
    }
   ],
   "source": [
    "y.shape, tx.shape, y.shape[0], weight\n"
   ]
  },
  {
   "cell_type": "markdown",
   "metadata": {},
   "source": [
    "# Computing the Cost Function\n",
    "Fill in the the `compute_cost` function below:"
   ]
  },
  {
   "cell_type": "code",
   "execution_count": 7,
   "metadata": {
    "collapsed": false
   },
   "outputs": [],
   "source": [
    "# w = np.array([[1],[2]])\n",
    "# print(y[0])\n",
    "# print(tx[0])\n",
    "\n",
    "def compute_loss(y, tx, w):\n",
    "    \"\"\"Calculate the loss.\n",
    "\n",
    "    You can calculate the loss using mse or mae.\n",
    "    \"\"\"\n",
    "    # ***************************************************\n",
    "    # INSERT YOUR CODE HERE\n",
    "    # TODO: compute loss by MSE / MAE\n",
    "    # ***************************************************\n",
    "    normalization = 1/2*y.shape[0]\n",
    "#     simple_MSE = normalization * np.sum(np.power( y[0] - w * tx[0], 2))\n",
    "    MSE = normalization * np.sum(np.power( y - np.dot(tx, w), 2))\n",
    "    return MSE\n",
    "    raise NotImplementedError\n",
    "    \n",
    "\n",
    "# compute_loss(y, tx, w)"
   ]
  },
  {
   "cell_type": "markdown",
   "metadata": {},
   "source": [
    "# Grid Search"
   ]
  },
  {
   "cell_type": "markdown",
   "metadata": {},
   "source": [
    "Fill in the function `grid_search()` below:"
   ]
  },
  {
   "cell_type": "code",
   "execution_count": 9,
   "metadata": {
    "collapsed": false
   },
   "outputs": [
    {
     "name": "stdout",
     "output_type": "stream",
     "text": [
      "[[-100]\n",
      " [-150]]\n"
     ]
    },
    {
     "data": {
      "text/plain": [
       "array([[  2.63716289e+16]])"
      ]
     },
     "execution_count": 9,
     "metadata": {},
     "output_type": "execute_result"
    }
   ],
   "source": [
    "def grid_search(y, tx, w0, w1):\n",
    "    \"\"\"Algorithm for grid search.\"\"\"\n",
    "    losses = np.zeros((len(w0), len(w1)))\n",
    "    # ***************************************************\n",
    "    # INSERT YOUR CODE HERE\n",
    "    # TODO: compute loss for each combination of w0 and w1.\n",
    "    # ***************************************************\n",
    "    for i in range(0, len(w0)):\n",
    "        for j in range(0, len(w1)):\n",
    "            w = np.array([[w0[i]],[w1[j]]])\n",
    "#             print(w)\n",
    "            losses[i,j] = compute_loss(y, tx, w)\n",
    "    return losses\n",
    "    raise NotImplementedError\n",
    "    \n",
    "#grid_search(y, tx, [-100], [-150])"
   ]
  },
  {
   "cell_type": "markdown",
   "metadata": {},
   "source": [
    "Let us play with the grid search demo now!"
   ]
  },
  {
   "cell_type": "code",
   "execution_count": 11,
   "metadata": {
    "collapsed": false
   },
   "outputs": [
    {
     "name": "stdout",
     "output_type": "stream",
     "text": [
      "[[-100.]\n",
      " [-150.]]\n",
      "[[-100.        ]\n",
      " [-116.66666667]]\n",
      "[[-100.        ]\n",
      " [ -83.33333333]]\n",
      "[[-100.]\n",
      " [ -50.]]\n",
      "[[-100.        ]\n",
      " [ -16.66666667]]\n",
      "[[-100.        ]\n",
      " [  16.66666667]]\n",
      "[[-100.]\n",
      " [  50.]]\n",
      "[[-100.        ]\n",
      " [  83.33333333]]\n",
      "[[-100.        ]\n",
      " [ 116.66666667]]\n",
      "[[-100.]\n",
      " [ 150.]]\n",
      "[[ -66.66666667]\n",
      " [-150.        ]]\n",
      "[[ -66.66666667]\n",
      " [-116.66666667]]\n",
      "[[-66.66666667]\n",
      " [-83.33333333]]\n",
      "[[-66.66666667]\n",
      " [-50.        ]]\n",
      "[[-66.66666667]\n",
      " [-16.66666667]]\n",
      "[[-66.66666667]\n",
      " [ 16.66666667]]\n",
      "[[-66.66666667]\n",
      " [ 50.        ]]\n",
      "[[-66.66666667]\n",
      " [ 83.33333333]]\n",
      "[[ -66.66666667]\n",
      " [ 116.66666667]]\n",
      "[[ -66.66666667]\n",
      " [ 150.        ]]\n",
      "[[ -33.33333333]\n",
      " [-150.        ]]\n",
      "[[ -33.33333333]\n",
      " [-116.66666667]]\n",
      "[[-33.33333333]\n",
      " [-83.33333333]]\n",
      "[[-33.33333333]\n",
      " [-50.        ]]\n",
      "[[-33.33333333]\n",
      " [-16.66666667]]\n",
      "[[-33.33333333]\n",
      " [ 16.66666667]]\n",
      "[[-33.33333333]\n",
      " [ 50.        ]]\n",
      "[[-33.33333333]\n",
      " [ 83.33333333]]\n",
      "[[ -33.33333333]\n",
      " [ 116.66666667]]\n",
      "[[ -33.33333333]\n",
      " [ 150.        ]]\n",
      "[[   0.]\n",
      " [-150.]]\n",
      "[[   0.        ]\n",
      " [-116.66666667]]\n",
      "[[  0.        ]\n",
      " [-83.33333333]]\n",
      "[[  0.]\n",
      " [-50.]]\n",
      "[[  0.        ]\n",
      " [-16.66666667]]\n",
      "[[  0.        ]\n",
      " [ 16.66666667]]\n",
      "[[  0.]\n",
      " [ 50.]]\n",
      "[[  0.        ]\n",
      " [ 83.33333333]]\n",
      "[[   0.        ]\n",
      " [ 116.66666667]]\n",
      "[[   0.]\n",
      " [ 150.]]\n",
      "[[  33.33333333]\n",
      " [-150.        ]]\n",
      "[[  33.33333333]\n",
      " [-116.66666667]]\n",
      "[[ 33.33333333]\n",
      " [-83.33333333]]\n",
      "[[ 33.33333333]\n",
      " [-50.        ]]\n",
      "[[ 33.33333333]\n",
      " [-16.66666667]]\n",
      "[[ 33.33333333]\n",
      " [ 16.66666667]]\n",
      "[[ 33.33333333]\n",
      " [ 50.        ]]\n",
      "[[ 33.33333333]\n",
      " [ 83.33333333]]\n",
      "[[  33.33333333]\n",
      " [ 116.66666667]]\n",
      "[[  33.33333333]\n",
      " [ 150.        ]]\n",
      "[[  66.66666667]\n",
      " [-150.        ]]\n",
      "[[  66.66666667]\n",
      " [-116.66666667]]\n",
      "[[ 66.66666667]\n",
      " [-83.33333333]]\n",
      "[[ 66.66666667]\n",
      " [-50.        ]]\n",
      "[[ 66.66666667]\n",
      " [-16.66666667]]\n",
      "[[ 66.66666667]\n",
      " [ 16.66666667]]\n",
      "[[ 66.66666667]\n",
      " [ 50.        ]]\n",
      "[[ 66.66666667]\n",
      " [ 83.33333333]]\n",
      "[[  66.66666667]\n",
      " [ 116.66666667]]\n",
      "[[  66.66666667]\n",
      " [ 150.        ]]\n",
      "[[ 100.]\n",
      " [-150.]]\n",
      "[[ 100.        ]\n",
      " [-116.66666667]]\n",
      "[[ 100.        ]\n",
      " [ -83.33333333]]\n",
      "[[ 100.]\n",
      " [ -50.]]\n",
      "[[ 100.        ]\n",
      " [ -16.66666667]]\n",
      "[[ 100.        ]\n",
      " [  16.66666667]]\n",
      "[[ 100.]\n",
      " [  50.]]\n",
      "[[ 100.        ]\n",
      " [  83.33333333]]\n",
      "[[ 100.        ]\n",
      " [ 116.66666667]]\n",
      "[[ 100.]\n",
      " [ 150.]]\n",
      "[[ 133.33333333]\n",
      " [-150.        ]]\n",
      "[[ 133.33333333]\n",
      " [-116.66666667]]\n",
      "[[ 133.33333333]\n",
      " [ -83.33333333]]\n",
      "[[ 133.33333333]\n",
      " [ -50.        ]]\n",
      "[[ 133.33333333]\n",
      " [ -16.66666667]]\n",
      "[[ 133.33333333]\n",
      " [  16.66666667]]\n",
      "[[ 133.33333333]\n",
      " [  50.        ]]\n",
      "[[ 133.33333333]\n",
      " [  83.33333333]]\n",
      "[[ 133.33333333]\n",
      " [ 116.66666667]]\n",
      "[[ 133.33333333]\n",
      " [ 150.        ]]\n",
      "[[ 166.66666667]\n",
      " [-150.        ]]\n",
      "[[ 166.66666667]\n",
      " [-116.66666667]]\n",
      "[[ 166.66666667]\n",
      " [ -83.33333333]]\n",
      "[[ 166.66666667]\n",
      " [ -50.        ]]\n",
      "[[ 166.66666667]\n",
      " [ -16.66666667]]\n",
      "[[ 166.66666667]\n",
      " [  16.66666667]]\n",
      "[[ 166.66666667]\n",
      " [  50.        ]]\n",
      "[[ 166.66666667]\n",
      " [  83.33333333]]\n",
      "[[ 166.66666667]\n",
      " [ 116.66666667]]\n",
      "[[ 166.66666667]\n",
      " [ 150.        ]]\n",
      "[[ 200.]\n",
      " [-150.]]\n",
      "[[ 200.        ]\n",
      " [-116.66666667]]\n",
      "[[ 200.        ]\n",
      " [ -83.33333333]]\n",
      "[[ 200.]\n",
      " [ -50.]]\n",
      "[[ 200.        ]\n",
      " [ -16.66666667]]\n",
      "[[ 200.        ]\n",
      " [  16.66666667]]\n",
      "[[ 200.]\n",
      " [  50.]]\n",
      "[[ 200.        ]\n",
      " [  83.33333333]]\n",
      "[[ 200.        ]\n",
      " [ 116.66666667]]\n",
      "[[ 200.]\n",
      " [ 150.]]\n",
      "Grid Search: loss*=267086357063266.34, w0*=66.66666666666669, w1*=16.666666666666686, execution time=453.141 seconds\n"
     ]
    },
    {
     "data": {
      "image/png": "[encoded data removed]",
      "text/plain": [
       "<matplotlib.figure.Figure at 0x10cd40f28>"
      ]
     },
     "metadata": {},
     "output_type": "display_data"
    }
   ],
   "source": [
    "from grid_search import generate_w, get_best_parameters\n",
    "from plots import grid_visualization\n",
    "import datetime\n",
    "\n",
    "# Generate the grid of parameters to be swept\n",
    "grid_w0, grid_w1 = generate_w(num_intervals=10)\n",
    "# Start the grid search\n",
    "start_time = datetime.datetime.now()\n",
    "grid_losses = grid_search(y, tx, grid_w0, grid_w1)\n",
    "\n",
    "# Select the best combinaison\n",
    "loss_star, w0_star, w1_star = get_best_parameters(grid_w0, grid_w1, grid_losses)\n",
    "end_time = datetime.datetime.now()\n",
    "execution_time = (end_time - start_time).total_seconds()\n",
    "\n",
    "# Print the results\n",
    "print(\"Grid Search: loss*={l}, w0*={w0}, w1*={w1}, execution time={t:.3f} seconds\".format(\n",
    "      l=loss_star, w0=w0_star, w1=w1_star, t=execution_time))\n",
    "\n",
    "# Plot the results\n",
    "fig = grid_visualization(grid_losses, grid_w0, grid_w1, mean_x, std_x, height, weight)\n",
    "fig.set_size_inches(10.0,6.0)\n",
    "fig.savefig(\"grid_plot\")  # Optional saving"
   ]
  },
  {
   "cell_type": "markdown",
   "metadata": {},
   "source": [
    "# Gradient Descent"
   ]
  },
  {
   "cell_type": "markdown",
   "metadata": {},
   "source": [
    "Again, please fill in the functions `compute_gradient` below:"
   ]
  },
  {
   "cell_type": "code",
   "execution_count": 74,
   "metadata": {
    "collapsed": false
   },
   "outputs": [
    {
     "data": {
      "text/plain": [
       "array([[  98.],\n",
       "       [ 980.]])"
      ]
     },
     "execution_count": 74,
     "metadata": {},
     "output_type": "execute_result"
    }
   ],
   "source": [
    "def compute_gradient(y, tx, w):\n",
    "    \"\"\"Compute the gradient.\"\"\"\n",
    "    # ***************************************************\n",
    "    # INSERT YOUR CODE HERE\n",
    "    # TODO: compute gradient and loss\n",
    "    # ***************************************************\n",
    "    N = y.shape[0]\n",
    "    normalization = 1/N\n",
    "    w = np.transpose(np.array([w]))\n",
    "    der_w0 = normalization * np.sum(y - np.dot(tx, w))\n",
    "    \n",
    "#     print(tx[:,1])\n",
    "#     print(np.dot(tx, w))\n",
    "#     print(np.dot(y - np.dot(tx, w), tx[:,1]))\n",
    "\n",
    "    der_w1 = normalization * np.sum(np.dot(y - np.dot(tx, w), tx[:,1]))\n",
    "    gradient = np.array([[der_w0], [der_w1]])\n",
    "    return gradient\n",
    "    raise NotImplementedError\n",
    "\n",
    "compute_gradient(np.array([[100]]), np.array([[1, 10]]), np.array([[1],[0.1]]))"
   ]
  },
  {
   "cell_type": "markdown",
   "metadata": {},
   "source": [
    "Please fill in the functions `gradient_descent` below:"
   ]
  },
  {
   "cell_type": "code",
   "execution_count": 75,
   "metadata": {
    "collapsed": false
   },
   "outputs": [
    {
     "name": "stdout",
     "output_type": "stream",
     "text": [
      "y: \n",
      "[[100]]\n",
      "tx: \n",
      "[[ 1 10]]\n",
      "W: \n",
      "[0 0]\n",
      "Gradient Descent(0/0): loss=5000.0, w0=[-40. -40.], w1=[-400. -400.]\n"
     ]
    },
    {
     "data": {
      "text/plain": [
       "([5000.0], [array([0, 0]), array([[ -40., -400.],\n",
       "         [ -40., -400.]])])"
      ]
     },
     "execution_count": 75,
     "metadata": {},
     "output_type": "execute_result"
    }
   ],
   "source": [
    "def gradient_descent(y, tx, initial_w, max_iters, gamma): \n",
    "    \"\"\"Gradient descent algorithm.\"\"\"\n",
    "    # Define parameters to store w and loss\n",
    "    ws = [initial_w]\n",
    "    losses = []\n",
    "    w = initial_w\n",
    "    for n_iter in range(max_iters):\n",
    "        # ***************************************************\n",
    "        # INSERT YOUR CODE HERE\n",
    "        # TODO: compute gradient and loss\n",
    "        # ***************************************************\n",
    "        \n",
    "        print(\"y: \")\n",
    "        print(y)\n",
    "        print(\"tx: \")\n",
    "        print(tx)\n",
    "        print(\"W: \")\n",
    "        print(w)\n",
    "        \n",
    "        gradient = compute_gradient(y, tx, w)\n",
    "        loss = compute_loss(y, tx, w)\n",
    "        #raise NotImplementedError\n",
    "        # ***************************************************\n",
    "        # INSERT YOUR CODE HERE\n",
    "        # TODO: update w by gradient\n",
    "        # ***************************************************\n",
    "        \n",
    "#         print(\"Gamma: \")\n",
    "#         print(gamma)\n",
    "#         print(\"Gradient: \")\n",
    "#         print(gradient)\n",
    "        \n",
    "        w = w - (gamma * gradient)\n",
    "        \n",
    "        print(\"new w: \")\n",
    "        print(w)\n",
    "        #raise NotImplementedError\n",
    "        # store w and loss\n",
    "        ws.append(np.copy(np.transpose(w)))\n",
    "        losses.append(loss)\n",
    "        print(\"Gradient Descent({bi}/{ti}): loss={l}, w0={w0}, w1={w1}\".format(\n",
    "              bi=n_iter, ti=max_iters - 1, l=loss, w0=w[0], w1=w[1]))\n",
    "\n",
    "    return losses, ws\n",
    "\n",
    "gradient_descent(np.array([[100]]), np.array([[1, 10]]), np.array([0, 0]), 1, 0.4)"
   ]
  },
  {
   "cell_type": "markdown",
   "metadata": {},
   "source": [
    "Test your gradient descent function through gradient descent demo shown below:"
   ]
  },
  {
   "cell_type": "code",
   "execution_count": 71,
   "metadata": {
    "collapsed": false
   },
   "outputs": [
    {
     "name": "stdout",
     "output_type": "stream",
     "text": [
      "Gradient Descent(0/4): loss=662844512548647.6, w0=[ 106924.31199158], w1=[-53898.84973996]\n",
      "Gradient Descent(1/4): loss=7.161113139134982e+21, w0=[  4.27510997e+08], w1=[-107817.69948041]\n",
      "Gradient Descent(2/4): loss=9.138280058118984e+28, w0=[  1.71047120e+12], w1=[-161736.55119581]\n",
      "Gradient Descent(3/4): loss=1.4628558700427502e+36, w0=[  6.84359529e+15], w1=[-215663.31604581]\n",
      "Gradient Descent(4/4): loss=2.3417398230500033e+43, w0=[  2.73812247e+19], w1=[-301281.34868581]\n",
      "Gradient Descent: execution time=28.408 seconds\n"
     ]
    }
   ],
   "source": [
    "from plots import gradient_descent_visualization\n",
    "\n",
    "# Define the parameters of the algorithm.\n",
    "max_iters = 5\n",
    "gamma = 0.4\n",
    "\n",
    "# Initialization\n",
    "w_initial = np.array([100.0, 20.0])\n",
    "\n",
    "# Start gradient descent.\n",
    "start_time = datetime.datetime.now()\n",
    "gradient_losses, gradient_ws = gradient_descent(y, tx, w_initial, max_iters, gamma)\n",
    "end_time = datetime.datetime.now()\n",
    "\n",
    "# Print result\n",
    "exection_time = (end_time - start_time).total_seconds()\n",
    "print(\"Gradient Descent: execution time={t:.3f} seconds\".format(t=exection_time))"
   ]
  },
  {
   "cell_type": "code",
   "execution_count": 72,
   "metadata": {
    "collapsed": false
   },
   "outputs": [
    {
     "ename": "ValueError",
     "evalue": "all input arrays must have the same shape",
     "output_type": "error",
     "traceback": [
      "\u001b[0;31m---------------------------------------------------------------------------\u001b[0m",
      "\u001b[0;31mValueError\u001b[0m                                Traceback (most recent call last)",
      "\u001b[0;32m<ipython-input-72-556982b50f30>\u001b[0m in \u001b[0;36mplot_figure\u001b[0;34m(n_iter)\u001b[0m\n\u001b[1;32m      3\u001b[0m \u001b[0;32mdef\u001b[0m \u001b[0mplot_figure\u001b[0m\u001b[0;34m(\u001b[0m\u001b[0mn_iter\u001b[0m\u001b[0;34m)\u001b[0m\u001b[0;34m:\u001b[0m\u001b[0;34m\u001b[0m\u001b[0m\n\u001b[1;32m      4\u001b[0m     fig = gradient_descent_visualization(\n\u001b[0;32m----> 5\u001b[0;31m         gradient_losses, gradient_ws, grid_losses, grid_w0, grid_w1, mean_x, std_x, height, weight, n_iter)\n\u001b[0m\u001b[1;32m      6\u001b[0m     \u001b[0mfig\u001b[0m\u001b[0;34m.\u001b[0m\u001b[0mset_size_inches\u001b[0m\u001b[0;34m(\u001b[0m\u001b[0;36m10.0\u001b[0m\u001b[0;34m,\u001b[0m \u001b[0;36m6.0\u001b[0m\u001b[0;34m)\u001b[0m\u001b[0;34m\u001b[0m\u001b[0m\n\u001b[1;32m      7\u001b[0m \u001b[0;34m\u001b[0m\u001b[0m\n",
      "\u001b[0;32m/Users/mateusz/Dropbox/EPFL/Semester I/Machnie Learning CS-433/Git Source/ML_course/labs/ex02/template/plots.py\u001b[0m in \u001b[0;36mgradient_descent_visualization\u001b[0;34m(gradient_losses, gradient_ws, grid_losses, grid_w0, grid_w1, mean_x, std_x, height, weight, n_iter)\u001b[0m\n\u001b[1;32m     65\u001b[0m         grid_losses, grid_w0, grid_w1, mean_x, std_x, height, weight)\n\u001b[1;32m     66\u001b[0m \u001b[0;34m\u001b[0m\u001b[0m\n\u001b[0;32m---> 67\u001b[0;31m     \u001b[0mws_to_be_plotted\u001b[0m \u001b[0;34m=\u001b[0m \u001b[0mnp\u001b[0m\u001b[0;34m.\u001b[0m\u001b[0mstack\u001b[0m\u001b[0;34m(\u001b[0m\u001b[0mgradient_ws\u001b[0m\u001b[0;34m)\u001b[0m\u001b[0;34m\u001b[0m\u001b[0m\n\u001b[0m\u001b[1;32m     68\u001b[0m     \u001b[0;32mif\u001b[0m \u001b[0mn_iter\u001b[0m \u001b[0;32mis\u001b[0m \u001b[0;32mnot\u001b[0m \u001b[0;32mNone\u001b[0m\u001b[0;34m:\u001b[0m\u001b[0;34m\u001b[0m\u001b[0m\n\u001b[1;32m     69\u001b[0m         \u001b[0mws_to_be_plotted\u001b[0m \u001b[0;34m=\u001b[0m \u001b[0mws_to_be_plotted\u001b[0m\u001b[0;34m[\u001b[0m\u001b[0;34m:\u001b[0m\u001b[0mn_iter\u001b[0m\u001b[0;34m]\u001b[0m\u001b[0;34m\u001b[0m\u001b[0m\n",
      "\u001b[0;32m//anaconda/lib/python3.5/site-packages/numpy/core/shape_base.py\u001b[0m in \u001b[0;36mstack\u001b[0;34m(arrays, axis)\u001b[0m\n\u001b[1;32m    337\u001b[0m     \u001b[0mshapes\u001b[0m \u001b[0;34m=\u001b[0m \u001b[0mset\u001b[0m\u001b[0;34m(\u001b[0m\u001b[0marr\u001b[0m\u001b[0;34m.\u001b[0m\u001b[0mshape\u001b[0m \u001b[0;32mfor\u001b[0m \u001b[0marr\u001b[0m \u001b[0;32min\u001b[0m \u001b[0marrays\u001b[0m\u001b[0;34m)\u001b[0m\u001b[0;34m\u001b[0m\u001b[0m\n\u001b[1;32m    338\u001b[0m     \u001b[0;32mif\u001b[0m \u001b[0mlen\u001b[0m\u001b[0;34m(\u001b[0m\u001b[0mshapes\u001b[0m\u001b[0;34m)\u001b[0m \u001b[0;34m!=\u001b[0m \u001b[0;36m1\u001b[0m\u001b[0;34m:\u001b[0m\u001b[0;34m\u001b[0m\u001b[0m\n\u001b[0;32m--> 339\u001b[0;31m         \u001b[0;32mraise\u001b[0m \u001b[0mValueError\u001b[0m\u001b[0;34m(\u001b[0m\u001b[0;34m'all input arrays must have the same shape'\u001b[0m\u001b[0;34m)\u001b[0m\u001b[0;34m\u001b[0m\u001b[0m\n\u001b[0m\u001b[1;32m    340\u001b[0m \u001b[0;34m\u001b[0m\u001b[0m\n\u001b[1;32m    341\u001b[0m     \u001b[0mresult_ndim\u001b[0m \u001b[0;34m=\u001b[0m \u001b[0marrays\u001b[0m\u001b[0;34m[\u001b[0m\u001b[0;36m0\u001b[0m\u001b[0;34m]\u001b[0m\u001b[0;34m.\u001b[0m\u001b[0mndim\u001b[0m \u001b[0;34m+\u001b[0m \u001b[0;36m1\u001b[0m\u001b[0;34m\u001b[0m\u001b[0m\n",
      "\u001b[0;31mValueError\u001b[0m: all input arrays must have the same shape"
     ]
    },
    {
     "data": {
      "text/plain": [
       "<function __main__.plot_figure>"
      ]
     },
     "execution_count": 72,
     "metadata": {},
     "output_type": "execute_result"
    },
    {
     "data": {
      "image/png": "[encoded data removed]",
      "text/plain": [
       "<matplotlib.figure.Figure at 0x10cccf400>"
      ]
     },
     "metadata": {},
     "output_type": "display_data"
    }
   ],
   "source": [
    "# Time Visualization\n",
    "from ipywidgets import IntSlider, interact\n",
    "def plot_figure(n_iter):\n",
    "    fig = gradient_descent_visualization(\n",
    "        gradient_losses, gradient_ws, grid_losses, grid_w0, grid_w1, mean_x, std_x, height, weight, n_iter)\n",
    "    fig.set_size_inches(10.0, 6.0)\n",
    "\n",
    "interact(plot_figure, n_iter=IntSlider(min=1, max=len(gradient_ws)))"
   ]
  },
  {
   "cell_type": "markdown",
   "metadata": {},
   "source": [
    "# Stochastic gradient descent"
   ]
  },
  {
   "cell_type": "code",
   "execution_count": null,
   "metadata": {
    "collapsed": true
   },
   "outputs": [],
   "source": [
    "def compute_stoch_gradient(y, tx, w):\n",
    "    \"\"\"Compute a stochastic gradient for batch data.\"\"\"\n",
    "    # ***************************************************\n",
    "    # INSERT YOUR CODE HERE\n",
    "    # TODO: implement stochastic gradient computation.\n",
    "    # ***************************************************\n",
    "    raise NotImplementedError\n",
    "\n",
    "\n",
    "def stochastic_gradient_descent(\n",
    "        y, tx, initial_w, batch_size, max_epochs, gamma):\n",
    "    \"\"\"Stochastic gradient descent algorithm.\"\"\"\n",
    "    # ***************************************************\n",
    "    # INSERT YOUR CODE HERE\n",
    "    # TODO: implement stochastic gradient descent.\n",
    "    # ***************************************************\n",
    "    raise NotImplementedError\n",
    "    return losses, ws"
   ]
  },
  {
   "cell_type": "code",
   "execution_count": null,
   "metadata": {
    "collapsed": true
   },
   "outputs": [],
   "source": [
    "# Define the parameters of the algorithm.\n",
    "max_iters = 50\n",
    "gamma = 0.4\n",
    "batch_size = 1\n",
    "\n",
    "# Initialization\n",
    "w_initial = np.array([0.0, 0.0])\n",
    "\n",
    "# Start SGD.\n",
    "start_time = datetime.datetime.now()\n",
    "gradient_losses, gradient_ws = stochastic_gradient_descent(\n",
    "    y, tx, w_initial, batch_size, max_iters, gamma)\n",
    "end_time = datetime.datetime.now()\n",
    "\n",
    "# Print result\n",
    "exection_time = (end_time - start_time).total_seconds()\n",
    "print(\"SGD: execution time={t:.3f} seconds\".format(t=exection_time))"
   ]
  },
  {
   "cell_type": "code",
   "execution_count": null,
   "metadata": {
    "collapsed": true
   },
   "outputs": [],
   "source": [
    "# Time Visualization\n",
    "from ipywidgets import IntSlider, interact\n",
    "def plot_figure(n_iter):\n",
    "    fig = gradient_descent_visualization(\n",
    "        gradient_losses, gradient_ws, grid_losses, grid_w0, grid_w1, mean_x, std_x, height, weight, n_iter)\n",
    "    fig.set_size_inches(10.0, 6.0)\n",
    "\n",
    "interact(plot_figure, n_iter=IntSlider(min=1, max=len(gradient_ws)))"
   ]
  }
 ],
 "metadata": {
  "anaconda-cloud": {},
  "kernelspec": {
   "display_name": "Python [Root]",
   "language": "python",
   "name": "Python [Root]"
  },
  "language_info": {
   "codemirror_mode": {
    "name": "ipython",
    "version": 3
   },
   "file_extension": ".py",
   "mimetype": "text/x-python",
   "name": "python",
   "nbconvert_exporter": "python",
   "pygments_lexer": "ipython3",
   "version": "3.5.2"
  }
 },
 "nbformat": 4,
 "nbformat_minor": 0
}
