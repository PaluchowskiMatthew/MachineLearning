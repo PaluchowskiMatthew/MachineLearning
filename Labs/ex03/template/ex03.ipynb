{
 "cells": [
  {
   "cell_type": "code",
   "execution_count": 2,
   "metadata": {
    "collapsed": false
   },
   "outputs": [],
   "source": [
    "# Useful starting lines\n",
    "%matplotlib inline\n",
    "import numpy as np\n",
    "import matplotlib.pyplot as plt\n",
    "%load_ext autoreload\n",
    "%autoreload 2\n",
    "\n",
    "def compute_loss(y, tx, w):\n",
    "    \"\"\"Calculate the loss.\n",
    "\n",
    "    You can calculate the loss using mse or mae.\n",
    "    \"\"\"\n",
    "    # ***************************************************\n",
    "    # INSERT YOUR CODE HERE\n",
    "    # TODO: compute loss by MSE / MAE\n",
    "    # ***************************************************\n",
    "    normalization = 1/(2*y.shape[0])\n",
    "    yy = np.array([y]).T\n",
    "\n",
    "    MSE = normalization * np.sum(np.power( yy - np.dot(tx, w), 2))\n",
    "    return MSE\n",
    "    raise NotImplementedError\n",
    "    \n",
    "def compute_mse(y, tx, beta):\n",
    "    \"\"\"compute the loss by mse.\"\"\"\n",
    "    e = y - tx.dot(beta)\n",
    "    mse = e.dot(e) / (2 * len(e))\n",
    "    return mse"
   ]
  },
  {
   "cell_type": "markdown",
   "metadata": {},
   "source": [
    "# Least squares and linear basis functions models\n",
    "## Least squares"
   ]
  },
  {
   "cell_type": "code",
   "execution_count": 2,
   "metadata": {
    "collapsed": false
   },
   "outputs": [
    {
     "data": {
      "text/plain": [
       "(6.7329278260613358e-28, array([[-6. ],\n",
       "        [ 5.5]]))"
      ]
     },
     "execution_count": 2,
     "metadata": {},
     "output_type": "execute_result"
    }
   ],
   "source": [
    "def least_squares(y, tx):\n",
    "    \"\"\"calculate the least squares solution.\"\"\"\n",
    "    # ***************************************************\n",
    "    # INSERT YOUR CODE HERE\n",
    "    # least squares: TODO\n",
    "    # returns mse, and optimal weights\n",
    "    # ***************************************************\n",
    "    w = np.array([np.dot(np.dot(np.linalg.inv(np.dot(tx.T, tx)), tx.T), y)]).T\n",
    "    mse = compute_loss(y, tx, w)\n",
    "    return mse, w\n",
    "    raise NotImplementedError\n",
    "    \n",
    "x = np.array([[1,2],[3,4],[5,6]])\n",
    "y = np.array([5,4,3])\n",
    "# print(np.array([np.dot(np.dot(np.linalg.inv(np.dot(x.T, x)), x.T), y)]).T)\n",
    "least_squares(y,x)\n"
   ]
  },
  {
   "cell_type": "markdown",
   "metadata": {},
   "source": [
    "### Load the data\n",
    "Here we will reuse the dataset `height_weight_genders.csv` from previous exercise section to check the correctness of your implementation. Please compare it with your previous result."
   ]
  },
  {
   "cell_type": "code",
   "execution_count": 3,
   "metadata": {
    "collapsed": false
   },
   "outputs": [
    {
     "name": "stdout",
     "output_type": "stream",
     "text": [
      "Grid Search: loss*=15.55870336860953, w0*=72.72727272727272, w1*=13.636363636363626\n",
      "Least Squares: mse=15.385887868829402, w0=73.2939220021052, w1=13.479712434989045.\n"
     ]
    }
   ],
   "source": [
    "from helpers import *\n",
    "def test_your_least_squares():\n",
    "    height, weight, gender = load_data_from_ex02(sub_sample=False, add_outlier=False)\n",
    "    x, mean_x, std_x = standardize(height)\n",
    "    y, tx = build_model_data(x, weight)\n",
    "    # ***************************************************\n",
    "    # INSERT YOUR CODE HERE\n",
    "    # least square or grid search: TODO\n",
    "    # this code should compare the optimal weights obtained \n",
    "    # by least squares vs. grid search\n",
    "    # ***************************************************\n",
    "    mse_ls, w_ls = least_squares(y, tx)\n",
    "    print(\"Grid Search: loss*=15.55870336860953, w0*=72.72727272727272, w1*=13.636363636363626\")\n",
    "    print(\"Least Squares: mse={0}, w0={1}, w1={2}.\".format(mse_ls, w_ls[0][0], w_ls[1][0]))\n",
    "    return\n",
    "    raise NotImplementedError\n",
    "\n",
    "test_your_least_squares()"
   ]
  },
  {
   "cell_type": "markdown",
   "metadata": {},
   "source": [
    "## Least squares with a linear basis function model\n",
    "Start from this section, we will use the dataset `dataEx3.csv`.\n",
    "\n",
    "### Implement polynomial basis functions"
   ]
  },
  {
   "cell_type": "code",
   "execution_count": 4,
   "metadata": {
    "collapsed": false,
    "scrolled": true
   },
   "outputs": [
    {
     "name": "stdout",
     "output_type": "stream",
     "text": [
      "shape of x (50,)\n",
      "shape of y (50,)\n"
     ]
    }
   ],
   "source": [
    "# load dataset\n",
    "x, y = load_data()\n",
    "print(\"shape of x {}\".format(x.shape))\n",
    "print(\"shape of y {}\".format(y.shape))"
   ]
  },
  {
   "cell_type": "code",
   "execution_count": 5,
   "metadata": {
    "collapsed": false
   },
   "outputs": [
    {
     "data": {
      "text/plain": [
       "array([[  1.00000000e+00,   3.52374910e-01,   1.24168077e-01],\n",
       "       [  1.00000000e+00,   4.89512330e+00,   2.39622321e+01],\n",
       "       [  1.00000000e+00,   1.86662437e+00,   3.48428655e+00],\n",
       "       [  1.00000000e+00,   3.50706129e+00,   1.22994789e+01],\n",
       "       [  1.00000000e+00,   3.38087384e+00,   1.14303079e+01],\n",
       "       [  1.00000000e+00,   7.30937276e-01,   5.34269301e-01],\n",
       "       [  1.00000000e+00,   3.88562366e+00,   1.50980712e+01],\n",
       "       [  1.00000000e+00,   5.65224803e+00,   3.19479078e+01],\n",
       "       [  1.00000000e+00,   6.28318531e+00,   3.94784176e+01],\n",
       "       [  1.00000000e+00,   2.37137419e+00,   5.62341557e+00],\n",
       "       [  1.00000000e+00,   6.04749821e-01,   3.65722346e-01],\n",
       "       [  1.00000000e+00,   3.63324875e+00,   1.32004965e+01],\n",
       "       [  1.00000000e+00,   8.57124731e-01,   7.34662804e-01],\n",
       "       [  1.00000000e+00,   2.49756165e+00,   6.23781420e+00],\n",
       "       [  1.00000000e+00,   1.61424946e+00,   2.60580133e+00],\n",
       "       [  1.00000000e+00,   5.39987312e+00,   2.91586297e+01],\n",
       "       [  1.00000000e+00,   6.15699785e+00,   3.79086225e+01],\n",
       "       [  1.00000000e+00,   6.03081040e+00,   3.63706740e+01],\n",
       "       [  1.00000000e+00,   4.78562366e-01,   2.29021938e-01],\n",
       "       [  1.00000000e+00,   2.87612401e+00,   8.27208935e+00],\n",
       "       [  1.00000000e+00,   4.51656093e+00,   2.03993227e+01],\n",
       "       [  1.00000000e+00,   9.83312187e-01,   9.66902857e-01],\n",
       "       [  1.00000000e+00,   1.10949964e+00,   1.23098946e+00],\n",
       "       [  1.00000000e+00,   1.00000000e-01,   1.00000000e-02],\n",
       "       [  1.00000000e+00,   2.11899928e+00,   4.49015797e+00],\n",
       "       [  1.00000000e+00,   1.36187455e+00,   1.85470230e+00],\n",
       "       [  1.00000000e+00,   4.01181111e+00,   1.60946284e+01],\n",
       "       [  1.00000000e+00,   5.77843549e+00,   3.33903167e+01],\n",
       "       [  1.00000000e+00,   4.26418602e+00,   1.81832824e+01],\n",
       "       [  1.00000000e+00,   1.23568710e+00,   1.52692260e+00],\n",
       "       [  1.00000000e+00,   2.24518674e+00,   5.04086349e+00],\n",
       "       [  1.00000000e+00,   1.99281183e+00,   3.97129899e+00],\n",
       "       [  1.00000000e+00,   1.48806201e+00,   2.21432854e+00],\n",
       "       [  1.00000000e+00,   4.64274839e+00,   2.15551126e+01],\n",
       "       [  1.00000000e+00,   4.39037348e+00,   1.92753793e+01],\n",
       "       [  1.00000000e+00,   3.00231147e+00,   9.01387417e+00],\n",
       "       [  1.00000000e+00,   2.26187455e-01,   5.11607648e-02],\n",
       "       [  1.00000000e+00,   5.27368567e+00,   2.78117605e+01],\n",
       "       [  1.00000000e+00,   5.02131076e+00,   2.52135617e+01],\n",
       "       [  1.00000000e+00,   5.52606058e+00,   3.05373455e+01],\n",
       "       [  1.00000000e+00,   2.62374910e+00,   6.88405937e+00],\n",
       "       [  1.00000000e+00,   4.76893584e+00,   2.27427491e+01],\n",
       "       [  1.00000000e+00,   3.12849893e+00,   9.78750553e+00],\n",
       "       [  1.00000000e+00,   1.74043692e+00,   3.02912067e+00],\n",
       "       [  1.00000000e+00,   3.75943620e+00,   1.41333606e+01],\n",
       "       [  1.00000000e+00,   3.25468638e+00,   1.05929834e+01],\n",
       "       [  1.00000000e+00,   5.90462294e+00,   3.48645721e+01],\n",
       "       [  1.00000000e+00,   4.13799857e+00,   1.71230321e+01],\n",
       "       [  1.00000000e+00,   2.74993656e+00,   7.56215108e+00],\n",
       "       [  1.00000000e+00,   5.14749821e+00,   2.64967378e+01]])"
      ]
     },
     "execution_count": 5,
     "metadata": {},
     "output_type": "execute_result"
    }
   ],
   "source": [
    "def build_poly(x, degree):\n",
    "    \"\"\"polynomial basis functions for input data x, for j=0 up to j=degree.\"\"\"\n",
    "    # ***************************************************\n",
    "    # INSERT YOUR CODE HERE\n",
    "    # polynomial basis function: TODO\n",
    "    # this function should return the matrix formed\n",
    "    # by applying the polynomial basis to the input data\n",
    "    # ***************************************************\n",
    "    phi = np.zeros((x.shape[0], degree+1))\n",
    "    for i in range(0, degree+1):\n",
    "        phi[:,i] = np.power(x,i)\n",
    "    return phi\n",
    "    raise NotImplementedError\n",
    "build_poly(x,2)"
   ]
  },
  {
   "cell_type": "markdown",
   "metadata": {},
   "source": [
    "Let us play with polynomial regression. Note that we will use your implemented function `compute_mse`. Please copy and paste your implementation from exercise02."
   ]
  },
  {
   "cell_type": "code",
   "execution_count": 6,
   "metadata": {
    "collapsed": false
   },
   "outputs": [
    {
     "name": "stdout",
     "output_type": "stream",
     "text": [
      "Processing 1th experiment, degree=1, rmse=0.47187607963421874\n",
      "Processing 2th experiment, degree=3, rmse=0.25858277667737484\n",
      "Processing 3th experiment, degree=7, rmse=0.24965870360907205\n",
      "Processing 4th experiment, degree=12, rmse=1.3106193798124992\n"
     ]
    },
    {
     "data": {
      "image/png": "[encoded data removed]",
      "text/plain": [
       "<matplotlib.figure.Figure at 0x10ef58b70>"
      ]
     },
     "metadata": {},
     "output_type": "display_data"
    }
   ],
   "source": [
    "from plots import *\n",
    "\n",
    "def polynomial_regression():\n",
    "    \"\"\"Constructing the polynomial basis function expansion of the data,\n",
    "       and then running least squares regression.\"\"\"\n",
    "    # define parameters\n",
    "    degrees = [1, 3, 7, 12]\n",
    "    \n",
    "    # define the structure of figure\n",
    "    num_row = 2\n",
    "    num_col = 2\n",
    "    f, axs = plt.subplots(num_row, num_col)\n",
    "\n",
    "    for ind, degree in enumerate(degrees):\n",
    "        phi = build_poly(x, degree)\n",
    "\n",
    "        mse, weight = least_squares(y, phi)\n",
    "        rmse = np.sqrt(2*mse)\n",
    "\n",
    "        print(\"Processing {i}th experiment, degree={d}, rmse={loss}\".format(\n",
    "              i=ind + 1, d=degree, loss=rmse))\n",
    "        # plot fit\n",
    "        plot_fitted_curve(\n",
    "            y, x, weight, degree, axs[ind // num_col][ind % num_col])\n",
    "    plt.tight_layout()\n",
    "    plt.savefig(\"visualize_polynomial_regression\")\n",
    "    plt.show()\n",
    "\n",
    "\n",
    "polynomial_regression()"
   ]
  },
  {
   "cell_type": "markdown",
   "metadata": {},
   "source": [
    "# Evaluating model predication performance\n",
    "\n",
    "Let us show the train and test splits for various polynomial degrees. First of all, please fill in the function `split_data()`"
   ]
  },
  {
   "cell_type": "code",
   "execution_count": 3,
   "metadata": {
    "collapsed": false,
    "scrolled": true
   },
   "outputs": [
    {
     "name": "stderr",
     "output_type": "stream",
     "text": [
      "/home/laz/anaconda3/lib/python3.5/site-packages/ipykernel/__main__.py:10: VisibleDeprecationWarning: using a non-integer number instead of an integer will result in an error in the future\n",
      "/home/laz/anaconda3/lib/python3.5/site-packages/ipykernel/__main__.py:11: VisibleDeprecationWarning: using a non-integer number instead of an integer will result in an error in the future\n",
      "/home/laz/anaconda3/lib/python3.5/site-packages/ipykernel/__main__.py:14: VisibleDeprecationWarning: using a non-integer number instead of an integer will result in an error in the future\n",
      "/home/laz/anaconda3/lib/python3.5/site-packages/ipykernel/__main__.py:15: VisibleDeprecationWarning: using a non-integer number instead of an integer will result in an error in the future\n"
     ]
    },
    {
     "data": {
      "text/plain": [
       "(array([2, 9, 6, 4, 0]),\n",
       " array([3, 1, 7, 8, 5]),\n",
       " array([2, 9, 6, 4, 0]),\n",
       " array([3, 1, 7, 8, 5]))"
      ]
     },
     "execution_count": 3,
     "metadata": {},
     "output_type": "execute_result"
    }
   ],
   "source": [
    "def split_data(x, y, ratio, seed=1):\n",
    "    \"\"\"split the dataset based on the split ratio.\"\"\"\n",
    "    # set seed\n",
    "    np.random.seed(seed)\n",
    "    shuffled_x = np.random.permutation(x)\n",
    "    np.random.seed(seed)\n",
    "    shuffled_y = np.random.permutation(y)\n",
    "    \n",
    "    test_x_size = shuffled_x.shape[0] * ratio\n",
    "    training_x = shuffled_x[0:test_x_size]\n",
    "    test_x = shuffled_x[-test_x_size:]\n",
    "    \n",
    "    test_y_size = shuffled_y.shape[0] * ratio\n",
    "    training_y = shuffled_y[0:test_y_size]\n",
    "    test_y = shuffled_y[-test_y_size:]\n",
    "\n",
    "    return training_x, test_x, training_y, test_y\n",
    "xx = np.array([0,1,2,3,4,5,6,7,8,9])\n",
    "yy = np.array([0,1,2,3,4,5,6,7,8,9])\n",
    "split_data(xx, yy, 0.5)"
   ]
  },
  {
   "cell_type": "markdown",
   "metadata": {},
   "source": [
    "Then, test your `split_data` function below."
   ]
  },
  {
   "cell_type": "code",
   "execution_count": 8,
   "metadata": {
    "collapsed": false
   },
   "outputs": [
    {
     "name": "stdout",
     "output_type": "stream",
     "text": [
      "proportion=0.9, degree=1, Training RMSE=0.455, Testing RMSE=0.456\n",
      "proportion=0.9, degree=3, Training RMSE=0.264, Testing RMSE=0.250\n",
      "proportion=0.9, degree=7, Training RMSE=0.257, Testing RMSE=0.244\n",
      "proportion=0.9, degree=12, Training RMSE=6.898, Testing RMSE=7.042\n",
      "proportion=0.5, degree=1, Training RMSE=0.400, Testing RMSE=0.553\n",
      "proportion=0.5, degree=3, Training RMSE=0.237, Testing RMSE=0.306\n",
      "proportion=0.5, degree=7, Training RMSE=0.218, Testing RMSE=0.336\n",
      "proportion=0.5, degree=12, Training RMSE=1.097, Testing RMSE=1.276\n",
      "proportion=0.1, degree=1, Training RMSE=0.453, Testing RMSE=0.904\n",
      "proportion=0.1, degree=3, Training RMSE=0.111, Testing RMSE=0.753\n",
      "proportion=0.1, degree=7, Training RMSE=1.375, Testing RMSE=3.637\n",
      "proportion=0.1, degree=12, Training RMSE=5.416, Testing RMSE=163.691\n"
     ]
    },
    {
     "name": "stderr",
     "output_type": "stream",
     "text": [
      "//anaconda/lib/python3.5/site-packages/ipykernel/__main__.py:10: VisibleDeprecationWarning: using a non-integer number instead of an integer will result in an error in the future\n",
      "//anaconda/lib/python3.5/site-packages/ipykernel/__main__.py:11: VisibleDeprecationWarning: using a non-integer number instead of an integer will result in an error in the future\n",
      "//anaconda/lib/python3.5/site-packages/ipykernel/__main__.py:14: VisibleDeprecationWarning: using a non-integer number instead of an integer will result in an error in the future\n",
      "//anaconda/lib/python3.5/site-packages/ipykernel/__main__.py:15: VisibleDeprecationWarning: using a non-integer number instead of an integer will result in an error in the future\n"
     ]
    }
   ],
   "source": [
    "def train_test_split_demo(x, y, degree, ratio, seed):\n",
    "    \"\"\"polynomial regression with different split ratios and different degrees.\"\"\"\n",
    "    # ***************************************************\n",
    "    train_x, test_x, train_y, test_y = split_data(x,y,ratio)\n",
    "    # ***************************************************\n",
    "    train_phi = build_poly(train_x, degree)\n",
    "    test_phi = build_poly(test_x, degree)\n",
    "    # ***************************************************\n",
    "    train_mse, train_weight = least_squares(train_y, train_phi)\n",
    "    test_mse = compute_loss(test_y, test_phi, train_weight)\n",
    "    # ***************************************************\n",
    "    rmse_tr = np.sqrt(2*train_mse)\n",
    "    rmse_te = np.sqrt(2*test_mse)\n",
    "\n",
    "    print(\"proportion={p}, degree={d}, Training RMSE={tr:.3f}, Testing RMSE={te:.3f}\".format(\n",
    "          p=ratio, d=degree, tr=rmse_tr, te=rmse_te))\n",
    "\n",
    "seed = 6\n",
    "degrees = [1, 3, 7, 12]\n",
    "split_ratios = [0.9, 0.5, 0.1]\n",
    "\n",
    "for split_ratio in split_ratios:\n",
    "    for degree in degrees:\n",
    "        train_test_split_demo(x, y, degree, split_ratio, seed)"
   ]
  },
  {
   "cell_type": "markdown",
   "metadata": {},
   "source": [
    "# Ridge Regression\n",
    "Please fill in the function below."
   ]
  },
  {
   "cell_type": "code",
   "execution_count": 9,
   "metadata": {
    "collapsed": false
   },
   "outputs": [
    {
     "data": {
      "text/plain": [
       "(6.7329278260613358e-28, array([[-6. ],\n",
       "        [ 5.5]]))"
      ]
     },
     "execution_count": 9,
     "metadata": {},
     "output_type": "execute_result"
    }
   ],
   "source": [
    "def ridge_regression(y, tx, lamb):\n",
    "    \"\"\"implement ridge regression.\"\"\"\n",
    "    # ***************************************************\n",
    "    N = tx.shape[0]\n",
    "    M = tx.shape[1]\n",
    "    w = np.array([np.dot(np.dot(np.linalg.inv(np.dot(tx.T, tx) + (2*N*lamb)*np.identity(M)), tx.T), y)]).T\n",
    "    mse = compute_loss(y, tx, w)\n",
    "    return mse, w\n",
    "    raise NotImplementedError\n",
    "    \n",
    "xx = np.array([[1,2],[3,4],[5,6]])\n",
    "yy = np.array([5,4,3])\n",
    "ridge_regression(yy,xx,0)\n",
    "\n",
    "# least_squares result:\n",
    "#     (6.7329278260613358e-28, array([[-6. ],\n",
    "#         [ 5.5]]))"
   ]
  },
  {
   "cell_type": "code",
   "execution_count": 10,
   "metadata": {
    "collapsed": false
   },
   "outputs": [
    {
     "data": {
      "image/png": "[encoded data removed]",
      "text/plain": [
       "<matplotlib.figure.Figure at 0x10ef58390>"
      ]
     },
     "metadata": {},
     "output_type": "display_data"
    }
   ],
   "source": [
    "def plot_ridge(y, x, lamb):\n",
    "    degrees = [1, 3, 7, 12]\n",
    "    \n",
    "    # define the structure of figure\n",
    "    num_row = 2\n",
    "    num_col = 2\n",
    "    f, axs = plt.subplots(num_row, num_col)\n",
    "\n",
    "    for ind, degree in enumerate(degrees):\n",
    "        # plot fit\n",
    "        ax = axs[ind // num_col][ind % num_col]\n",
    "    \n",
    "        ax.scatter(x, y, color='b', s=12, facecolors='none', edgecolors='r')\n",
    "        xvals = np.arange(min(x) - 0.1, max(x) + 0.1, 0.1)\n",
    "        tx = build_poly(x, degree)\n",
    "        mse, weights = ridge_regression(y, tx, lamb)\n",
    "        f = tx.dot(weights)\n",
    "        #ax.plot(x, f.T[0])\n",
    "        ax.scatter(x, f.T[0], color='r', s=10, facecolors='none', edgecolors='b')\n",
    "    plt.tight_layout()\n",
    "    plt.savefig(\"visualize_polynomial_regression\")\n",
    "    plt.show()\n",
    "plot_ridge(y, x, 0.025)"
   ]
  },
  {
   "cell_type": "code",
   "execution_count": 11,
   "metadata": {
    "collapsed": false
   },
   "outputs": [
    {
     "name": "stderr",
     "output_type": "stream",
     "text": [
      "//anaconda/lib/python3.5/site-packages/ipykernel/__main__.py:10: VisibleDeprecationWarning: using a non-integer number instead of an integer will result in an error in the future\n",
      "//anaconda/lib/python3.5/site-packages/ipykernel/__main__.py:11: VisibleDeprecationWarning: using a non-integer number instead of an integer will result in an error in the future\n",
      "//anaconda/lib/python3.5/site-packages/ipykernel/__main__.py:14: VisibleDeprecationWarning: using a non-integer number instead of an integer will result in an error in the future\n",
      "//anaconda/lib/python3.5/site-packages/ipykernel/__main__.py:15: VisibleDeprecationWarning: using a non-integer number instead of an integer will result in an error in the future\n"
     ]
    },
    {
     "data": {
      "image/png": "[encoded data removed]",
      "text/plain": [
       "<matplotlib.figure.Figure at 0x10edf80f0>"
      ]
     },
     "metadata": {},
     "output_type": "display_data"
    }
   ],
   "source": [
    "def ridge_regression_demo(x, y, degree, ratio, seed):\n",
    "    \"\"\"ridge regression demo.\"\"\"\n",
    "    # define parameter\n",
    "    lambdas = np.logspace(-3, 1, 10)    \n",
    "    # ***************************************************\n",
    "    train_x, test_x, train_y, test_y = split_data(x, y, ratio, seed)\n",
    "    # ***************************************************\n",
    "    train_phi = build_poly(train_x, degree)\n",
    "    test_phi = build_poly(test_x, degree)\n",
    "    # ***************************************************\n",
    "    train_rmses = np.array([])\n",
    "    test_rmses = np.array([])\n",
    "    for lambd in np.nditer(lambdas):\n",
    "        train_mse, train_weight = ridge_regression(train_y, train_phi, lambd)\n",
    "        test_mse = compute_loss(test_y, test_phi, train_weight)\n",
    "        rmse_tr = np.sqrt(2*train_mse)\n",
    "        rmse_te = np.sqrt(2*test_mse)\n",
    "    \n",
    "        train_rmses = np.append(train_rmses, rmse_tr)\n",
    "        test_rmses = np.append(test_rmses, rmse_te)\n",
    "\n",
    "    plt.semilogx(lambdas, train_rmses, 'r', lambdas, test_rmses, 'b')\n",
    "    plt.title('Ridge regression for polynomial degree 7')\n",
    "    plt.grid(True)\n",
    "    plt.xlabel('lambda')\n",
    "    plt.ylabel('RMSE')\n",
    "    plt.legend(['Train RMSE', 'Test RMSE'])\n",
    "\n",
    "seed = 6\n",
    "degree = 7\n",
    "split_ratio = 0.5\n",
    "ridge_regression_demo(x, y, degree, split_ratio, seed)"
   ]
  },
  {
   "cell_type": "code",
   "execution_count": null,
   "metadata": {
    "collapsed": true
   },
   "outputs": [],
   "source": []
  }
 ],
 "metadata": {
  "anaconda-cloud": {},
  "kernelspec": {
   "display_name": "Python [Root]",
   "language": "python",
   "name": "Python [Root]"
  },
  "language_info": {
   "codemirror_mode": {
    "name": "ipython",
    "version": 3
   },
   "file_extension": ".py",
   "mimetype": "text/x-python",
   "name": "python",
   "nbconvert_exporter": "python",
   "pygments_lexer": "ipython3",
   "version": "3.5.2"
  }
 },
 "nbformat": 4,
 "nbformat_minor": 0
}
